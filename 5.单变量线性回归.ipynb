{
 "cells": [
  {
   "cell_type": "markdown",
   "source": [
    "# B站：神奇的布欧\n",
    "# 微信：l1243278923"
   ],
   "metadata": {
    "collapsed": false
   }
  },
  {
   "cell_type": "code",
   "execution_count": 1,
   "metadata": {
    "collapsed": true,
    "ExecuteTime": {
     "start_time": "2024-02-26T17:35:21.263074Z",
     "end_time": "2024-02-26T17:35:22.692976Z"
    }
   },
   "outputs": [],
   "source": [
    "import torch\n",
    "import torch.nn as nn\n",
    "import torch.utils.data as Data\n",
    "import random\n",
    "import matplotlib .pyplot as plt"
   ]
  },
  {
   "cell_type": "markdown",
   "source": [
    "# 0. 判断GPU是否可用"
   ],
   "metadata": {
    "collapsed": false
   }
  },
  {
   "cell_type": "code",
   "execution_count": 2,
   "outputs": [],
   "source": [
    "device = torch.device(\"cuda:0\" if torch.cuda.is_available() else \"cpu\")"
   ],
   "metadata": {
    "collapsed": false,
    "ExecuteTime": {
     "start_time": "2024-02-26T17:36:30.225583Z",
     "end_time": "2024-02-26T17:36:30.242086Z"
    }
   }
  },
  {
   "cell_type": "markdown",
   "source": [
    "# 1. 数据预处理"
   ],
   "metadata": {
    "collapsed": false
   }
  },
  {
   "cell_type": "markdown",
   "source": [
    "# a. 生成数据函数"
   ],
   "metadata": {
    "collapsed": false
   }
  },
  {
   "cell_type": "code",
   "execution_count": 4,
   "outputs": [],
   "source": [
    "def getXyData():\n",
    "    x = random.random()\n",
    "    noiseData = random.random() * 0.5\n",
    "    y = 5 * x + 3 + noiseData\n",
    "    return x, y"
   ],
   "metadata": {
    "collapsed": false,
    "ExecuteTime": {
     "start_time": "2024-02-26T17:38:46.010396Z",
     "end_time": "2024-02-26T17:38:46.022851Z"
    }
   }
  },
  {
   "cell_type": "markdown",
   "source": [
    "# b. 定义数据集"
   ],
   "metadata": {
    "collapsed": false
   }
  },
  {
   "cell_type": "code",
   "execution_count": 6,
   "outputs": [],
   "source": [
    "class Dataset(Data.Dataset):\n",
    "    def __init__(self):\n",
    "        pass\n",
    "    def __len__(self):\n",
    "        return 500\n",
    "    def __getitem__(self, i):\n",
    "        x, y = getXyData()\n",
    "        xData = torch.FloatTensor([x])\n",
    "        yData = torch.FloatTensor([y])\n",
    "        return xData, yData"
   ],
   "metadata": {
    "collapsed": false,
    "ExecuteTime": {
     "start_time": "2024-02-26T17:41:53.221038Z",
     "end_time": "2024-02-26T17:41:53.235598Z"
    }
   }
  },
  {
   "cell_type": "code",
   "execution_count": 7,
   "outputs": [
    {
     "name": "stdout",
     "output_type": "stream",
     "text": [
      "长度： 500\n",
      "(tensor([0.4200]), tensor([5.3478]))\n"
     ]
    }
   ],
   "source": [
    "# 查看数据集\n",
    "dataset = Dataset()\n",
    "print(\"长度：\", len(dataset))\n",
    "print(dataset[0])"
   ],
   "metadata": {
    "collapsed": false,
    "ExecuteTime": {
     "start_time": "2024-02-26T17:42:48.276357Z",
     "end_time": "2024-02-26T17:42:48.289357Z"
    }
   }
  },
  {
   "cell_type": "code",
   "execution_count": 9,
   "outputs": [
    {
     "data": {
      "text/plain": "<Figure size 640x480 with 1 Axes>",
      "image/png": "[encoded data removed]"
     },
     "metadata": {},
     "output_type": "display_data"
    }
   ],
   "source": [
    "# 散点图\n",
    "tempxList = list()\n",
    "tempyList = list()\n",
    "for i in range(100):\n",
    "    x, y = getXyData()\n",
    "    tempxList.append(x)\n",
    "    tempyList.append(y)\n",
    "plt.scatter(tempxList, tempyList)\n",
    "plt.show()"
   ],
   "metadata": {
    "collapsed": false,
    "ExecuteTime": {
     "start_time": "2024-02-26T17:44:45.373097Z",
     "end_time": "2024-02-26T17:44:45.466193Z"
    }
   }
  },
  {
   "cell_type": "markdown",
   "source": [
    "# c. 定义数据集加载器"
   ],
   "metadata": {
    "collapsed": false
   }
  },
  {
   "cell_type": "code",
   "execution_count": 10,
   "outputs": [
    {
     "data": {
      "text/plain": "(31,\n [tensor([[0.1007],\n          [0.9448],\n          [0.0309],\n          [0.4248],\n          [0.7447],\n          [0.9478],\n          [0.2728],\n          [0.4392],\n          [0.9131],\n          [0.2058],\n          [0.4083],\n          [0.7482],\n          [0.5077],\n          [0.9232],\n          [0.0204],\n          [0.0581]]),\n  tensor([[3.7932],\n          [7.8086],\n          [3.4213],\n          [5.3226],\n          [7.1263],\n          [8.1563],\n          [4.5699],\n          [5.4213],\n          [7.9378],\n          [4.3343],\n          [5.2524],\n          [7.1902],\n          [5.8548],\n          [7.8431],\n          [3.3692],\n          [3.7648]])])"
     },
     "execution_count": 10,
     "metadata": {},
     "output_type": "execute_result"
    }
   ],
   "source": [
    "loader = Data.DataLoader(dataset=dataset,\n",
    "                         batch_size=16,\n",
    "                         shuffle=True,\n",
    "                         drop_last=True)\n",
    "len(loader), next(iter(loader))"
   ],
   "metadata": {
    "collapsed": false,
    "ExecuteTime": {
     "start_time": "2024-02-26T17:46:52.988062Z",
     "end_time": "2024-02-26T17:46:53.038116Z"
    }
   }
  },
  {
   "cell_type": "markdown",
   "source": [
    "# 2. 创建模型"
   ],
   "metadata": {
    "collapsed": false
   }
  },
  {
   "cell_type": "code",
   "execution_count": 11,
   "outputs": [],
   "source": [
    "class Model(nn.Module):\n",
    "    def __init__(self):\n",
    "        super(Model, self).__init__()\n",
    "        self.fc = nn.Sequential(\n",
    "            nn.Linear(in_features=1, out_features=16),\n",
    "            nn.ReLU(),\n",
    "            nn.Linear(in_features=16, out_features=32),\n",
    "            nn.ReLU(),\n",
    "            nn.Linear(in_features=32, out_features=1)\n",
    "        )\n",
    "\n",
    "    def forward(self, x):\n",
    "        return self.fc(x)"
   ],
   "metadata": {
    "collapsed": false,
    "ExecuteTime": {
     "start_time": "2024-02-26T17:51:17.824290Z",
     "end_time": "2024-02-26T17:51:17.837289Z"
    }
   }
  },
  {
   "cell_type": "code",
   "execution_count": 18,
   "outputs": [],
   "source": [
    "model = Model().to(device)"
   ],
   "metadata": {
    "collapsed": false,
    "ExecuteTime": {
     "start_time": "2024-02-26T17:59:46.694743Z",
     "end_time": "2024-02-26T17:59:46.700243Z"
    }
   }
  },
  {
   "cell_type": "code",
   "execution_count": 19,
   "outputs": [
    {
     "data": {
      "text/plain": "Model(\n  (fc): Sequential(\n    (0): Linear(in_features=1, out_features=16, bias=True)\n    (1): ReLU()\n    (2): Linear(in_features=16, out_features=32, bias=True)\n    (3): ReLU()\n    (4): Linear(in_features=32, out_features=1, bias=True)\n  )\n)"
     },
     "execution_count": 19,
     "metadata": {},
     "output_type": "execute_result"
    }
   ],
   "source": [
    "model"
   ],
   "metadata": {
    "collapsed": false,
    "ExecuteTime": {
     "start_time": "2024-02-26T17:59:46.824998Z",
     "end_time": "2024-02-26T17:59:46.848008Z"
    }
   }
  },
  {
   "cell_type": "markdown",
   "source": [
    "# 3. 训练"
   ],
   "metadata": {
    "collapsed": false
   }
  },
  {
   "cell_type": "code",
   "execution_count": 20,
   "outputs": [],
   "source": [
    "epochList = list()\n",
    "lossList = list()\n",
    "def train():\n",
    "    optimizer = torch.optim.Adam(model.parameters(), lr=1e-4)\n",
    "    loss_fun = nn.MSELoss()\n",
    "    model.train()\n",
    "    for epoch in range(200):\n",
    "        for x, y in loader:\n",
    "            out = model(x.to(device))\n",
    "            loss = loss_fun(out.to(\"cpu\"), y)\n",
    "            epochList.append(epoch)\n",
    "            lossList.append(loss.detach().numpy())\n",
    "            loss.backward()\n",
    "            optimizer.step()\n",
    "            optimizer.zero_grad()\n",
    "        if epoch % 5 == 0:\n",
    "            print(f\"epoch:{epoch}, 损失：{loss.item()}\")\n",
    "    torch.save(model, \"./5.单变量线性回归.model\")"
   ],
   "metadata": {
    "collapsed": false,
    "ExecuteTime": {
     "start_time": "2024-02-26T17:59:47.847399Z",
     "end_time": "2024-02-26T17:59:47.866160Z"
    }
   }
  },
  {
   "cell_type": "code",
   "execution_count": 21,
   "outputs": [
    {
     "name": "stdout",
     "output_type": "stream",
     "text": [
      "epoch:0, 损失：35.460262298583984\n",
      "epoch:5, 损失：28.308439254760742\n",
      "epoch:10, 损失：24.201873779296875\n",
      "epoch:15, 损失：22.634443283081055\n",
      "epoch:20, 损失：14.888924598693848\n",
      "epoch:25, 损失：12.847524642944336\n",
      "epoch:30, 损失：6.113092422485352\n",
      "epoch:35, 损失：4.013521194458008\n",
      "epoch:40, 损失：1.9975181818008423\n",
      "epoch:45, 损失：1.1373584270477295\n",
      "epoch:50, 损失：0.48265472054481506\n",
      "epoch:55, 损失：0.3234071135520935\n",
      "epoch:60, 损失：0.20264479517936707\n",
      "epoch:65, 损失：0.2600612938404083\n",
      "epoch:70, 损失：0.2610841691493988\n",
      "epoch:75, 损失：0.17747989296913147\n",
      "epoch:80, 损失：0.09916654229164124\n",
      "epoch:85, 损失：0.16654327511787415\n",
      "epoch:90, 损失：0.10950113087892532\n",
      "epoch:95, 损失：0.09289117157459259\n",
      "epoch:100, 损失：0.10469401627779007\n",
      "epoch:105, 损失：0.05439991131424904\n",
      "epoch:110, 损失：0.10391433537006378\n",
      "epoch:115, 损失：0.05853307992219925\n",
      "epoch:120, 损失：0.036682695150375366\n",
      "epoch:125, 损失：0.039679981768131256\n",
      "epoch:130, 损失：0.03340550884604454\n",
      "epoch:135, 损失：0.02362685650587082\n",
      "epoch:140, 损失：0.02654605731368065\n",
      "epoch:145, 损失：0.030627897009253502\n",
      "epoch:150, 损失：0.027165919542312622\n",
      "epoch:155, 损失：0.03417157754302025\n",
      "epoch:160, 损失：0.02936130203306675\n",
      "epoch:165, 损失：0.0247581098228693\n",
      "epoch:170, 损失：0.0275060273706913\n",
      "epoch:175, 损失：0.012656725011765957\n",
      "epoch:180, 损失：0.028944024816155434\n",
      "epoch:185, 损失：0.02533567324280739\n",
      "epoch:190, 损失：0.02231377363204956\n",
      "epoch:195, 损失：0.01901906542479992\n"
     ]
    }
   ],
   "source": [
    "train()"
   ],
   "metadata": {
    "collapsed": false,
    "ExecuteTime": {
     "start_time": "2024-02-26T17:59:49.426607Z",
     "end_time": "2024-02-26T17:59:56.478654Z"
    }
   }
  },
  {
   "cell_type": "markdown",
   "source": [
    "# 4. 测试"
   ],
   "metadata": {
    "collapsed": false
   }
  },
  {
   "cell_type": "code",
   "execution_count": 22,
   "outputs": [],
   "source": [
    "@torch.no_grad()\n",
    "def test():\n",
    "    model = torch.load(\"./5.单变量线性回归.model\").to(\"cpu\")\n",
    "    model.eval()\n",
    "    xData, yData = next(iter(loader))\n",
    "    out = model(xData)\n",
    "    return xData, yData, out"
   ],
   "metadata": {
    "collapsed": false,
    "ExecuteTime": {
     "start_time": "2024-02-26T18:02:24.543320Z",
     "end_time": "2024-02-26T18:02:24.558076Z"
    }
   }
  },
  {
   "cell_type": "code",
   "execution_count": 23,
   "outputs": [],
   "source": [
    "xData, yData, y_predict = test()"
   ],
   "metadata": {
    "collapsed": false,
    "ExecuteTime": {
     "start_time": "2024-02-26T18:02:49.335708Z",
     "end_time": "2024-02-26T18:02:49.360672Z"
    }
   }
  },
  {
   "cell_type": "code",
   "execution_count": 24,
   "outputs": [
    {
     "data": {
      "text/plain": "(tensor([0.3754]), tensor([5.3132]), tensor([5.1246]))"
     },
     "execution_count": 24,
     "metadata": {},
     "output_type": "execute_result"
    }
   ],
   "source": [
    "xData[0], yData[0], y_predict[0]"
   ],
   "metadata": {
    "collapsed": false,
    "ExecuteTime": {
     "start_time": "2024-02-26T18:03:04.039794Z",
     "end_time": "2024-02-26T18:03:04.057306Z"
    }
   }
  },
  {
   "cell_type": "code",
   "execution_count": 25,
   "outputs": [],
   "source": [
    "x1List = xData.numpy()\n",
    "yPreList = y_predict.detach().numpy()"
   ],
   "metadata": {
    "collapsed": false,
    "ExecuteTime": {
     "start_time": "2024-02-26T18:04:12.063358Z",
     "end_time": "2024-02-26T18:04:12.078375Z"
    }
   }
  },
  {
   "cell_type": "code",
   "execution_count": 26,
   "outputs": [
    {
     "data": {
      "text/plain": "<Figure size 640x480 with 1 Axes>",
      "image/png": "[encoded data removed]"
     },
     "metadata": {},
     "output_type": "display_data"
    }
   ],
   "source": [
    "plt.scatter(x1List, yData)\n",
    "plt.plot(x1List, yPreList, color=\"r\")\n",
    "plt.show()"
   ],
   "metadata": {
    "collapsed": false,
    "ExecuteTime": {
     "start_time": "2024-02-26T18:05:36.077235Z",
     "end_time": "2024-02-26T18:05:36.149363Z"
    }
   }
  },
  {
   "cell_type": "code",
   "execution_count": null,
   "outputs": [],
   "source": [],
   "metadata": {
    "collapsed": false
   }
  }
 ],
 "metadata": {
  "kernelspec": {
   "name": "pytorchpy39",
   "language": "python",
   "display_name": "pytorchpy39"
  },
  "language_info": {
   "codemirror_mode": {
    "name": "ipython",
    "version": 2
   },
   "file_extension": ".py",
   "mimetype": "text/x-python",
   "name": "python",
   "nbconvert_exporter": "python",
   "pygments_lexer": "ipython2",
   "version": "2.7.6"
  }
 },
 "nbformat": 4,
 "nbformat_minor": 0
}
