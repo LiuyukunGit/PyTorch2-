{
 "cells": [
  {
   "cell_type": "markdown",
   "source": [
    "# B站：神奇的布欧\n",
    "# 微信：l1243278923"
   ],
   "metadata": {
    "collapsed": false
   }
  },
  {
   "cell_type": "code",
   "execution_count": 1,
   "metadata": {
    "collapsed": true,
    "ExecuteTime": {
     "start_time": "2024-02-27T11:24:59.567707Z",
     "end_time": "2024-02-27T11:25:01.318505Z"
    }
   },
   "outputs": [],
   "source": [
    "import torch\n",
    "import torch.nn as nn\n",
    "import torch.utils.data as Data\n",
    "import numpy as np\n",
    "import pandas as pd\n",
    "from sklearn.preprocessing import StandardScaler\n",
    "from sklearn.model_selection import  train_test_split"
   ]
  },
  {
   "cell_type": "markdown",
   "source": [
    "# 0. 判断GPU是否可用"
   ],
   "metadata": {
    "collapsed": false
   }
  },
  {
   "cell_type": "code",
   "execution_count": 2,
   "outputs": [],
   "source": [
    "device = torch.device(\"cuda:0\" if torch.cuda.is_available() else \"cpu\")"
   ],
   "metadata": {
    "collapsed": false,
    "ExecuteTime": {
     "start_time": "2024-02-27T11:25:01.318009Z",
     "end_time": "2024-02-27T11:25:01.348625Z"
    }
   }
  },
  {
   "cell_type": "markdown",
   "source": [
    "# 1. 数据预处理"
   ],
   "metadata": {
    "collapsed": false
   }
  },
  {
   "cell_type": "code",
   "execution_count": 3,
   "outputs": [],
   "source": [
    "dataPath = \"./boston.csv\"\n",
    "df = pd.read_csv(dataPath)"
   ],
   "metadata": {
    "collapsed": false,
    "ExecuteTime": {
     "start_time": "2024-02-27T11:25:01.348625Z",
     "end_time": "2024-02-27T11:25:01.363790Z"
    }
   }
  },
  {
   "cell_type": "code",
   "execution_count": 4,
   "outputs": [
    {
     "data": {
      "text/plain": "(506, 13)"
     },
     "execution_count": 4,
     "metadata": {},
     "output_type": "execute_result"
    }
   ],
   "source": [
    "df.shape"
   ],
   "metadata": {
    "collapsed": false,
    "ExecuteTime": {
     "start_time": "2024-02-27T11:25:01.364286Z",
     "end_time": "2024-02-27T11:25:01.407364Z"
    }
   }
  },
  {
   "cell_type": "code",
   "execution_count": 5,
   "outputs": [
    {
     "name": "stdout",
     "output_type": "stream",
     "text": [
      "(506, 12)\n",
      "(506,)\n"
     ]
    }
   ],
   "source": [
    "x_data = df.iloc[:, :12].values\n",
    "y_data = df.MEDV.values\n",
    "print(x_data.shape)\n",
    "print(y_data.shape)"
   ],
   "metadata": {
    "collapsed": false,
    "ExecuteTime": {
     "start_time": "2024-02-27T11:25:01.379908Z",
     "end_time": "2024-02-27T11:25:01.416307Z"
    }
   }
  },
  {
   "cell_type": "code",
   "execution_count": 6,
   "outputs": [],
   "source": [
    "# 数据标准化\n",
    "scaler = StandardScaler()\n",
    "scaler.fit(x_data)\n",
    "x_data = scaler.transform(x_data)"
   ],
   "metadata": {
    "collapsed": false,
    "ExecuteTime": {
     "start_time": "2024-02-27T11:25:01.394811Z",
     "end_time": "2024-02-27T11:25:01.416801Z"
    }
   }
  },
  {
   "cell_type": "code",
   "execution_count": 7,
   "outputs": [],
   "source": [
    "# 数据集划分\n",
    "X_train, X_test, y_train, y_test = train_test_split(x_data, y_data, test_size=0.1, random_state=56)"
   ],
   "metadata": {
    "collapsed": false,
    "ExecuteTime": {
     "start_time": "2024-02-27T11:25:01.410840Z",
     "end_time": "2024-02-27T11:25:01.424876Z"
    }
   }
  },
  {
   "cell_type": "code",
   "execution_count": 8,
   "outputs": [],
   "source": [
    "# 转换为张量\n",
    "train_xt = torch.from_numpy(X_train.astype(np.float32))\n",
    "train_yt = torch.from_numpy(y_train.astype(np.float32))\n",
    "test_xt = torch.from_numpy(X_test.astype(np.float32))\n",
    "test_yt = torch.from_numpy(y_test.astype(np.float32))"
   ],
   "metadata": {
    "collapsed": false,
    "ExecuteTime": {
     "start_time": "2024-02-27T11:25:01.426366Z",
     "end_time": "2024-02-27T11:25:01.469059Z"
    }
   }
  },
  {
   "cell_type": "code",
   "execution_count": 9,
   "outputs": [],
   "source": [
    "# 数据集加载器\n",
    "train_data = Data.TensorDataset(train_xt, train_yt)"
   ],
   "metadata": {
    "collapsed": false,
    "ExecuteTime": {
     "start_time": "2024-02-27T11:25:01.441742Z",
     "end_time": "2024-02-27T11:25:01.478993Z"
    }
   }
  },
  {
   "cell_type": "code",
   "execution_count": 10,
   "outputs": [],
   "source": [
    "train_loader = Data.DataLoader(dataset=train_data,\n",
    "                               batch_size=32,\n",
    "                               shuffle=True,\n",
    "                               drop_last=True)"
   ],
   "metadata": {
    "collapsed": false,
    "ExecuteTime": {
     "start_time": "2024-02-27T11:25:01.455649Z",
     "end_time": "2024-02-27T11:25:01.479493Z"
    }
   }
  },
  {
   "cell_type": "markdown",
   "source": [
    "# 2. 网络模型搭建"
   ],
   "metadata": {
    "collapsed": false
   }
  },
  {
   "cell_type": "code",
   "execution_count": 11,
   "outputs": [],
   "source": [
    "class Model(nn.Module):\n",
    "    def __init__(self):\n",
    "        super().__init__()\n",
    "        self.fc = nn.Sequential(\n",
    "            nn.Linear(in_features=12, out_features=64),\n",
    "            nn.ReLU(),\n",
    "            nn.Linear(in_features=64, out_features=32),\n",
    "            nn.ReLU(),\n",
    "            nn.Linear(in_features=32, out_features=16),\n",
    "            nn.ReLU(),\n",
    "            nn.Linear(in_features=16, out_features=1)\n",
    "        )\n",
    "    def forward(self, x):\n",
    "        return self.fc(x)"
   ],
   "metadata": {
    "collapsed": false,
    "ExecuteTime": {
     "start_time": "2024-02-27T11:25:02.101536Z",
     "end_time": "2024-02-27T11:25:02.122892Z"
    }
   }
  },
  {
   "cell_type": "code",
   "execution_count": 12,
   "outputs": [],
   "source": [
    "model = Model().to(device)"
   ],
   "metadata": {
    "collapsed": false,
    "ExecuteTime": {
     "start_time": "2024-02-27T11:25:03.587862Z",
     "end_time": "2024-02-27T11:25:03.680721Z"
    }
   }
  },
  {
   "cell_type": "code",
   "execution_count": 13,
   "outputs": [
    {
     "data": {
      "text/plain": "Model(\n  (fc): Sequential(\n    (0): Linear(in_features=12, out_features=64, bias=True)\n    (1): ReLU()\n    (2): Linear(in_features=64, out_features=32, bias=True)\n    (3): ReLU()\n    (4): Linear(in_features=32, out_features=16, bias=True)\n    (5): ReLU()\n    (6): Linear(in_features=16, out_features=1, bias=True)\n  )\n)"
     },
     "execution_count": 13,
     "metadata": {},
     "output_type": "execute_result"
    }
   ],
   "source": [
    "model"
   ],
   "metadata": {
    "collapsed": false,
    "ExecuteTime": {
     "start_time": "2024-02-27T11:25:04.002032Z",
     "end_time": "2024-02-27T11:25:04.033939Z"
    }
   }
  },
  {
   "cell_type": "markdown",
   "source": [
    "# 3. 训练"
   ],
   "metadata": {
    "collapsed": false
   }
  },
  {
   "cell_type": "code",
   "execution_count": 16,
   "outputs": [],
   "source": [
    "def train():\n",
    "    optimizer = torch.optim.SGD(model.parameters(), lr=1e-4)\n",
    "    loss_fun = nn.MSELoss()\n",
    "    model.train()\n",
    "    for epoch in range(100):\n",
    "        for step, (x, y) in enumerate(train_data):\n",
    "            out = model(x.to(device))\n",
    "            loss = loss_fun(torch.squeeze(out.to(\"cpu\")), y)\n",
    "            loss.backward()\n",
    "            optimizer.step()\n",
    "            optimizer.zero_grad()\n",
    "        if epoch % 5 == 0:\n",
    "            print(f\"epoch:{epoch}, 损失：{loss.item()}\")\n",
    "    torch.save(model, \"./6.波士顿房价预测.model\")"
   ],
   "metadata": {
    "collapsed": false,
    "ExecuteTime": {
     "start_time": "2024-02-27T11:26:08.160973Z",
     "end_time": "2024-02-27T11:26:08.182333Z"
    }
   }
  },
  {
   "cell_type": "code",
   "execution_count": 17,
   "outputs": [
    {
     "name": "stdout",
     "output_type": "stream",
     "text": [
      "epoch:0, 损失：3.820988178253174\n",
      "epoch:5, 损失：0.6058003306388855\n",
      "epoch:10, 损失：0.8992898464202881\n",
      "epoch:15, 损失：0.775285005569458\n",
      "epoch:20, 损失：0.2938010096549988\n",
      "epoch:25, 损失：0.09228436648845673\n",
      "epoch:30, 损失：0.0462874174118042\n",
      "epoch:35, 损失：0.014591722749173641\n",
      "epoch:40, 损失：0.07201102375984192\n",
      "epoch:45, 损失：0.1480240374803543\n",
      "epoch:50, 损失：0.1658148318529129\n",
      "epoch:55, 损失：0.42741578817367554\n",
      "epoch:60, 损失：0.37530019879341125\n",
      "epoch:65, 损失：0.6251446008682251\n",
      "epoch:70, 损失：0.5618650317192078\n",
      "epoch:75, 损失：0.7425040006637573\n",
      "epoch:80, 损失：0.593417763710022\n",
      "epoch:85, 损失：0.6619986295700073\n",
      "epoch:90, 损失：0.7514452934265137\n",
      "epoch:95, 损失：1.129335880279541\n"
     ]
    }
   ],
   "source": [
    "train()"
   ],
   "metadata": {
    "collapsed": false,
    "ExecuteTime": {
     "start_time": "2024-02-27T11:26:10.239400Z",
     "end_time": "2024-02-27T11:26:56.593794Z"
    }
   }
  },
  {
   "cell_type": "code",
   "execution_count": 18,
   "outputs": [],
   "source": [
    "@torch.no_grad()\n",
    "def test(test_xt):\n",
    "    model = torch.load(\"./6.波士顿房价预测.model\").to(\"cpu\")\n",
    "    model.eval()\n",
    "    out = model(test_xt)\n",
    "    return out"
   ],
   "metadata": {
    "collapsed": false,
    "ExecuteTime": {
     "start_time": "2024-02-26T21:35:01.170677Z",
     "end_time": "2024-02-26T21:35:01.191682Z"
    }
   }
  },
  {
   "cell_type": "code",
   "execution_count": 19,
   "outputs": [],
   "source": [
    "predit = test(test_xt)"
   ],
   "metadata": {
    "collapsed": false,
    "ExecuteTime": {
     "start_time": "2024-02-26T21:35:01.624231Z",
     "end_time": "2024-02-26T21:35:01.652492Z"
    }
   }
  },
  {
   "cell_type": "code",
   "execution_count": 23,
   "outputs": [
    {
     "data": {
      "text/plain": "(tensor([9.8906]), tensor(7.2000))"
     },
     "execution_count": 23,
     "metadata": {},
     "output_type": "execute_result"
    }
   ],
   "source": [
    "predit[6], test_yt[6]"
   ],
   "metadata": {
    "collapsed": false,
    "ExecuteTime": {
     "start_time": "2024-02-26T21:36:05.484794Z",
     "end_time": "2024-02-26T21:36:05.511447Z"
    }
   }
  },
  {
   "cell_type": "code",
   "execution_count": null,
   "outputs": [],
   "source": [],
   "metadata": {
    "collapsed": false
   }
  }
 ],
 "metadata": {
  "kernelspec": {
   "name": "pytorchpy39",
   "language": "python",
   "display_name": "pytorchpy39"
  },
  "language_info": {
   "codemirror_mode": {
    "name": "ipython",
    "version": 2
   },
   "file_extension": ".py",
   "mimetype": "text/x-python",
   "name": "python",
   "nbconvert_exporter": "python",
   "pygments_lexer": "ipython2",
   "version": "2.7.6"
  }
 },
 "nbformat": 4,
 "nbformat_minor": 0
}
