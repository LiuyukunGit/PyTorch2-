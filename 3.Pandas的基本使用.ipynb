{
 "cells": [
  {
   "cell_type": "markdown",
   "source": [
    "# B站：神奇的布欧\n",
    "# 微信：l1243278923"
   ],
   "metadata": {
    "collapsed": false
   }
  },
  {
   "cell_type": "code",
   "execution_count": 1,
   "metadata": {
    "collapsed": true,
    "ExecuteTime": {
     "start_time": "2024-02-22T14:13:38.801609Z",
     "end_time": "2024-02-22T14:13:39.086623Z"
    }
   },
   "outputs": [],
   "source": [
    "import pandas as pd"
   ]
  },
  {
   "cell_type": "markdown",
   "source": [
    "# 导入Excel文件"
   ],
   "metadata": {
    "collapsed": false
   }
  },
  {
   "cell_type": "code",
   "execution_count": 17,
   "outputs": [],
   "source": [
    "dataPath = \"./data.xlsx\""
   ],
   "metadata": {
    "collapsed": false,
    "ExecuteTime": {
     "start_time": "2024-02-22T14:20:01.493884Z",
     "end_time": "2024-02-22T14:20:01.502888Z"
    }
   }
  },
  {
   "cell_type": "code",
   "execution_count": 18,
   "outputs": [],
   "source": [
    "df = pd.read_excel(dataPath, engine=\"openpyxl\")"
   ],
   "metadata": {
    "collapsed": false,
    "ExecuteTime": {
     "start_time": "2024-02-22T14:20:01.594094Z",
     "end_time": "2024-02-22T14:20:01.607543Z"
    }
   }
  },
  {
   "cell_type": "code",
   "execution_count": 4,
   "outputs": [
    {
     "data": {
      "text/plain": "    排名      球员      球队 进球（点球）  出场次数  出场时间  射门  射正\n0    1     瓦尔迪     莱斯特  17(3)    20  1800  49  29\n1    2      英斯    南安普敦     14    22  1537  57  26\n2    3    奥巴梅扬     阿森纳  14(1)    22  1945  55  22\n3    4    拉什福德      曼联  14(5)    22  1881  74  34\n4    5    亚伯拉罕     切尔西     13    21  1673  66  29\n5    6     阿圭罗      曼城  13(2)    16   998  51  18\n6    7      马内     利物浦     11    20  1667  49  25\n7    8     斯特林      曼城     11    20  1672  59  21\n8    9      凯恩  托特纳姆热刺  11(2)    20  1780  57  24\n9   10     萨拉赫     利物浦  10(2)    18  1531  66  31\n10  11      普基     诺维奇      9    21  1869  54  27\n11  12     热苏斯      曼城      9    18  1090  57  28\n12  13      勒温     埃弗顿      8    20  1313  40  18\n13  14      伍德     伯恩利      8    20  1654  38  19\n14  15     马夏尔      曼联      8    16  1278  40  21\n15  16    希门尼斯      狼队   8(2)    22  1849  70  25\n16  17    德布劳内      曼城      7    21  1715  59  18\n17  18    菲尔米诺     利物浦      7    21  1719  65  27\n18  19    马赫雷斯      曼城      7    18  1084  44  22\n19  20      毛佩     布莱顿   7(1)    22  1631  59  22\n20  21      阿尤     水晶宫      6    21  1761  34  13\n21  22      哈勒    西汉姆联      6    20  1583  42  18\n22  23    格里利什   阿斯顿维拉      6    20  1794  42  15\n23  24     威尔逊    伯恩茅斯      6    18  1087  34  13\n24  25      阿里  托特纳姆热刺      6    15  1254  24  14\n25  26     巴恩斯     伯恩利   6(1)    19  1361  40  12\n26  27     威尔逊    伯恩茅斯      5    21  1719  27  11\n27  28     佩雷斯     莱斯特      5    19  1194  26  14\n28  29     席尔瓦      曼城      5    18  1180  30  11\n29  30     孙兴慜  托特纳姆热刺      5    17  1389  46  18\n30  31    普利西奇     切尔西      5    16  1076  40  17\n31  32    拉卡泽特     阿森纳      5    15  1028  36  16\n32  33     谢尔维    纽卡斯尔      5    14  1077  24   8\n33  34     特劳雷      狼队      4    21  1672  25   7\n34  35    麦克布涅   谢菲尔德联      4    20   895  23  10\n35  36    小卢卡斯  托特纳姆热刺      4    20  1104  33   9\n36  37     弗利克   谢菲尔德联      4    19  1649  23  10\n37  38   德乌洛费乌    沃特福德   4(1)    22  1631  49  20\n38  39  沃德-普劳斯    南安普敦   4(1)    22  1980  35  16\n39  40      威廉     切尔西   4(1)    21  1542  43  13\n40  41      加齐   阿斯顿维拉   4(1)    19  1320  39  14\n41  42      迪尼    沃特福德   4(2)    11   906  19   9\n42  43      扎哈     水晶宫      3    22  1915  33   9\n43  44   罗德里格斯     伯恩利      3    21   771  24   7\n44  45    蒂耶勒曼     莱斯特      3    21  1772  34   8\n45  46     杜库雷    沃特福德      3    21  1831  37   8\n46  47  伦德斯特拉姆   谢菲尔德联      3    21  1839  31   7\n47  48     范迪克     利物浦      3    21  1890  14   6\n48  49     多尔蒂      狼队      3    20  1520  21  12\n49  50      哈桑   阿斯顿维拉      3    19  1089  33   9",
      "text/html": "<div>\n<style scoped>\n    .dataframe tbody tr th:only-of-type {\n        vertical-align: middle;\n    }\n\n    .dataframe tbody tr th {\n        vertical-align: top;\n    }\n\n    .dataframe thead th {\n        text-align: right;\n    }\n</style>\n<table border=\"1\" class=\"dataframe\">\n  <thead>\n    <tr style=\"text-align: right;\">\n      <th></th>\n      <th>排名</th>\n      <th>球员</th>\n      <th>球队</th>\n      <th>进球（点球）</th>\n      <th>出场次数</th>\n      <th>出场时间</th>\n      <th>射门</th>\n      <th>射正</th>\n    </tr>\n  </thead>\n  <tbody>\n    <tr>\n      <th>0</th>\n      <td>1</td>\n      <td>瓦尔迪</td>\n      <td>莱斯特</td>\n      <td>17(3)</td>\n      <td>20</td>\n      <td>1800</td>\n      <td>49</td>\n      <td>29</td>\n    </tr>\n    <tr>\n      <th>1</th>\n      <td>2</td>\n      <td>英斯</td>\n      <td>南安普敦</td>\n      <td>14</td>\n      <td>22</td>\n      <td>1537</td>\n      <td>57</td>\n      <td>26</td>\n    </tr>\n    <tr>\n      <th>2</th>\n      <td>3</td>\n      <td>奥巴梅扬</td>\n      <td>阿森纳</td>\n      <td>14(1)</td>\n      <td>22</td>\n      <td>1945</td>\n      <td>55</td>\n      <td>22</td>\n    </tr>\n    <tr>\n      <th>3</th>\n      <td>4</td>\n      <td>拉什福德</td>\n      <td>曼联</td>\n      <td>14(5)</td>\n      <td>22</td>\n      <td>1881</td>\n      <td>74</td>\n      <td>34</td>\n    </tr>\n    <tr>\n      <th>4</th>\n      <td>5</td>\n      <td>亚伯拉罕</td>\n      <td>切尔西</td>\n      <td>13</td>\n      <td>21</td>\n      <td>1673</td>\n      <td>66</td>\n      <td>29</td>\n    </tr>\n    <tr>\n      <th>5</th>\n      <td>6</td>\n      <td>阿圭罗</td>\n      <td>曼城</td>\n      <td>13(2)</td>\n      <td>16</td>\n      <td>998</td>\n      <td>51</td>\n      <td>18</td>\n    </tr>\n    <tr>\n      <th>6</th>\n      <td>7</td>\n      <td>马内</td>\n      <td>利物浦</td>\n      <td>11</td>\n      <td>20</td>\n      <td>1667</td>\n      <td>49</td>\n      <td>25</td>\n    </tr>\n    <tr>\n      <th>7</th>\n      <td>8</td>\n      <td>斯特林</td>\n      <td>曼城</td>\n      <td>11</td>\n      <td>20</td>\n      <td>1672</td>\n      <td>59</td>\n      <td>21</td>\n    </tr>\n    <tr>\n      <th>8</th>\n      <td>9</td>\n      <td>凯恩</td>\n      <td>托特纳姆热刺</td>\n      <td>11(2)</td>\n      <td>20</td>\n      <td>1780</td>\n      <td>57</td>\n      <td>24</td>\n    </tr>\n    <tr>\n      <th>9</th>\n      <td>10</td>\n      <td>萨拉赫</td>\n      <td>利物浦</td>\n      <td>10(2)</td>\n      <td>18</td>\n      <td>1531</td>\n      <td>66</td>\n      <td>31</td>\n    </tr>\n    <tr>\n      <th>10</th>\n      <td>11</td>\n      <td>普基</td>\n      <td>诺维奇</td>\n      <td>9</td>\n      <td>21</td>\n      <td>1869</td>\n      <td>54</td>\n      <td>27</td>\n    </tr>\n    <tr>\n      <th>11</th>\n      <td>12</td>\n      <td>热苏斯</td>\n      <td>曼城</td>\n      <td>9</td>\n      <td>18</td>\n      <td>1090</td>\n      <td>57</td>\n      <td>28</td>\n    </tr>\n    <tr>\n      <th>12</th>\n      <td>13</td>\n      <td>勒温</td>\n      <td>埃弗顿</td>\n      <td>8</td>\n      <td>20</td>\n      <td>1313</td>\n      <td>40</td>\n      <td>18</td>\n    </tr>\n    <tr>\n      <th>13</th>\n      <td>14</td>\n      <td>伍德</td>\n      <td>伯恩利</td>\n      <td>8</td>\n      <td>20</td>\n      <td>1654</td>\n      <td>38</td>\n      <td>19</td>\n    </tr>\n    <tr>\n      <th>14</th>\n      <td>15</td>\n      <td>马夏尔</td>\n      <td>曼联</td>\n      <td>8</td>\n      <td>16</td>\n      <td>1278</td>\n      <td>40</td>\n      <td>21</td>\n    </tr>\n    <tr>\n      <th>15</th>\n      <td>16</td>\n      <td>希门尼斯</td>\n      <td>狼队</td>\n      <td>8(2)</td>\n      <td>22</td>\n      <td>1849</td>\n      <td>70</td>\n      <td>25</td>\n    </tr>\n    <tr>\n      <th>16</th>\n      <td>17</td>\n      <td>德布劳内</td>\n      <td>曼城</td>\n      <td>7</td>\n      <td>21</td>\n      <td>1715</td>\n      <td>59</td>\n      <td>18</td>\n    </tr>\n    <tr>\n      <th>17</th>\n      <td>18</td>\n      <td>菲尔米诺</td>\n      <td>利物浦</td>\n      <td>7</td>\n      <td>21</td>\n      <td>1719</td>\n      <td>65</td>\n      <td>27</td>\n    </tr>\n    <tr>\n      <th>18</th>\n      <td>19</td>\n      <td>马赫雷斯</td>\n      <td>曼城</td>\n      <td>7</td>\n      <td>18</td>\n      <td>1084</td>\n      <td>44</td>\n      <td>22</td>\n    </tr>\n    <tr>\n      <th>19</th>\n      <td>20</td>\n      <td>毛佩</td>\n      <td>布莱顿</td>\n      <td>7(1)</td>\n      <td>22</td>\n      <td>1631</td>\n      <td>59</td>\n      <td>22</td>\n    </tr>\n    <tr>\n      <th>20</th>\n      <td>21</td>\n      <td>阿尤</td>\n      <td>水晶宫</td>\n      <td>6</td>\n      <td>21</td>\n      <td>1761</td>\n      <td>34</td>\n      <td>13</td>\n    </tr>\n    <tr>\n      <th>21</th>\n      <td>22</td>\n      <td>哈勒</td>\n      <td>西汉姆联</td>\n      <td>6</td>\n      <td>20</td>\n      <td>1583</td>\n      <td>42</td>\n      <td>18</td>\n    </tr>\n    <tr>\n      <th>22</th>\n      <td>23</td>\n      <td>格里利什</td>\n      <td>阿斯顿维拉</td>\n      <td>6</td>\n      <td>20</td>\n      <td>1794</td>\n      <td>42</td>\n      <td>15</td>\n    </tr>\n    <tr>\n      <th>23</th>\n      <td>24</td>\n      <td>威尔逊</td>\n      <td>伯恩茅斯</td>\n      <td>6</td>\n      <td>18</td>\n      <td>1087</td>\n      <td>34</td>\n      <td>13</td>\n    </tr>\n    <tr>\n      <th>24</th>\n      <td>25</td>\n      <td>阿里</td>\n      <td>托特纳姆热刺</td>\n      <td>6</td>\n      <td>15</td>\n      <td>1254</td>\n      <td>24</td>\n      <td>14</td>\n    </tr>\n    <tr>\n      <th>25</th>\n      <td>26</td>\n      <td>巴恩斯</td>\n      <td>伯恩利</td>\n      <td>6(1)</td>\n      <td>19</td>\n      <td>1361</td>\n      <td>40</td>\n      <td>12</td>\n    </tr>\n    <tr>\n      <th>26</th>\n      <td>27</td>\n      <td>威尔逊</td>\n      <td>伯恩茅斯</td>\n      <td>5</td>\n      <td>21</td>\n      <td>1719</td>\n      <td>27</td>\n      <td>11</td>\n    </tr>\n    <tr>\n      <th>27</th>\n      <td>28</td>\n      <td>佩雷斯</td>\n      <td>莱斯特</td>\n      <td>5</td>\n      <td>19</td>\n      <td>1194</td>\n      <td>26</td>\n      <td>14</td>\n    </tr>\n    <tr>\n      <th>28</th>\n      <td>29</td>\n      <td>席尔瓦</td>\n      <td>曼城</td>\n      <td>5</td>\n      <td>18</td>\n      <td>1180</td>\n      <td>30</td>\n      <td>11</td>\n    </tr>\n    <tr>\n      <th>29</th>\n      <td>30</td>\n      <td>孙兴慜</td>\n      <td>托特纳姆热刺</td>\n      <td>5</td>\n      <td>17</td>\n      <td>1389</td>\n      <td>46</td>\n      <td>18</td>\n    </tr>\n    <tr>\n      <th>30</th>\n      <td>31</td>\n      <td>普利西奇</td>\n      <td>切尔西</td>\n      <td>5</td>\n      <td>16</td>\n      <td>1076</td>\n      <td>40</td>\n      <td>17</td>\n    </tr>\n    <tr>\n      <th>31</th>\n      <td>32</td>\n      <td>拉卡泽特</td>\n      <td>阿森纳</td>\n      <td>5</td>\n      <td>15</td>\n      <td>1028</td>\n      <td>36</td>\n      <td>16</td>\n    </tr>\n    <tr>\n      <th>32</th>\n      <td>33</td>\n      <td>谢尔维</td>\n      <td>纽卡斯尔</td>\n      <td>5</td>\n      <td>14</td>\n      <td>1077</td>\n      <td>24</td>\n      <td>8</td>\n    </tr>\n    <tr>\n      <th>33</th>\n      <td>34</td>\n      <td>特劳雷</td>\n      <td>狼队</td>\n      <td>4</td>\n      <td>21</td>\n      <td>1672</td>\n      <td>25</td>\n      <td>7</td>\n    </tr>\n    <tr>\n      <th>34</th>\n      <td>35</td>\n      <td>麦克布涅</td>\n      <td>谢菲尔德联</td>\n      <td>4</td>\n      <td>20</td>\n      <td>895</td>\n      <td>23</td>\n      <td>10</td>\n    </tr>\n    <tr>\n      <th>35</th>\n      <td>36</td>\n      <td>小卢卡斯</td>\n      <td>托特纳姆热刺</td>\n      <td>4</td>\n      <td>20</td>\n      <td>1104</td>\n      <td>33</td>\n      <td>9</td>\n    </tr>\n    <tr>\n      <th>36</th>\n      <td>37</td>\n      <td>弗利克</td>\n      <td>谢菲尔德联</td>\n      <td>4</td>\n      <td>19</td>\n      <td>1649</td>\n      <td>23</td>\n      <td>10</td>\n    </tr>\n    <tr>\n      <th>37</th>\n      <td>38</td>\n      <td>德乌洛费乌</td>\n      <td>沃特福德</td>\n      <td>4(1)</td>\n      <td>22</td>\n      <td>1631</td>\n      <td>49</td>\n      <td>20</td>\n    </tr>\n    <tr>\n      <th>38</th>\n      <td>39</td>\n      <td>沃德-普劳斯</td>\n      <td>南安普敦</td>\n      <td>4(1)</td>\n      <td>22</td>\n      <td>1980</td>\n      <td>35</td>\n      <td>16</td>\n    </tr>\n    <tr>\n      <th>39</th>\n      <td>40</td>\n      <td>威廉</td>\n      <td>切尔西</td>\n      <td>4(1)</td>\n      <td>21</td>\n      <td>1542</td>\n      <td>43</td>\n      <td>13</td>\n    </tr>\n    <tr>\n      <th>40</th>\n      <td>41</td>\n      <td>加齐</td>\n      <td>阿斯顿维拉</td>\n      <td>4(1)</td>\n      <td>19</td>\n      <td>1320</td>\n      <td>39</td>\n      <td>14</td>\n    </tr>\n    <tr>\n      <th>41</th>\n      <td>42</td>\n      <td>迪尼</td>\n      <td>沃特福德</td>\n      <td>4(2)</td>\n      <td>11</td>\n      <td>906</td>\n      <td>19</td>\n      <td>9</td>\n    </tr>\n    <tr>\n      <th>42</th>\n      <td>43</td>\n      <td>扎哈</td>\n      <td>水晶宫</td>\n      <td>3</td>\n      <td>22</td>\n      <td>1915</td>\n      <td>33</td>\n      <td>9</td>\n    </tr>\n    <tr>\n      <th>43</th>\n      <td>44</td>\n      <td>罗德里格斯</td>\n      <td>伯恩利</td>\n      <td>3</td>\n      <td>21</td>\n      <td>771</td>\n      <td>24</td>\n      <td>7</td>\n    </tr>\n    <tr>\n      <th>44</th>\n      <td>45</td>\n      <td>蒂耶勒曼</td>\n      <td>莱斯特</td>\n      <td>3</td>\n      <td>21</td>\n      <td>1772</td>\n      <td>34</td>\n      <td>8</td>\n    </tr>\n    <tr>\n      <th>45</th>\n      <td>46</td>\n      <td>杜库雷</td>\n      <td>沃特福德</td>\n      <td>3</td>\n      <td>21</td>\n      <td>1831</td>\n      <td>37</td>\n      <td>8</td>\n    </tr>\n    <tr>\n      <th>46</th>\n      <td>47</td>\n      <td>伦德斯特拉姆</td>\n      <td>谢菲尔德联</td>\n      <td>3</td>\n      <td>21</td>\n      <td>1839</td>\n      <td>31</td>\n      <td>7</td>\n    </tr>\n    <tr>\n      <th>47</th>\n      <td>48</td>\n      <td>范迪克</td>\n      <td>利物浦</td>\n      <td>3</td>\n      <td>21</td>\n      <td>1890</td>\n      <td>14</td>\n      <td>6</td>\n    </tr>\n    <tr>\n      <th>48</th>\n      <td>49</td>\n      <td>多尔蒂</td>\n      <td>狼队</td>\n      <td>3</td>\n      <td>20</td>\n      <td>1520</td>\n      <td>21</td>\n      <td>12</td>\n    </tr>\n    <tr>\n      <th>49</th>\n      <td>50</td>\n      <td>哈桑</td>\n      <td>阿斯顿维拉</td>\n      <td>3</td>\n      <td>19</td>\n      <td>1089</td>\n      <td>33</td>\n      <td>9</td>\n    </tr>\n  </tbody>\n</table>\n</div>"
     },
     "execution_count": 4,
     "metadata": {},
     "output_type": "execute_result"
    }
   ],
   "source": [
    "df"
   ],
   "metadata": {
    "collapsed": false,
    "ExecuteTime": {
     "start_time": "2024-02-22T14:14:49.148279Z",
     "end_time": "2024-02-22T14:14:49.170781Z"
    }
   }
  },
  {
   "cell_type": "markdown",
   "source": [
    "# 导入csv文件"
   ],
   "metadata": {
    "collapsed": false
   }
  },
  {
   "cell_type": "code",
   "execution_count": 7,
   "outputs": [],
   "source": [
    "# gb2312 gb18030  utf-8\n",
    "dataPath = \"./testcsv.csv\"\n",
    "df = pd.read_csv(dataPath, encoding=\"gbk\")"
   ],
   "metadata": {
    "collapsed": false,
    "ExecuteTime": {
     "start_time": "2024-02-22T14:17:08.511964Z",
     "end_time": "2024-02-22T14:17:08.531175Z"
    }
   }
  },
  {
   "cell_type": "code",
   "execution_count": 8,
   "outputs": [
    {
     "data": {
      "text/plain": "   1  2  3\n0  4  5  6\n1  7  8  9",
      "text/html": "<div>\n<style scoped>\n    .dataframe tbody tr th:only-of-type {\n        vertical-align: middle;\n    }\n\n    .dataframe tbody tr th {\n        vertical-align: top;\n    }\n\n    .dataframe thead th {\n        text-align: right;\n    }\n</style>\n<table border=\"1\" class=\"dataframe\">\n  <thead>\n    <tr style=\"text-align: right;\">\n      <th></th>\n      <th>1</th>\n      <th>2</th>\n      <th>3</th>\n    </tr>\n  </thead>\n  <tbody>\n    <tr>\n      <th>0</th>\n      <td>4</td>\n      <td>5</td>\n      <td>6</td>\n    </tr>\n    <tr>\n      <th>1</th>\n      <td>7</td>\n      <td>8</td>\n      <td>9</td>\n    </tr>\n  </tbody>\n</table>\n</div>"
     },
     "execution_count": 8,
     "metadata": {},
     "output_type": "execute_result"
    }
   ],
   "source": [
    "df"
   ],
   "metadata": {
    "collapsed": false,
    "ExecuteTime": {
     "start_time": "2024-02-22T14:17:10.437054Z",
     "end_time": "2024-02-22T14:17:10.451054Z"
    }
   }
  },
  {
   "cell_type": "markdown",
   "source": [
    "# 导入txt文件"
   ],
   "metadata": {
    "collapsed": false
   }
  },
  {
   "cell_type": "code",
   "execution_count": 14,
   "outputs": [],
   "source": [
    "dataPath = \"./test.txt\"\n",
    "df = pd.read_csv(dataPath, sep=\"\\t\", encoding=\"utf-8\")"
   ],
   "metadata": {
    "collapsed": false,
    "ExecuteTime": {
     "start_time": "2024-02-22T14:19:25.599534Z",
     "end_time": "2024-02-22T14:19:25.607038Z"
    }
   }
  },
  {
   "cell_type": "code",
   "execution_count": 15,
   "outputs": [
    {
     "data": {
      "text/plain": "                   head\n0  阿首都分公司地方更好的说法合计手打回复i\n1     阿斯顿发货稍等一会风疙瘩hi啊搜嘎",
      "text/html": "<div>\n<style scoped>\n    .dataframe tbody tr th:only-of-type {\n        vertical-align: middle;\n    }\n\n    .dataframe tbody tr th {\n        vertical-align: top;\n    }\n\n    .dataframe thead th {\n        text-align: right;\n    }\n</style>\n<table border=\"1\" class=\"dataframe\">\n  <thead>\n    <tr style=\"text-align: right;\">\n      <th></th>\n      <th>head</th>\n    </tr>\n  </thead>\n  <tbody>\n    <tr>\n      <th>0</th>\n      <td>阿首都分公司地方更好的说法合计手打回复i</td>\n    </tr>\n    <tr>\n      <th>1</th>\n      <td>阿斯顿发货稍等一会风疙瘩hi啊搜嘎</td>\n    </tr>\n  </tbody>\n</table>\n</div>"
     },
     "execution_count": 15,
     "metadata": {},
     "output_type": "execute_result"
    }
   ],
   "source": [
    "df"
   ],
   "metadata": {
    "collapsed": false,
    "ExecuteTime": {
     "start_time": "2024-02-22T14:19:25.892218Z",
     "end_time": "2024-02-22T14:19:25.924897Z"
    }
   }
  },
  {
   "cell_type": "markdown",
   "source": [
    "# 输出前五条数据"
   ],
   "metadata": {
    "collapsed": false
   }
  },
  {
   "cell_type": "code",
   "execution_count": 19,
   "outputs": [
    {
     "data": {
      "text/plain": "   排名    球员    球队 进球（点球）  出场次数  出场时间  射门  射正\n0   1   瓦尔迪   莱斯特  17(3)    20  1800  49  29\n1   2    英斯  南安普敦     14    22  1537  57  26\n2   3  奥巴梅扬   阿森纳  14(1)    22  1945  55  22\n3   4  拉什福德    曼联  14(5)    22  1881  74  34\n4   5  亚伯拉罕   切尔西     13    21  1673  66  29",
      "text/html": "<div>\n<style scoped>\n    .dataframe tbody tr th:only-of-type {\n        vertical-align: middle;\n    }\n\n    .dataframe tbody tr th {\n        vertical-align: top;\n    }\n\n    .dataframe thead th {\n        text-align: right;\n    }\n</style>\n<table border=\"1\" class=\"dataframe\">\n  <thead>\n    <tr style=\"text-align: right;\">\n      <th></th>\n      <th>排名</th>\n      <th>球员</th>\n      <th>球队</th>\n      <th>进球（点球）</th>\n      <th>出场次数</th>\n      <th>出场时间</th>\n      <th>射门</th>\n      <th>射正</th>\n    </tr>\n  </thead>\n  <tbody>\n    <tr>\n      <th>0</th>\n      <td>1</td>\n      <td>瓦尔迪</td>\n      <td>莱斯特</td>\n      <td>17(3)</td>\n      <td>20</td>\n      <td>1800</td>\n      <td>49</td>\n      <td>29</td>\n    </tr>\n    <tr>\n      <th>1</th>\n      <td>2</td>\n      <td>英斯</td>\n      <td>南安普敦</td>\n      <td>14</td>\n      <td>22</td>\n      <td>1537</td>\n      <td>57</td>\n      <td>26</td>\n    </tr>\n    <tr>\n      <th>2</th>\n      <td>3</td>\n      <td>奥巴梅扬</td>\n      <td>阿森纳</td>\n      <td>14(1)</td>\n      <td>22</td>\n      <td>1945</td>\n      <td>55</td>\n      <td>22</td>\n    </tr>\n    <tr>\n      <th>3</th>\n      <td>4</td>\n      <td>拉什福德</td>\n      <td>曼联</td>\n      <td>14(5)</td>\n      <td>22</td>\n      <td>1881</td>\n      <td>74</td>\n      <td>34</td>\n    </tr>\n    <tr>\n      <th>4</th>\n      <td>5</td>\n      <td>亚伯拉罕</td>\n      <td>切尔西</td>\n      <td>13</td>\n      <td>21</td>\n      <td>1673</td>\n      <td>66</td>\n      <td>29</td>\n    </tr>\n  </tbody>\n</table>\n</div>"
     },
     "execution_count": 19,
     "metadata": {},
     "output_type": "execute_result"
    }
   ],
   "source": [
    "df.head()"
   ],
   "metadata": {
    "collapsed": false,
    "ExecuteTime": {
     "start_time": "2024-02-22T14:20:30.783335Z",
     "end_time": "2024-02-22T14:20:30.794336Z"
    }
   }
  },
  {
   "cell_type": "markdown",
   "source": [
    "# 按照索引拿数据"
   ],
   "metadata": {
    "collapsed": false
   }
  },
  {
   "cell_type": "code",
   "execution_count": 20,
   "outputs": [
    {
     "data": {
      "text/plain": "排名            6\n球员          阿圭罗\n球队           曼城\n进球（点球）    13(2)\n出场次数         16\n出场时间        998\n射门           51\n射正           18\nName: 5, dtype: object"
     },
     "execution_count": 20,
     "metadata": {},
     "output_type": "execute_result"
    }
   ],
   "source": [
    "df.iloc[5]"
   ],
   "metadata": {
    "collapsed": false,
    "ExecuteTime": {
     "start_time": "2024-02-22T14:21:01.628024Z",
     "end_time": "2024-02-22T14:21:01.640523Z"
    }
   }
  },
  {
   "cell_type": "markdown",
   "source": [
    "# 读取多行数据"
   ],
   "metadata": {
    "collapsed": false
   }
  },
  {
   "cell_type": "code",
   "execution_count": 21,
   "outputs": [
    {
     "data": {
      "text/plain": "   排名   球员   球队 进球（点球）  出场次数  出场时间  射门  射正\n0   1  瓦尔迪  莱斯特  17(3)    20  1800  49  29\n5   6  阿圭罗   曼城  13(2)    16   998  51  18",
      "text/html": "<div>\n<style scoped>\n    .dataframe tbody tr th:only-of-type {\n        vertical-align: middle;\n    }\n\n    .dataframe tbody tr th {\n        vertical-align: top;\n    }\n\n    .dataframe thead th {\n        text-align: right;\n    }\n</style>\n<table border=\"1\" class=\"dataframe\">\n  <thead>\n    <tr style=\"text-align: right;\">\n      <th></th>\n      <th>排名</th>\n      <th>球员</th>\n      <th>球队</th>\n      <th>进球（点球）</th>\n      <th>出场次数</th>\n      <th>出场时间</th>\n      <th>射门</th>\n      <th>射正</th>\n    </tr>\n  </thead>\n  <tbody>\n    <tr>\n      <th>0</th>\n      <td>1</td>\n      <td>瓦尔迪</td>\n      <td>莱斯特</td>\n      <td>17(3)</td>\n      <td>20</td>\n      <td>1800</td>\n      <td>49</td>\n      <td>29</td>\n    </tr>\n    <tr>\n      <th>5</th>\n      <td>6</td>\n      <td>阿圭罗</td>\n      <td>曼城</td>\n      <td>13(2)</td>\n      <td>16</td>\n      <td>998</td>\n      <td>51</td>\n      <td>18</td>\n    </tr>\n  </tbody>\n</table>\n</div>"
     },
     "execution_count": 21,
     "metadata": {},
     "output_type": "execute_result"
    }
   ],
   "source": [
    "df.iloc[[0, 5]]"
   ],
   "metadata": {
    "collapsed": false,
    "ExecuteTime": {
     "start_time": "2024-02-22T14:22:01.113070Z",
     "end_time": "2024-02-22T14:22:01.128570Z"
    }
   }
  },
  {
   "cell_type": "markdown",
   "source": [
    "# 读取连续几行的数据"
   ],
   "metadata": {
    "collapsed": false
   }
  },
  {
   "cell_type": "code",
   "execution_count": 24,
   "outputs": [
    {
     "data": {
      "text/plain": "   排名    球员      球队 进球（点球）  出场次数  出场时间  射门  射正\n0   1   瓦尔迪     莱斯特  17(3)    20  1800  49  29\n1   2    英斯    南安普敦     14    22  1537  57  26\n2   3  奥巴梅扬     阿森纳  14(1)    22  1945  55  22\n3   4  拉什福德      曼联  14(5)    22  1881  74  34\n4   5  亚伯拉罕     切尔西     13    21  1673  66  29\n5   6   阿圭罗      曼城  13(2)    16   998  51  18\n6   7    马内     利物浦     11    20  1667  49  25\n7   8   斯特林      曼城     11    20  1672  59  21\n8   9    凯恩  托特纳姆热刺  11(2)    20  1780  57  24\n9  10   萨拉赫     利物浦  10(2)    18  1531  66  31",
      "text/html": "<div>\n<style scoped>\n    .dataframe tbody tr th:only-of-type {\n        vertical-align: middle;\n    }\n\n    .dataframe tbody tr th {\n        vertical-align: top;\n    }\n\n    .dataframe thead th {\n        text-align: right;\n    }\n</style>\n<table border=\"1\" class=\"dataframe\">\n  <thead>\n    <tr style=\"text-align: right;\">\n      <th></th>\n      <th>排名</th>\n      <th>球员</th>\n      <th>球队</th>\n      <th>进球（点球）</th>\n      <th>出场次数</th>\n      <th>出场时间</th>\n      <th>射门</th>\n      <th>射正</th>\n    </tr>\n  </thead>\n  <tbody>\n    <tr>\n      <th>0</th>\n      <td>1</td>\n      <td>瓦尔迪</td>\n      <td>莱斯特</td>\n      <td>17(3)</td>\n      <td>20</td>\n      <td>1800</td>\n      <td>49</td>\n      <td>29</td>\n    </tr>\n    <tr>\n      <th>1</th>\n      <td>2</td>\n      <td>英斯</td>\n      <td>南安普敦</td>\n      <td>14</td>\n      <td>22</td>\n      <td>1537</td>\n      <td>57</td>\n      <td>26</td>\n    </tr>\n    <tr>\n      <th>2</th>\n      <td>3</td>\n      <td>奥巴梅扬</td>\n      <td>阿森纳</td>\n      <td>14(1)</td>\n      <td>22</td>\n      <td>1945</td>\n      <td>55</td>\n      <td>22</td>\n    </tr>\n    <tr>\n      <th>3</th>\n      <td>4</td>\n      <td>拉什福德</td>\n      <td>曼联</td>\n      <td>14(5)</td>\n      <td>22</td>\n      <td>1881</td>\n      <td>74</td>\n      <td>34</td>\n    </tr>\n    <tr>\n      <th>4</th>\n      <td>5</td>\n      <td>亚伯拉罕</td>\n      <td>切尔西</td>\n      <td>13</td>\n      <td>21</td>\n      <td>1673</td>\n      <td>66</td>\n      <td>29</td>\n    </tr>\n    <tr>\n      <th>5</th>\n      <td>6</td>\n      <td>阿圭罗</td>\n      <td>曼城</td>\n      <td>13(2)</td>\n      <td>16</td>\n      <td>998</td>\n      <td>51</td>\n      <td>18</td>\n    </tr>\n    <tr>\n      <th>6</th>\n      <td>7</td>\n      <td>马内</td>\n      <td>利物浦</td>\n      <td>11</td>\n      <td>20</td>\n      <td>1667</td>\n      <td>49</td>\n      <td>25</td>\n    </tr>\n    <tr>\n      <th>7</th>\n      <td>8</td>\n      <td>斯特林</td>\n      <td>曼城</td>\n      <td>11</td>\n      <td>20</td>\n      <td>1672</td>\n      <td>59</td>\n      <td>21</td>\n    </tr>\n    <tr>\n      <th>8</th>\n      <td>9</td>\n      <td>凯恩</td>\n      <td>托特纳姆热刺</td>\n      <td>11(2)</td>\n      <td>20</td>\n      <td>1780</td>\n      <td>57</td>\n      <td>24</td>\n    </tr>\n    <tr>\n      <th>9</th>\n      <td>10</td>\n      <td>萨拉赫</td>\n      <td>利物浦</td>\n      <td>10(2)</td>\n      <td>18</td>\n      <td>1531</td>\n      <td>66</td>\n      <td>31</td>\n    </tr>\n  </tbody>\n</table>\n</div>"
     },
     "execution_count": 24,
     "metadata": {},
     "output_type": "execute_result"
    }
   ],
   "source": [
    "df.iloc[0: 10]"
   ],
   "metadata": {
    "collapsed": false,
    "ExecuteTime": {
     "start_time": "2024-02-22T14:22:54.618978Z",
     "end_time": "2024-02-22T14:22:54.630496Z"
    }
   }
  },
  {
   "cell_type": "markdown",
   "source": [
    "# 抽取指定列的数据"
   ],
   "metadata": {
    "collapsed": false
   }
  },
  {
   "cell_type": "code",
   "execution_count": 25,
   "outputs": [
    {
     "data": {
      "text/plain": "        球队\n0      莱斯特\n1     南安普敦\n2      阿森纳\n3       曼联\n4      切尔西\n5       曼城\n6      利物浦\n7       曼城\n8   托特纳姆热刺\n9      利物浦\n10     诺维奇\n11      曼城\n12     埃弗顿\n13     伯恩利\n14      曼联\n15      狼队\n16      曼城\n17     利物浦\n18      曼城\n19     布莱顿\n20     水晶宫\n21    西汉姆联\n22   阿斯顿维拉\n23    伯恩茅斯\n24  托特纳姆热刺\n25     伯恩利\n26    伯恩茅斯\n27     莱斯特\n28      曼城\n29  托特纳姆热刺\n30     切尔西\n31     阿森纳\n32    纽卡斯尔\n33      狼队\n34   谢菲尔德联\n35  托特纳姆热刺\n36   谢菲尔德联\n37    沃特福德\n38    南安普敦\n39     切尔西\n40   阿斯顿维拉\n41    沃特福德\n42     水晶宫\n43     伯恩利\n44     莱斯特\n45    沃特福德\n46   谢菲尔德联\n47     利物浦\n48      狼队\n49   阿斯顿维拉",
      "text/html": "<div>\n<style scoped>\n    .dataframe tbody tr th:only-of-type {\n        vertical-align: middle;\n    }\n\n    .dataframe tbody tr th {\n        vertical-align: top;\n    }\n\n    .dataframe thead th {\n        text-align: right;\n    }\n</style>\n<table border=\"1\" class=\"dataframe\">\n  <thead>\n    <tr style=\"text-align: right;\">\n      <th></th>\n      <th>球队</th>\n    </tr>\n  </thead>\n  <tbody>\n    <tr>\n      <th>0</th>\n      <td>莱斯特</td>\n    </tr>\n    <tr>\n      <th>1</th>\n      <td>南安普敦</td>\n    </tr>\n    <tr>\n      <th>2</th>\n      <td>阿森纳</td>\n    </tr>\n    <tr>\n      <th>3</th>\n      <td>曼联</td>\n    </tr>\n    <tr>\n      <th>4</th>\n      <td>切尔西</td>\n    </tr>\n    <tr>\n      <th>5</th>\n      <td>曼城</td>\n    </tr>\n    <tr>\n      <th>6</th>\n      <td>利物浦</td>\n    </tr>\n    <tr>\n      <th>7</th>\n      <td>曼城</td>\n    </tr>\n    <tr>\n      <th>8</th>\n      <td>托特纳姆热刺</td>\n    </tr>\n    <tr>\n      <th>9</th>\n      <td>利物浦</td>\n    </tr>\n    <tr>\n      <th>10</th>\n      <td>诺维奇</td>\n    </tr>\n    <tr>\n      <th>11</th>\n      <td>曼城</td>\n    </tr>\n    <tr>\n      <th>12</th>\n      <td>埃弗顿</td>\n    </tr>\n    <tr>\n      <th>13</th>\n      <td>伯恩利</td>\n    </tr>\n    <tr>\n      <th>14</th>\n      <td>曼联</td>\n    </tr>\n    <tr>\n      <th>15</th>\n      <td>狼队</td>\n    </tr>\n    <tr>\n      <th>16</th>\n      <td>曼城</td>\n    </tr>\n    <tr>\n      <th>17</th>\n      <td>利物浦</td>\n    </tr>\n    <tr>\n      <th>18</th>\n      <td>曼城</td>\n    </tr>\n    <tr>\n      <th>19</th>\n      <td>布莱顿</td>\n    </tr>\n    <tr>\n      <th>20</th>\n      <td>水晶宫</td>\n    </tr>\n    <tr>\n      <th>21</th>\n      <td>西汉姆联</td>\n    </tr>\n    <tr>\n      <th>22</th>\n      <td>阿斯顿维拉</td>\n    </tr>\n    <tr>\n      <th>23</th>\n      <td>伯恩茅斯</td>\n    </tr>\n    <tr>\n      <th>24</th>\n      <td>托特纳姆热刺</td>\n    </tr>\n    <tr>\n      <th>25</th>\n      <td>伯恩利</td>\n    </tr>\n    <tr>\n      <th>26</th>\n      <td>伯恩茅斯</td>\n    </tr>\n    <tr>\n      <th>27</th>\n      <td>莱斯特</td>\n    </tr>\n    <tr>\n      <th>28</th>\n      <td>曼城</td>\n    </tr>\n    <tr>\n      <th>29</th>\n      <td>托特纳姆热刺</td>\n    </tr>\n    <tr>\n      <th>30</th>\n      <td>切尔西</td>\n    </tr>\n    <tr>\n      <th>31</th>\n      <td>阿森纳</td>\n    </tr>\n    <tr>\n      <th>32</th>\n      <td>纽卡斯尔</td>\n    </tr>\n    <tr>\n      <th>33</th>\n      <td>狼队</td>\n    </tr>\n    <tr>\n      <th>34</th>\n      <td>谢菲尔德联</td>\n    </tr>\n    <tr>\n      <th>35</th>\n      <td>托特纳姆热刺</td>\n    </tr>\n    <tr>\n      <th>36</th>\n      <td>谢菲尔德联</td>\n    </tr>\n    <tr>\n      <th>37</th>\n      <td>沃特福德</td>\n    </tr>\n    <tr>\n      <th>38</th>\n      <td>南安普敦</td>\n    </tr>\n    <tr>\n      <th>39</th>\n      <td>切尔西</td>\n    </tr>\n    <tr>\n      <th>40</th>\n      <td>阿斯顿维拉</td>\n    </tr>\n    <tr>\n      <th>41</th>\n      <td>沃特福德</td>\n    </tr>\n    <tr>\n      <th>42</th>\n      <td>水晶宫</td>\n    </tr>\n    <tr>\n      <th>43</th>\n      <td>伯恩利</td>\n    </tr>\n    <tr>\n      <th>44</th>\n      <td>莱斯特</td>\n    </tr>\n    <tr>\n      <th>45</th>\n      <td>沃特福德</td>\n    </tr>\n    <tr>\n      <th>46</th>\n      <td>谢菲尔德联</td>\n    </tr>\n    <tr>\n      <th>47</th>\n      <td>利物浦</td>\n    </tr>\n    <tr>\n      <th>48</th>\n      <td>狼队</td>\n    </tr>\n    <tr>\n      <th>49</th>\n      <td>阿斯顿维拉</td>\n    </tr>\n  </tbody>\n</table>\n</div>"
     },
     "execution_count": 25,
     "metadata": {},
     "output_type": "execute_result"
    }
   ],
   "source": [
    "df[[\"球队\"]]"
   ],
   "metadata": {
    "collapsed": false,
    "ExecuteTime": {
     "start_time": "2024-02-22T14:23:26.542975Z",
     "end_time": "2024-02-22T14:23:26.560448Z"
    }
   }
  },
  {
   "cell_type": "markdown",
   "source": [
    "# 按条件抽取数据"
   ],
   "metadata": {
    "collapsed": false
   }
  },
  {
   "cell_type": "code",
   "execution_count": 26,
   "outputs": [
    {
     "data": {
      "text/plain": "    排名    球员   球队 进球（点球）  出场次数  出场时间  射门  射正\n3    4  拉什福德   曼联  14(5)    22  1881  74  34\n4    5  亚伯拉罕  切尔西     13    21  1673  66  29\n9   10   萨拉赫  利物浦  10(2)    18  1531  66  31\n15  16  希门尼斯   狼队   8(2)    22  1849  70  25\n17  18  菲尔米诺  利物浦      7    21  1719  65  27",
      "text/html": "<div>\n<style scoped>\n    .dataframe tbody tr th:only-of-type {\n        vertical-align: middle;\n    }\n\n    .dataframe tbody tr th {\n        vertical-align: top;\n    }\n\n    .dataframe thead th {\n        text-align: right;\n    }\n</style>\n<table border=\"1\" class=\"dataframe\">\n  <thead>\n    <tr style=\"text-align: right;\">\n      <th></th>\n      <th>排名</th>\n      <th>球员</th>\n      <th>球队</th>\n      <th>进球（点球）</th>\n      <th>出场次数</th>\n      <th>出场时间</th>\n      <th>射门</th>\n      <th>射正</th>\n    </tr>\n  </thead>\n  <tbody>\n    <tr>\n      <th>3</th>\n      <td>4</td>\n      <td>拉什福德</td>\n      <td>曼联</td>\n      <td>14(5)</td>\n      <td>22</td>\n      <td>1881</td>\n      <td>74</td>\n      <td>34</td>\n    </tr>\n    <tr>\n      <th>4</th>\n      <td>5</td>\n      <td>亚伯拉罕</td>\n      <td>切尔西</td>\n      <td>13</td>\n      <td>21</td>\n      <td>1673</td>\n      <td>66</td>\n      <td>29</td>\n    </tr>\n    <tr>\n      <th>9</th>\n      <td>10</td>\n      <td>萨拉赫</td>\n      <td>利物浦</td>\n      <td>10(2)</td>\n      <td>18</td>\n      <td>1531</td>\n      <td>66</td>\n      <td>31</td>\n    </tr>\n    <tr>\n      <th>15</th>\n      <td>16</td>\n      <td>希门尼斯</td>\n      <td>狼队</td>\n      <td>8(2)</td>\n      <td>22</td>\n      <td>1849</td>\n      <td>70</td>\n      <td>25</td>\n    </tr>\n    <tr>\n      <th>17</th>\n      <td>18</td>\n      <td>菲尔米诺</td>\n      <td>利物浦</td>\n      <td>7</td>\n      <td>21</td>\n      <td>1719</td>\n      <td>65</td>\n      <td>27</td>\n    </tr>\n  </tbody>\n</table>\n</div>"
     },
     "execution_count": 26,
     "metadata": {},
     "output_type": "execute_result"
    }
   ],
   "source": [
    "df.loc[(df[\"出场次数\"] > 15) & (df[\"射门\"] > 60)]"
   ],
   "metadata": {
    "collapsed": false,
    "ExecuteTime": {
     "start_time": "2024-02-22T14:24:52.894736Z",
     "end_time": "2024-02-22T14:24:52.907736Z"
    }
   }
  },
  {
   "cell_type": "markdown",
   "source": [
    "# 修改数据"
   ],
   "metadata": {
    "collapsed": false
   }
  },
  {
   "cell_type": "code",
   "execution_count": 27,
   "outputs": [
    {
     "data": {
      "text/plain": "   排名    球员    球队 进球（点球）  出场次数  出场时间  射门  射正\n0   1   瓦尔迪   莱斯特  17(3)    20  1800  49  29\n1   2    英斯  南安普敦     14    22  1537  57  26\n2   3  奥巴梅扬   阿森纳  14(1)    22  1945  55  22\n3   4  拉什福德    曼联  14(5)    22  1881  74  34\n4   5  亚伯拉罕   切尔西     13    21  1673  66  29\n5   6   阿圭罗    曼城  13(2)    16   998  51  18\n6   7    马内   利物浦     11    20  1667  49  25",
      "text/html": "<div>\n<style scoped>\n    .dataframe tbody tr th:only-of-type {\n        vertical-align: middle;\n    }\n\n    .dataframe tbody tr th {\n        vertical-align: top;\n    }\n\n    .dataframe thead th {\n        text-align: right;\n    }\n</style>\n<table border=\"1\" class=\"dataframe\">\n  <thead>\n    <tr style=\"text-align: right;\">\n      <th></th>\n      <th>排名</th>\n      <th>球员</th>\n      <th>球队</th>\n      <th>进球（点球）</th>\n      <th>出场次数</th>\n      <th>出场时间</th>\n      <th>射门</th>\n      <th>射正</th>\n    </tr>\n  </thead>\n  <tbody>\n    <tr>\n      <th>0</th>\n      <td>1</td>\n      <td>瓦尔迪</td>\n      <td>莱斯特</td>\n      <td>17(3)</td>\n      <td>20</td>\n      <td>1800</td>\n      <td>49</td>\n      <td>29</td>\n    </tr>\n    <tr>\n      <th>1</th>\n      <td>2</td>\n      <td>英斯</td>\n      <td>南安普敦</td>\n      <td>14</td>\n      <td>22</td>\n      <td>1537</td>\n      <td>57</td>\n      <td>26</td>\n    </tr>\n    <tr>\n      <th>2</th>\n      <td>3</td>\n      <td>奥巴梅扬</td>\n      <td>阿森纳</td>\n      <td>14(1)</td>\n      <td>22</td>\n      <td>1945</td>\n      <td>55</td>\n      <td>22</td>\n    </tr>\n    <tr>\n      <th>3</th>\n      <td>4</td>\n      <td>拉什福德</td>\n      <td>曼联</td>\n      <td>14(5)</td>\n      <td>22</td>\n      <td>1881</td>\n      <td>74</td>\n      <td>34</td>\n    </tr>\n    <tr>\n      <th>4</th>\n      <td>5</td>\n      <td>亚伯拉罕</td>\n      <td>切尔西</td>\n      <td>13</td>\n      <td>21</td>\n      <td>1673</td>\n      <td>66</td>\n      <td>29</td>\n    </tr>\n    <tr>\n      <th>5</th>\n      <td>6</td>\n      <td>阿圭罗</td>\n      <td>曼城</td>\n      <td>13(2)</td>\n      <td>16</td>\n      <td>998</td>\n      <td>51</td>\n      <td>18</td>\n    </tr>\n    <tr>\n      <th>6</th>\n      <td>7</td>\n      <td>马内</td>\n      <td>利物浦</td>\n      <td>11</td>\n      <td>20</td>\n      <td>1667</td>\n      <td>49</td>\n      <td>25</td>\n    </tr>\n  </tbody>\n</table>\n</div>"
     },
     "execution_count": 27,
     "metadata": {},
     "output_type": "execute_result"
    }
   ],
   "source": [
    "df.iloc[0: 7]"
   ],
   "metadata": {
    "collapsed": false,
    "ExecuteTime": {
     "start_time": "2024-02-22T14:25:36.472662Z",
     "end_time": "2024-02-22T14:25:36.487663Z"
    }
   }
  },
  {
   "cell_type": "code",
   "execution_count": 28,
   "outputs": [],
   "source": [
    "df.iloc[0, 7] = 15"
   ],
   "metadata": {
    "collapsed": false,
    "ExecuteTime": {
     "start_time": "2024-02-22T14:25:51.649137Z",
     "end_time": "2024-02-22T14:25:51.664645Z"
    }
   }
  },
  {
   "cell_type": "code",
   "execution_count": 29,
   "outputs": [
    {
     "data": {
      "text/plain": "   排名    球员    球队 进球（点球）  出场次数  出场时间  射门  射正\n0   1   瓦尔迪   莱斯特  17(3)    20  1800  49  15\n1   2    英斯  南安普敦     14    22  1537  57  26\n2   3  奥巴梅扬   阿森纳  14(1)    22  1945  55  22\n3   4  拉什福德    曼联  14(5)    22  1881  74  34\n4   5  亚伯拉罕   切尔西     13    21  1673  66  29\n5   6   阿圭罗    曼城  13(2)    16   998  51  18\n6   7    马内   利物浦     11    20  1667  49  25",
      "text/html": "<div>\n<style scoped>\n    .dataframe tbody tr th:only-of-type {\n        vertical-align: middle;\n    }\n\n    .dataframe tbody tr th {\n        vertical-align: top;\n    }\n\n    .dataframe thead th {\n        text-align: right;\n    }\n</style>\n<table border=\"1\" class=\"dataframe\">\n  <thead>\n    <tr style=\"text-align: right;\">\n      <th></th>\n      <th>排名</th>\n      <th>球员</th>\n      <th>球队</th>\n      <th>进球（点球）</th>\n      <th>出场次数</th>\n      <th>出场时间</th>\n      <th>射门</th>\n      <th>射正</th>\n    </tr>\n  </thead>\n  <tbody>\n    <tr>\n      <th>0</th>\n      <td>1</td>\n      <td>瓦尔迪</td>\n      <td>莱斯特</td>\n      <td>17(3)</td>\n      <td>20</td>\n      <td>1800</td>\n      <td>49</td>\n      <td>15</td>\n    </tr>\n    <tr>\n      <th>1</th>\n      <td>2</td>\n      <td>英斯</td>\n      <td>南安普敦</td>\n      <td>14</td>\n      <td>22</td>\n      <td>1537</td>\n      <td>57</td>\n      <td>26</td>\n    </tr>\n    <tr>\n      <th>2</th>\n      <td>3</td>\n      <td>奥巴梅扬</td>\n      <td>阿森纳</td>\n      <td>14(1)</td>\n      <td>22</td>\n      <td>1945</td>\n      <td>55</td>\n      <td>22</td>\n    </tr>\n    <tr>\n      <th>3</th>\n      <td>4</td>\n      <td>拉什福德</td>\n      <td>曼联</td>\n      <td>14(5)</td>\n      <td>22</td>\n      <td>1881</td>\n      <td>74</td>\n      <td>34</td>\n    </tr>\n    <tr>\n      <th>4</th>\n      <td>5</td>\n      <td>亚伯拉罕</td>\n      <td>切尔西</td>\n      <td>13</td>\n      <td>21</td>\n      <td>1673</td>\n      <td>66</td>\n      <td>29</td>\n    </tr>\n    <tr>\n      <th>5</th>\n      <td>6</td>\n      <td>阿圭罗</td>\n      <td>曼城</td>\n      <td>13(2)</td>\n      <td>16</td>\n      <td>998</td>\n      <td>51</td>\n      <td>18</td>\n    </tr>\n    <tr>\n      <th>6</th>\n      <td>7</td>\n      <td>马内</td>\n      <td>利物浦</td>\n      <td>11</td>\n      <td>20</td>\n      <td>1667</td>\n      <td>49</td>\n      <td>25</td>\n    </tr>\n  </tbody>\n</table>\n</div>"
     },
     "execution_count": 29,
     "metadata": {},
     "output_type": "execute_result"
    }
   ],
   "source": [
    "df.iloc[0: 7]"
   ],
   "metadata": {
    "collapsed": false,
    "ExecuteTime": {
     "start_time": "2024-02-22T14:25:56.424325Z",
     "end_time": "2024-02-22T14:25:56.447771Z"
    }
   }
  },
  {
   "cell_type": "code",
   "execution_count": 30,
   "outputs": [],
   "source": [
    "df.iloc[0, 7] = 29"
   ],
   "metadata": {
    "collapsed": false,
    "ExecuteTime": {
     "start_time": "2024-02-22T14:26:48.912526Z",
     "end_time": "2024-02-22T14:26:48.918526Z"
    }
   }
  },
  {
   "cell_type": "code",
   "execution_count": 31,
   "outputs": [
    {
     "data": {
      "text/plain": "   排名    球员    球队 进球（点球）  出场次数  出场时间  射门  射正\n0   1   瓦尔迪   莱斯特  17(3)    20  1800  49  29\n1   2    英斯  南安普敦     14    22  1537  57  26\n2   3  奥巴梅扬   阿森纳  14(1)    22  1945  55  22\n3   4  拉什福德    曼联  14(5)    22  1881  74  34\n4   5  亚伯拉罕   切尔西     13    21  1673  66  29\n5   6   阿圭罗    曼城  13(2)    16   998  51  18\n6   7    马内   利物浦     11    20  1667  49  25",
      "text/html": "<div>\n<style scoped>\n    .dataframe tbody tr th:only-of-type {\n        vertical-align: middle;\n    }\n\n    .dataframe tbody tr th {\n        vertical-align: top;\n    }\n\n    .dataframe thead th {\n        text-align: right;\n    }\n</style>\n<table border=\"1\" class=\"dataframe\">\n  <thead>\n    <tr style=\"text-align: right;\">\n      <th></th>\n      <th>排名</th>\n      <th>球员</th>\n      <th>球队</th>\n      <th>进球（点球）</th>\n      <th>出场次数</th>\n      <th>出场时间</th>\n      <th>射门</th>\n      <th>射正</th>\n    </tr>\n  </thead>\n  <tbody>\n    <tr>\n      <th>0</th>\n      <td>1</td>\n      <td>瓦尔迪</td>\n      <td>莱斯特</td>\n      <td>17(3)</td>\n      <td>20</td>\n      <td>1800</td>\n      <td>49</td>\n      <td>29</td>\n    </tr>\n    <tr>\n      <th>1</th>\n      <td>2</td>\n      <td>英斯</td>\n      <td>南安普敦</td>\n      <td>14</td>\n      <td>22</td>\n      <td>1537</td>\n      <td>57</td>\n      <td>26</td>\n    </tr>\n    <tr>\n      <th>2</th>\n      <td>3</td>\n      <td>奥巴梅扬</td>\n      <td>阿森纳</td>\n      <td>14(1)</td>\n      <td>22</td>\n      <td>1945</td>\n      <td>55</td>\n      <td>22</td>\n    </tr>\n    <tr>\n      <th>3</th>\n      <td>4</td>\n      <td>拉什福德</td>\n      <td>曼联</td>\n      <td>14(5)</td>\n      <td>22</td>\n      <td>1881</td>\n      <td>74</td>\n      <td>34</td>\n    </tr>\n    <tr>\n      <th>4</th>\n      <td>5</td>\n      <td>亚伯拉罕</td>\n      <td>切尔西</td>\n      <td>13</td>\n      <td>21</td>\n      <td>1673</td>\n      <td>66</td>\n      <td>29</td>\n    </tr>\n    <tr>\n      <th>5</th>\n      <td>6</td>\n      <td>阿圭罗</td>\n      <td>曼城</td>\n      <td>13(2)</td>\n      <td>16</td>\n      <td>998</td>\n      <td>51</td>\n      <td>18</td>\n    </tr>\n    <tr>\n      <th>6</th>\n      <td>7</td>\n      <td>马内</td>\n      <td>利物浦</td>\n      <td>11</td>\n      <td>20</td>\n      <td>1667</td>\n      <td>49</td>\n      <td>25</td>\n    </tr>\n  </tbody>\n</table>\n</div>"
     },
     "execution_count": 31,
     "metadata": {},
     "output_type": "execute_result"
    }
   ],
   "source": [
    "df.iloc[0: 7]"
   ],
   "metadata": {
    "collapsed": false,
    "ExecuteTime": {
     "start_time": "2024-02-22T14:26:56.400830Z",
     "end_time": "2024-02-22T14:26:56.429352Z"
    }
   }
  },
  {
   "cell_type": "markdown",
   "source": [
    "# 查看缺失值"
   ],
   "metadata": {
    "collapsed": false
   }
  },
  {
   "cell_type": "code",
   "execution_count": 32,
   "outputs": [
    {
     "data": {
      "text/plain": "       排名     球员     球队  进球（点球）   出场次数   出场时间     射门     射正\n0   False  False  False   False  False  False  False  False\n1   False  False  False   False  False  False  False  False\n2   False  False  False   False  False  False  False  False\n3   False  False  False   False  False  False  False  False\n4   False  False  False   False  False  False  False  False\n5   False  False  False   False  False  False  False  False\n6   False  False  False   False  False  False  False  False\n7   False  False  False   False  False  False  False  False\n8   False  False  False   False  False  False  False  False\n9   False  False  False   False  False  False  False  False\n10  False  False  False   False  False  False  False  False\n11  False  False  False   False  False  False  False  False\n12  False  False  False   False  False  False  False  False\n13  False  False  False   False  False  False  False  False\n14  False  False  False   False  False  False  False  False\n15  False  False  False   False  False  False  False  False\n16  False  False  False   False  False  False  False  False\n17  False  False  False   False  False  False  False  False\n18  False  False  False   False  False  False  False  False\n19  False  False  False   False  False  False  False  False\n20  False  False  False   False  False  False  False  False\n21  False  False  False   False  False  False  False  False\n22  False  False  False   False  False  False  False  False\n23  False  False  False   False  False  False  False  False\n24  False  False  False   False  False  False  False  False\n25  False  False  False   False  False  False  False  False\n26  False  False  False   False  False  False  False  False\n27  False  False  False   False  False  False  False  False\n28  False  False  False   False  False  False  False  False\n29  False  False  False   False  False  False  False  False\n30  False  False  False   False  False  False  False  False\n31  False  False  False   False  False  False  False  False\n32  False  False  False   False  False  False  False  False\n33  False  False  False   False  False  False  False  False\n34  False  False  False   False  False  False  False  False\n35  False  False  False   False  False  False  False  False\n36  False  False  False   False  False  False  False  False\n37  False  False  False   False  False  False  False  False\n38  False  False  False   False  False  False  False  False\n39  False  False  False   False  False  False  False  False\n40  False  False  False   False  False  False  False  False\n41  False  False  False   False  False  False  False  False\n42  False  False  False   False  False  False  False  False\n43  False  False  False   False  False  False  False  False\n44  False  False  False   False  False  False  False  False\n45  False  False  False   False  False  False  False  False\n46  False  False  False   False  False  False  False  False\n47  False  False  False   False  False  False  False  False\n48  False  False  False   False  False  False  False  False\n49  False  False  False   False  False  False  False  False",
      "text/html": "<div>\n<style scoped>\n    .dataframe tbody tr th:only-of-type {\n        vertical-align: middle;\n    }\n\n    .dataframe tbody tr th {\n        vertical-align: top;\n    }\n\n    .dataframe thead th {\n        text-align: right;\n    }\n</style>\n<table border=\"1\" class=\"dataframe\">\n  <thead>\n    <tr style=\"text-align: right;\">\n      <th></th>\n      <th>排名</th>\n      <th>球员</th>\n      <th>球队</th>\n      <th>进球（点球）</th>\n      <th>出场次数</th>\n      <th>出场时间</th>\n      <th>射门</th>\n      <th>射正</th>\n    </tr>\n  </thead>\n  <tbody>\n    <tr>\n      <th>0</th>\n      <td>False</td>\n      <td>False</td>\n      <td>False</td>\n      <td>False</td>\n      <td>False</td>\n      <td>False</td>\n      <td>False</td>\n      <td>False</td>\n    </tr>\n    <tr>\n      <th>1</th>\n      <td>False</td>\n      <td>False</td>\n      <td>False</td>\n      <td>False</td>\n      <td>False</td>\n      <td>False</td>\n      <td>False</td>\n      <td>False</td>\n    </tr>\n    <tr>\n      <th>2</th>\n      <td>False</td>\n      <td>False</td>\n      <td>False</td>\n      <td>False</td>\n      <td>False</td>\n      <td>False</td>\n      <td>False</td>\n      <td>False</td>\n    </tr>\n    <tr>\n      <th>3</th>\n      <td>False</td>\n      <td>False</td>\n      <td>False</td>\n      <td>False</td>\n      <td>False</td>\n      <td>False</td>\n      <td>False</td>\n      <td>False</td>\n    </tr>\n    <tr>\n      <th>4</th>\n      <td>False</td>\n      <td>False</td>\n      <td>False</td>\n      <td>False</td>\n      <td>False</td>\n      <td>False</td>\n      <td>False</td>\n      <td>False</td>\n    </tr>\n    <tr>\n      <th>5</th>\n      <td>False</td>\n      <td>False</td>\n      <td>False</td>\n      <td>False</td>\n      <td>False</td>\n      <td>False</td>\n      <td>False</td>\n      <td>False</td>\n    </tr>\n    <tr>\n      <th>6</th>\n      <td>False</td>\n      <td>False</td>\n      <td>False</td>\n      <td>False</td>\n      <td>False</td>\n      <td>False</td>\n      <td>False</td>\n      <td>False</td>\n    </tr>\n    <tr>\n      <th>7</th>\n      <td>False</td>\n      <td>False</td>\n      <td>False</td>\n      <td>False</td>\n      <td>False</td>\n      <td>False</td>\n      <td>False</td>\n      <td>False</td>\n    </tr>\n    <tr>\n      <th>8</th>\n      <td>False</td>\n      <td>False</td>\n      <td>False</td>\n      <td>False</td>\n      <td>False</td>\n      <td>False</td>\n      <td>False</td>\n      <td>False</td>\n    </tr>\n    <tr>\n      <th>9</th>\n      <td>False</td>\n      <td>False</td>\n      <td>False</td>\n      <td>False</td>\n      <td>False</td>\n      <td>False</td>\n      <td>False</td>\n      <td>False</td>\n    </tr>\n    <tr>\n      <th>10</th>\n      <td>False</td>\n      <td>False</td>\n      <td>False</td>\n      <td>False</td>\n      <td>False</td>\n      <td>False</td>\n      <td>False</td>\n      <td>False</td>\n    </tr>\n    <tr>\n      <th>11</th>\n      <td>False</td>\n      <td>False</td>\n      <td>False</td>\n      <td>False</td>\n      <td>False</td>\n      <td>False</td>\n      <td>False</td>\n      <td>False</td>\n    </tr>\n    <tr>\n      <th>12</th>\n      <td>False</td>\n      <td>False</td>\n      <td>False</td>\n      <td>False</td>\n      <td>False</td>\n      <td>False</td>\n      <td>False</td>\n      <td>False</td>\n    </tr>\n    <tr>\n      <th>13</th>\n      <td>False</td>\n      <td>False</td>\n      <td>False</td>\n      <td>False</td>\n      <td>False</td>\n      <td>False</td>\n      <td>False</td>\n      <td>False</td>\n    </tr>\n    <tr>\n      <th>14</th>\n      <td>False</td>\n      <td>False</td>\n      <td>False</td>\n      <td>False</td>\n      <td>False</td>\n      <td>False</td>\n      <td>False</td>\n      <td>False</td>\n    </tr>\n    <tr>\n      <th>15</th>\n      <td>False</td>\n      <td>False</td>\n      <td>False</td>\n      <td>False</td>\n      <td>False</td>\n      <td>False</td>\n      <td>False</td>\n      <td>False</td>\n    </tr>\n    <tr>\n      <th>16</th>\n      <td>False</td>\n      <td>False</td>\n      <td>False</td>\n      <td>False</td>\n      <td>False</td>\n      <td>False</td>\n      <td>False</td>\n      <td>False</td>\n    </tr>\n    <tr>\n      <th>17</th>\n      <td>False</td>\n      <td>False</td>\n      <td>False</td>\n      <td>False</td>\n      <td>False</td>\n      <td>False</td>\n      <td>False</td>\n      <td>False</td>\n    </tr>\n    <tr>\n      <th>18</th>\n      <td>False</td>\n      <td>False</td>\n      <td>False</td>\n      <td>False</td>\n      <td>False</td>\n      <td>False</td>\n      <td>False</td>\n      <td>False</td>\n    </tr>\n    <tr>\n      <th>19</th>\n      <td>False</td>\n      <td>False</td>\n      <td>False</td>\n      <td>False</td>\n      <td>False</td>\n      <td>False</td>\n      <td>False</td>\n      <td>False</td>\n    </tr>\n    <tr>\n      <th>20</th>\n      <td>False</td>\n      <td>False</td>\n      <td>False</td>\n      <td>False</td>\n      <td>False</td>\n      <td>False</td>\n      <td>False</td>\n      <td>False</td>\n    </tr>\n    <tr>\n      <th>21</th>\n      <td>False</td>\n      <td>False</td>\n      <td>False</td>\n      <td>False</td>\n      <td>False</td>\n      <td>False</td>\n      <td>False</td>\n      <td>False</td>\n    </tr>\n    <tr>\n      <th>22</th>\n      <td>False</td>\n      <td>False</td>\n      <td>False</td>\n      <td>False</td>\n      <td>False</td>\n      <td>False</td>\n      <td>False</td>\n      <td>False</td>\n    </tr>\n    <tr>\n      <th>23</th>\n      <td>False</td>\n      <td>False</td>\n      <td>False</td>\n      <td>False</td>\n      <td>False</td>\n      <td>False</td>\n      <td>False</td>\n      <td>False</td>\n    </tr>\n    <tr>\n      <th>24</th>\n      <td>False</td>\n      <td>False</td>\n      <td>False</td>\n      <td>False</td>\n      <td>False</td>\n      <td>False</td>\n      <td>False</td>\n      <td>False</td>\n    </tr>\n    <tr>\n      <th>25</th>\n      <td>False</td>\n      <td>False</td>\n      <td>False</td>\n      <td>False</td>\n      <td>False</td>\n      <td>False</td>\n      <td>False</td>\n      <td>False</td>\n    </tr>\n    <tr>\n      <th>26</th>\n      <td>False</td>\n      <td>False</td>\n      <td>False</td>\n      <td>False</td>\n      <td>False</td>\n      <td>False</td>\n      <td>False</td>\n      <td>False</td>\n    </tr>\n    <tr>\n      <th>27</th>\n      <td>False</td>\n      <td>False</td>\n      <td>False</td>\n      <td>False</td>\n      <td>False</td>\n      <td>False</td>\n      <td>False</td>\n      <td>False</td>\n    </tr>\n    <tr>\n      <th>28</th>\n      <td>False</td>\n      <td>False</td>\n      <td>False</td>\n      <td>False</td>\n      <td>False</td>\n      <td>False</td>\n      <td>False</td>\n      <td>False</td>\n    </tr>\n    <tr>\n      <th>29</th>\n      <td>False</td>\n      <td>False</td>\n      <td>False</td>\n      <td>False</td>\n      <td>False</td>\n      <td>False</td>\n      <td>False</td>\n      <td>False</td>\n    </tr>\n    <tr>\n      <th>30</th>\n      <td>False</td>\n      <td>False</td>\n      <td>False</td>\n      <td>False</td>\n      <td>False</td>\n      <td>False</td>\n      <td>False</td>\n      <td>False</td>\n    </tr>\n    <tr>\n      <th>31</th>\n      <td>False</td>\n      <td>False</td>\n      <td>False</td>\n      <td>False</td>\n      <td>False</td>\n      <td>False</td>\n      <td>False</td>\n      <td>False</td>\n    </tr>\n    <tr>\n      <th>32</th>\n      <td>False</td>\n      <td>False</td>\n      <td>False</td>\n      <td>False</td>\n      <td>False</td>\n      <td>False</td>\n      <td>False</td>\n      <td>False</td>\n    </tr>\n    <tr>\n      <th>33</th>\n      <td>False</td>\n      <td>False</td>\n      <td>False</td>\n      <td>False</td>\n      <td>False</td>\n      <td>False</td>\n      <td>False</td>\n      <td>False</td>\n    </tr>\n    <tr>\n      <th>34</th>\n      <td>False</td>\n      <td>False</td>\n      <td>False</td>\n      <td>False</td>\n      <td>False</td>\n      <td>False</td>\n      <td>False</td>\n      <td>False</td>\n    </tr>\n    <tr>\n      <th>35</th>\n      <td>False</td>\n      <td>False</td>\n      <td>False</td>\n      <td>False</td>\n      <td>False</td>\n      <td>False</td>\n      <td>False</td>\n      <td>False</td>\n    </tr>\n    <tr>\n      <th>36</th>\n      <td>False</td>\n      <td>False</td>\n      <td>False</td>\n      <td>False</td>\n      <td>False</td>\n      <td>False</td>\n      <td>False</td>\n      <td>False</td>\n    </tr>\n    <tr>\n      <th>37</th>\n      <td>False</td>\n      <td>False</td>\n      <td>False</td>\n      <td>False</td>\n      <td>False</td>\n      <td>False</td>\n      <td>False</td>\n      <td>False</td>\n    </tr>\n    <tr>\n      <th>38</th>\n      <td>False</td>\n      <td>False</td>\n      <td>False</td>\n      <td>False</td>\n      <td>False</td>\n      <td>False</td>\n      <td>False</td>\n      <td>False</td>\n    </tr>\n    <tr>\n      <th>39</th>\n      <td>False</td>\n      <td>False</td>\n      <td>False</td>\n      <td>False</td>\n      <td>False</td>\n      <td>False</td>\n      <td>False</td>\n      <td>False</td>\n    </tr>\n    <tr>\n      <th>40</th>\n      <td>False</td>\n      <td>False</td>\n      <td>False</td>\n      <td>False</td>\n      <td>False</td>\n      <td>False</td>\n      <td>False</td>\n      <td>False</td>\n    </tr>\n    <tr>\n      <th>41</th>\n      <td>False</td>\n      <td>False</td>\n      <td>False</td>\n      <td>False</td>\n      <td>False</td>\n      <td>False</td>\n      <td>False</td>\n      <td>False</td>\n    </tr>\n    <tr>\n      <th>42</th>\n      <td>False</td>\n      <td>False</td>\n      <td>False</td>\n      <td>False</td>\n      <td>False</td>\n      <td>False</td>\n      <td>False</td>\n      <td>False</td>\n    </tr>\n    <tr>\n      <th>43</th>\n      <td>False</td>\n      <td>False</td>\n      <td>False</td>\n      <td>False</td>\n      <td>False</td>\n      <td>False</td>\n      <td>False</td>\n      <td>False</td>\n    </tr>\n    <tr>\n      <th>44</th>\n      <td>False</td>\n      <td>False</td>\n      <td>False</td>\n      <td>False</td>\n      <td>False</td>\n      <td>False</td>\n      <td>False</td>\n      <td>False</td>\n    </tr>\n    <tr>\n      <th>45</th>\n      <td>False</td>\n      <td>False</td>\n      <td>False</td>\n      <td>False</td>\n      <td>False</td>\n      <td>False</td>\n      <td>False</td>\n      <td>False</td>\n    </tr>\n    <tr>\n      <th>46</th>\n      <td>False</td>\n      <td>False</td>\n      <td>False</td>\n      <td>False</td>\n      <td>False</td>\n      <td>False</td>\n      <td>False</td>\n      <td>False</td>\n    </tr>\n    <tr>\n      <th>47</th>\n      <td>False</td>\n      <td>False</td>\n      <td>False</td>\n      <td>False</td>\n      <td>False</td>\n      <td>False</td>\n      <td>False</td>\n      <td>False</td>\n    </tr>\n    <tr>\n      <th>48</th>\n      <td>False</td>\n      <td>False</td>\n      <td>False</td>\n      <td>False</td>\n      <td>False</td>\n      <td>False</td>\n      <td>False</td>\n      <td>False</td>\n    </tr>\n    <tr>\n      <th>49</th>\n      <td>False</td>\n      <td>False</td>\n      <td>False</td>\n      <td>False</td>\n      <td>False</td>\n      <td>False</td>\n      <td>False</td>\n      <td>False</td>\n    </tr>\n  </tbody>\n</table>\n</div>"
     },
     "execution_count": 32,
     "metadata": {},
     "output_type": "execute_result"
    }
   ],
   "source": [
    "df.isnull()"
   ],
   "metadata": {
    "collapsed": false,
    "ExecuteTime": {
     "start_time": "2024-02-22T14:27:27.249737Z",
     "end_time": "2024-02-22T14:27:27.274737Z"
    }
   }
  },
  {
   "cell_type": "code",
   "execution_count": 33,
   "outputs": [],
   "source": [
    "df.iloc[0, 7] = None"
   ],
   "metadata": {
    "collapsed": false,
    "ExecuteTime": {
     "start_time": "2024-02-22T14:28:04.199236Z",
     "end_time": "2024-02-22T14:28:04.208241Z"
    }
   }
  },
  {
   "cell_type": "code",
   "execution_count": 34,
   "outputs": [
    {
     "data": {
      "text/plain": "       排名     球员     球队  进球（点球）   出场次数   出场时间     射门     射正\n0   False  False  False   False  False  False  False   True\n1   False  False  False   False  False  False  False  False\n2   False  False  False   False  False  False  False  False\n3   False  False  False   False  False  False  False  False\n4   False  False  False   False  False  False  False  False\n5   False  False  False   False  False  False  False  False\n6   False  False  False   False  False  False  False  False\n7   False  False  False   False  False  False  False  False\n8   False  False  False   False  False  False  False  False\n9   False  False  False   False  False  False  False  False\n10  False  False  False   False  False  False  False  False\n11  False  False  False   False  False  False  False  False\n12  False  False  False   False  False  False  False  False\n13  False  False  False   False  False  False  False  False\n14  False  False  False   False  False  False  False  False\n15  False  False  False   False  False  False  False  False\n16  False  False  False   False  False  False  False  False\n17  False  False  False   False  False  False  False  False\n18  False  False  False   False  False  False  False  False\n19  False  False  False   False  False  False  False  False\n20  False  False  False   False  False  False  False  False\n21  False  False  False   False  False  False  False  False\n22  False  False  False   False  False  False  False  False\n23  False  False  False   False  False  False  False  False\n24  False  False  False   False  False  False  False  False\n25  False  False  False   False  False  False  False  False\n26  False  False  False   False  False  False  False  False\n27  False  False  False   False  False  False  False  False\n28  False  False  False   False  False  False  False  False\n29  False  False  False   False  False  False  False  False\n30  False  False  False   False  False  False  False  False\n31  False  False  False   False  False  False  False  False\n32  False  False  False   False  False  False  False  False\n33  False  False  False   False  False  False  False  False\n34  False  False  False   False  False  False  False  False\n35  False  False  False   False  False  False  False  False\n36  False  False  False   False  False  False  False  False\n37  False  False  False   False  False  False  False  False\n38  False  False  False   False  False  False  False  False\n39  False  False  False   False  False  False  False  False\n40  False  False  False   False  False  False  False  False\n41  False  False  False   False  False  False  False  False\n42  False  False  False   False  False  False  False  False\n43  False  False  False   False  False  False  False  False\n44  False  False  False   False  False  False  False  False\n45  False  False  False   False  False  False  False  False\n46  False  False  False   False  False  False  False  False\n47  False  False  False   False  False  False  False  False\n48  False  False  False   False  False  False  False  False\n49  False  False  False   False  False  False  False  False",
      "text/html": "<div>\n<style scoped>\n    .dataframe tbody tr th:only-of-type {\n        vertical-align: middle;\n    }\n\n    .dataframe tbody tr th {\n        vertical-align: top;\n    }\n\n    .dataframe thead th {\n        text-align: right;\n    }\n</style>\n<table border=\"1\" class=\"dataframe\">\n  <thead>\n    <tr style=\"text-align: right;\">\n      <th></th>\n      <th>排名</th>\n      <th>球员</th>\n      <th>球队</th>\n      <th>进球（点球）</th>\n      <th>出场次数</th>\n      <th>出场时间</th>\n      <th>射门</th>\n      <th>射正</th>\n    </tr>\n  </thead>\n  <tbody>\n    <tr>\n      <th>0</th>\n      <td>False</td>\n      <td>False</td>\n      <td>False</td>\n      <td>False</td>\n      <td>False</td>\n      <td>False</td>\n      <td>False</td>\n      <td>True</td>\n    </tr>\n    <tr>\n      <th>1</th>\n      <td>False</td>\n      <td>False</td>\n      <td>False</td>\n      <td>False</td>\n      <td>False</td>\n      <td>False</td>\n      <td>False</td>\n      <td>False</td>\n    </tr>\n    <tr>\n      <th>2</th>\n      <td>False</td>\n      <td>False</td>\n      <td>False</td>\n      <td>False</td>\n      <td>False</td>\n      <td>False</td>\n      <td>False</td>\n      <td>False</td>\n    </tr>\n    <tr>\n      <th>3</th>\n      <td>False</td>\n      <td>False</td>\n      <td>False</td>\n      <td>False</td>\n      <td>False</td>\n      <td>False</td>\n      <td>False</td>\n      <td>False</td>\n    </tr>\n    <tr>\n      <th>4</th>\n      <td>False</td>\n      <td>False</td>\n      <td>False</td>\n      <td>False</td>\n      <td>False</td>\n      <td>False</td>\n      <td>False</td>\n      <td>False</td>\n    </tr>\n    <tr>\n      <th>5</th>\n      <td>False</td>\n      <td>False</td>\n      <td>False</td>\n      <td>False</td>\n      <td>False</td>\n      <td>False</td>\n      <td>False</td>\n      <td>False</td>\n    </tr>\n    <tr>\n      <th>6</th>\n      <td>False</td>\n      <td>False</td>\n      <td>False</td>\n      <td>False</td>\n      <td>False</td>\n      <td>False</td>\n      <td>False</td>\n      <td>False</td>\n    </tr>\n    <tr>\n      <th>7</th>\n      <td>False</td>\n      <td>False</td>\n      <td>False</td>\n      <td>False</td>\n      <td>False</td>\n      <td>False</td>\n      <td>False</td>\n      <td>False</td>\n    </tr>\n    <tr>\n      <th>8</th>\n      <td>False</td>\n      <td>False</td>\n      <td>False</td>\n      <td>False</td>\n      <td>False</td>\n      <td>False</td>\n      <td>False</td>\n      <td>False</td>\n    </tr>\n    <tr>\n      <th>9</th>\n      <td>False</td>\n      <td>False</td>\n      <td>False</td>\n      <td>False</td>\n      <td>False</td>\n      <td>False</td>\n      <td>False</td>\n      <td>False</td>\n    </tr>\n    <tr>\n      <th>10</th>\n      <td>False</td>\n      <td>False</td>\n      <td>False</td>\n      <td>False</td>\n      <td>False</td>\n      <td>False</td>\n      <td>False</td>\n      <td>False</td>\n    </tr>\n    <tr>\n      <th>11</th>\n      <td>False</td>\n      <td>False</td>\n      <td>False</td>\n      <td>False</td>\n      <td>False</td>\n      <td>False</td>\n      <td>False</td>\n      <td>False</td>\n    </tr>\n    <tr>\n      <th>12</th>\n      <td>False</td>\n      <td>False</td>\n      <td>False</td>\n      <td>False</td>\n      <td>False</td>\n      <td>False</td>\n      <td>False</td>\n      <td>False</td>\n    </tr>\n    <tr>\n      <th>13</th>\n      <td>False</td>\n      <td>False</td>\n      <td>False</td>\n      <td>False</td>\n      <td>False</td>\n      <td>False</td>\n      <td>False</td>\n      <td>False</td>\n    </tr>\n    <tr>\n      <th>14</th>\n      <td>False</td>\n      <td>False</td>\n      <td>False</td>\n      <td>False</td>\n      <td>False</td>\n      <td>False</td>\n      <td>False</td>\n      <td>False</td>\n    </tr>\n    <tr>\n      <th>15</th>\n      <td>False</td>\n      <td>False</td>\n      <td>False</td>\n      <td>False</td>\n      <td>False</td>\n      <td>False</td>\n      <td>False</td>\n      <td>False</td>\n    </tr>\n    <tr>\n      <th>16</th>\n      <td>False</td>\n      <td>False</td>\n      <td>False</td>\n      <td>False</td>\n      <td>False</td>\n      <td>False</td>\n      <td>False</td>\n      <td>False</td>\n    </tr>\n    <tr>\n      <th>17</th>\n      <td>False</td>\n      <td>False</td>\n      <td>False</td>\n      <td>False</td>\n      <td>False</td>\n      <td>False</td>\n      <td>False</td>\n      <td>False</td>\n    </tr>\n    <tr>\n      <th>18</th>\n      <td>False</td>\n      <td>False</td>\n      <td>False</td>\n      <td>False</td>\n      <td>False</td>\n      <td>False</td>\n      <td>False</td>\n      <td>False</td>\n    </tr>\n    <tr>\n      <th>19</th>\n      <td>False</td>\n      <td>False</td>\n      <td>False</td>\n      <td>False</td>\n      <td>False</td>\n      <td>False</td>\n      <td>False</td>\n      <td>False</td>\n    </tr>\n    <tr>\n      <th>20</th>\n      <td>False</td>\n      <td>False</td>\n      <td>False</td>\n      <td>False</td>\n      <td>False</td>\n      <td>False</td>\n      <td>False</td>\n      <td>False</td>\n    </tr>\n    <tr>\n      <th>21</th>\n      <td>False</td>\n      <td>False</td>\n      <td>False</td>\n      <td>False</td>\n      <td>False</td>\n      <td>False</td>\n      <td>False</td>\n      <td>False</td>\n    </tr>\n    <tr>\n      <th>22</th>\n      <td>False</td>\n      <td>False</td>\n      <td>False</td>\n      <td>False</td>\n      <td>False</td>\n      <td>False</td>\n      <td>False</td>\n      <td>False</td>\n    </tr>\n    <tr>\n      <th>23</th>\n      <td>False</td>\n      <td>False</td>\n      <td>False</td>\n      <td>False</td>\n      <td>False</td>\n      <td>False</td>\n      <td>False</td>\n      <td>False</td>\n    </tr>\n    <tr>\n      <th>24</th>\n      <td>False</td>\n      <td>False</td>\n      <td>False</td>\n      <td>False</td>\n      <td>False</td>\n      <td>False</td>\n      <td>False</td>\n      <td>False</td>\n    </tr>\n    <tr>\n      <th>25</th>\n      <td>False</td>\n      <td>False</td>\n      <td>False</td>\n      <td>False</td>\n      <td>False</td>\n      <td>False</td>\n      <td>False</td>\n      <td>False</td>\n    </tr>\n    <tr>\n      <th>26</th>\n      <td>False</td>\n      <td>False</td>\n      <td>False</td>\n      <td>False</td>\n      <td>False</td>\n      <td>False</td>\n      <td>False</td>\n      <td>False</td>\n    </tr>\n    <tr>\n      <th>27</th>\n      <td>False</td>\n      <td>False</td>\n      <td>False</td>\n      <td>False</td>\n      <td>False</td>\n      <td>False</td>\n      <td>False</td>\n      <td>False</td>\n    </tr>\n    <tr>\n      <th>28</th>\n      <td>False</td>\n      <td>False</td>\n      <td>False</td>\n      <td>False</td>\n      <td>False</td>\n      <td>False</td>\n      <td>False</td>\n      <td>False</td>\n    </tr>\n    <tr>\n      <th>29</th>\n      <td>False</td>\n      <td>False</td>\n      <td>False</td>\n      <td>False</td>\n      <td>False</td>\n      <td>False</td>\n      <td>False</td>\n      <td>False</td>\n    </tr>\n    <tr>\n      <th>30</th>\n      <td>False</td>\n      <td>False</td>\n      <td>False</td>\n      <td>False</td>\n      <td>False</td>\n      <td>False</td>\n      <td>False</td>\n      <td>False</td>\n    </tr>\n    <tr>\n      <th>31</th>\n      <td>False</td>\n      <td>False</td>\n      <td>False</td>\n      <td>False</td>\n      <td>False</td>\n      <td>False</td>\n      <td>False</td>\n      <td>False</td>\n    </tr>\n    <tr>\n      <th>32</th>\n      <td>False</td>\n      <td>False</td>\n      <td>False</td>\n      <td>False</td>\n      <td>False</td>\n      <td>False</td>\n      <td>False</td>\n      <td>False</td>\n    </tr>\n    <tr>\n      <th>33</th>\n      <td>False</td>\n      <td>False</td>\n      <td>False</td>\n      <td>False</td>\n      <td>False</td>\n      <td>False</td>\n      <td>False</td>\n      <td>False</td>\n    </tr>\n    <tr>\n      <th>34</th>\n      <td>False</td>\n      <td>False</td>\n      <td>False</td>\n      <td>False</td>\n      <td>False</td>\n      <td>False</td>\n      <td>False</td>\n      <td>False</td>\n    </tr>\n    <tr>\n      <th>35</th>\n      <td>False</td>\n      <td>False</td>\n      <td>False</td>\n      <td>False</td>\n      <td>False</td>\n      <td>False</td>\n      <td>False</td>\n      <td>False</td>\n    </tr>\n    <tr>\n      <th>36</th>\n      <td>False</td>\n      <td>False</td>\n      <td>False</td>\n      <td>False</td>\n      <td>False</td>\n      <td>False</td>\n      <td>False</td>\n      <td>False</td>\n    </tr>\n    <tr>\n      <th>37</th>\n      <td>False</td>\n      <td>False</td>\n      <td>False</td>\n      <td>False</td>\n      <td>False</td>\n      <td>False</td>\n      <td>False</td>\n      <td>False</td>\n    </tr>\n    <tr>\n      <th>38</th>\n      <td>False</td>\n      <td>False</td>\n      <td>False</td>\n      <td>False</td>\n      <td>False</td>\n      <td>False</td>\n      <td>False</td>\n      <td>False</td>\n    </tr>\n    <tr>\n      <th>39</th>\n      <td>False</td>\n      <td>False</td>\n      <td>False</td>\n      <td>False</td>\n      <td>False</td>\n      <td>False</td>\n      <td>False</td>\n      <td>False</td>\n    </tr>\n    <tr>\n      <th>40</th>\n      <td>False</td>\n      <td>False</td>\n      <td>False</td>\n      <td>False</td>\n      <td>False</td>\n      <td>False</td>\n      <td>False</td>\n      <td>False</td>\n    </tr>\n    <tr>\n      <th>41</th>\n      <td>False</td>\n      <td>False</td>\n      <td>False</td>\n      <td>False</td>\n      <td>False</td>\n      <td>False</td>\n      <td>False</td>\n      <td>False</td>\n    </tr>\n    <tr>\n      <th>42</th>\n      <td>False</td>\n      <td>False</td>\n      <td>False</td>\n      <td>False</td>\n      <td>False</td>\n      <td>False</td>\n      <td>False</td>\n      <td>False</td>\n    </tr>\n    <tr>\n      <th>43</th>\n      <td>False</td>\n      <td>False</td>\n      <td>False</td>\n      <td>False</td>\n      <td>False</td>\n      <td>False</td>\n      <td>False</td>\n      <td>False</td>\n    </tr>\n    <tr>\n      <th>44</th>\n      <td>False</td>\n      <td>False</td>\n      <td>False</td>\n      <td>False</td>\n      <td>False</td>\n      <td>False</td>\n      <td>False</td>\n      <td>False</td>\n    </tr>\n    <tr>\n      <th>45</th>\n      <td>False</td>\n      <td>False</td>\n      <td>False</td>\n      <td>False</td>\n      <td>False</td>\n      <td>False</td>\n      <td>False</td>\n      <td>False</td>\n    </tr>\n    <tr>\n      <th>46</th>\n      <td>False</td>\n      <td>False</td>\n      <td>False</td>\n      <td>False</td>\n      <td>False</td>\n      <td>False</td>\n      <td>False</td>\n      <td>False</td>\n    </tr>\n    <tr>\n      <th>47</th>\n      <td>False</td>\n      <td>False</td>\n      <td>False</td>\n      <td>False</td>\n      <td>False</td>\n      <td>False</td>\n      <td>False</td>\n      <td>False</td>\n    </tr>\n    <tr>\n      <th>48</th>\n      <td>False</td>\n      <td>False</td>\n      <td>False</td>\n      <td>False</td>\n      <td>False</td>\n      <td>False</td>\n      <td>False</td>\n      <td>False</td>\n    </tr>\n    <tr>\n      <th>49</th>\n      <td>False</td>\n      <td>False</td>\n      <td>False</td>\n      <td>False</td>\n      <td>False</td>\n      <td>False</td>\n      <td>False</td>\n      <td>False</td>\n    </tr>\n  </tbody>\n</table>\n</div>"
     },
     "execution_count": 34,
     "metadata": {},
     "output_type": "execute_result"
    }
   ],
   "source": [
    "df.isnull()"
   ],
   "metadata": {
    "collapsed": false,
    "ExecuteTime": {
     "start_time": "2024-02-22T14:28:08.398323Z",
     "end_time": "2024-02-22T14:28:08.422447Z"
    }
   }
  },
  {
   "cell_type": "markdown",
   "source": [
    "# 缺失值填充"
   ],
   "metadata": {
    "collapsed": false
   }
  },
  {
   "cell_type": "code",
   "execution_count": 35,
   "outputs": [],
   "source": [
    "df[\"射正\"] = df[\"射正\"].fillna(29)"
   ],
   "metadata": {
    "collapsed": false,
    "ExecuteTime": {
     "start_time": "2024-02-22T14:29:12.464516Z",
     "end_time": "2024-02-22T14:29:12.478020Z"
    }
   }
  },
  {
   "cell_type": "code",
   "execution_count": 36,
   "outputs": [
    {
     "data": {
      "text/plain": "   排名    球员    球队 进球（点球）  出场次数  出场时间  射门    射正\n0   1   瓦尔迪   莱斯特  17(3)    20  1800  49  29.0\n1   2    英斯  南安普敦     14    22  1537  57  26.0\n2   3  奥巴梅扬   阿森纳  14(1)    22  1945  55  22.0\n3   4  拉什福德    曼联  14(5)    22  1881  74  34.0\n4   5  亚伯拉罕   切尔西     13    21  1673  66  29.0\n5   6   阿圭罗    曼城  13(2)    16   998  51  18.0\n6   7    马内   利物浦     11    20  1667  49  25.0",
      "text/html": "<div>\n<style scoped>\n    .dataframe tbody tr th:only-of-type {\n        vertical-align: middle;\n    }\n\n    .dataframe tbody tr th {\n        vertical-align: top;\n    }\n\n    .dataframe thead th {\n        text-align: right;\n    }\n</style>\n<table border=\"1\" class=\"dataframe\">\n  <thead>\n    <tr style=\"text-align: right;\">\n      <th></th>\n      <th>排名</th>\n      <th>球员</th>\n      <th>球队</th>\n      <th>进球（点球）</th>\n      <th>出场次数</th>\n      <th>出场时间</th>\n      <th>射门</th>\n      <th>射正</th>\n    </tr>\n  </thead>\n  <tbody>\n    <tr>\n      <th>0</th>\n      <td>1</td>\n      <td>瓦尔迪</td>\n      <td>莱斯特</td>\n      <td>17(3)</td>\n      <td>20</td>\n      <td>1800</td>\n      <td>49</td>\n      <td>29.0</td>\n    </tr>\n    <tr>\n      <th>1</th>\n      <td>2</td>\n      <td>英斯</td>\n      <td>南安普敦</td>\n      <td>14</td>\n      <td>22</td>\n      <td>1537</td>\n      <td>57</td>\n      <td>26.0</td>\n    </tr>\n    <tr>\n      <th>2</th>\n      <td>3</td>\n      <td>奥巴梅扬</td>\n      <td>阿森纳</td>\n      <td>14(1)</td>\n      <td>22</td>\n      <td>1945</td>\n      <td>55</td>\n      <td>22.0</td>\n    </tr>\n    <tr>\n      <th>3</th>\n      <td>4</td>\n      <td>拉什福德</td>\n      <td>曼联</td>\n      <td>14(5)</td>\n      <td>22</td>\n      <td>1881</td>\n      <td>74</td>\n      <td>34.0</td>\n    </tr>\n    <tr>\n      <th>4</th>\n      <td>5</td>\n      <td>亚伯拉罕</td>\n      <td>切尔西</td>\n      <td>13</td>\n      <td>21</td>\n      <td>1673</td>\n      <td>66</td>\n      <td>29.0</td>\n    </tr>\n    <tr>\n      <th>5</th>\n      <td>6</td>\n      <td>阿圭罗</td>\n      <td>曼城</td>\n      <td>13(2)</td>\n      <td>16</td>\n      <td>998</td>\n      <td>51</td>\n      <td>18.0</td>\n    </tr>\n    <tr>\n      <th>6</th>\n      <td>7</td>\n      <td>马内</td>\n      <td>利物浦</td>\n      <td>11</td>\n      <td>20</td>\n      <td>1667</td>\n      <td>49</td>\n      <td>25.0</td>\n    </tr>\n  </tbody>\n</table>\n</div>"
     },
     "execution_count": 36,
     "metadata": {},
     "output_type": "execute_result"
    }
   ],
   "source": [
    "df.iloc[0:7]"
   ],
   "metadata": {
    "collapsed": false,
    "ExecuteTime": {
     "start_time": "2024-02-22T14:29:19.742425Z",
     "end_time": "2024-02-22T14:29:19.762425Z"
    }
   }
  },
  {
   "cell_type": "markdown",
   "source": [
    "# 降序排序"
   ],
   "metadata": {
    "collapsed": false
   }
  },
  {
   "cell_type": "code",
   "execution_count": 37,
   "outputs": [
    {
     "data": {
      "text/plain": "    排名      球员      球队 进球（点球）  出场次数  出场时间  射门    射正\n15  16    希门尼斯      狼队   8(2)    22  1849  70  25.0\n2    3    奥巴梅扬     阿森纳  14(1)    22  1945  55  22.0\n3    4    拉什福德      曼联  14(5)    22  1881  74  34.0\n37  38   德乌洛费乌    沃特福德   4(1)    22  1631  49  20.0\n38  39  沃德-普劳斯    南安普敦   4(1)    22  1980  35  16.0\n1    2      英斯    南安普敦     14    22  1537  57  26.0\n42  43      扎哈     水晶宫      3    22  1915  33   9.0\n19  20      毛佩     布莱顿   7(1)    22  1631  59  22.0\n17  18    菲尔米诺     利物浦      7    21  1719  65  27.0\n39  40      威廉     切尔西   4(1)    21  1542  43  13.0\n26  27     威尔逊    伯恩茅斯      5    21  1719  27  11.0\n43  44   罗德里格斯     伯恩利      3    21   771  24   7.0\n20  21      阿尤     水晶宫      6    21  1761  34  13.0\n44  45    蒂耶勒曼     莱斯特      3    21  1772  34   8.0\n16  17    德布劳内      曼城      7    21  1715  59  18.0\n33  34     特劳雷      狼队      4    21  1672  25   7.0\n45  46     杜库雷    沃特福德      3    21  1831  37   8.0\n4    5    亚伯拉罕     切尔西     13    21  1673  66  29.0\n46  47  伦德斯特拉姆   谢菲尔德联      3    21  1839  31   7.0\n10  11      普基     诺维奇      9    21  1869  54  27.0\n47  48     范迪克     利物浦      3    21  1890  14   6.0\n7    8     斯特林      曼城     11    20  1672  59  21.0\n35  36    小卢卡斯  托特纳姆热刺      4    20  1104  33   9.0\n48  49     多尔蒂      狼队      3    20  1520  21  12.0\n6    7      马内     利物浦     11    20  1667  49  25.0\n8    9      凯恩  托特纳姆热刺  11(2)    20  1780  57  24.0\n34  35    麦克布涅   谢菲尔德联      4    20   895  23  10.0\n22  23    格里利什   阿斯顿维拉      6    20  1794  42  15.0\n21  22      哈勒    西汉姆联      6    20  1583  42  18.0\n12  13      勒温     埃弗顿      8    20  1313  40  18.0\n13  14      伍德     伯恩利      8    20  1654  38  19.0\n0    1     瓦尔迪     莱斯特  17(3)    20  1800  49  29.0\n40  41      加齐   阿斯顿维拉   4(1)    19  1320  39  14.0\n36  37     弗利克   谢菲尔德联      4    19  1649  23  10.0\n25  26     巴恩斯     伯恩利   6(1)    19  1361  40  12.0\n27  28     佩雷斯     莱斯特      5    19  1194  26  14.0\n49  50      哈桑   阿斯顿维拉      3    19  1089  33   9.0\n28  29     席尔瓦      曼城      5    18  1180  30  11.0\n23  24     威尔逊    伯恩茅斯      6    18  1087  34  13.0\n18  19    马赫雷斯      曼城      7    18  1084  44  22.0\n11  12     热苏斯      曼城      9    18  1090  57  28.0\n9   10     萨拉赫     利物浦  10(2)    18  1531  66  31.0\n29  30     孙兴慜  托特纳姆热刺      5    17  1389  46  18.0\n30  31    普利西奇     切尔西      5    16  1076  40  17.0\n14  15     马夏尔      曼联      8    16  1278  40  21.0\n5    6     阿圭罗      曼城  13(2)    16   998  51  18.0\n31  32    拉卡泽特     阿森纳      5    15  1028  36  16.0\n24  25      阿里  托特纳姆热刺      6    15  1254  24  14.0\n32  33     谢尔维    纽卡斯尔      5    14  1077  24   8.0\n41  42      迪尼    沃特福德   4(2)    11   906  19   9.0",
      "text/html": "<div>\n<style scoped>\n    .dataframe tbody tr th:only-of-type {\n        vertical-align: middle;\n    }\n\n    .dataframe tbody tr th {\n        vertical-align: top;\n    }\n\n    .dataframe thead th {\n        text-align: right;\n    }\n</style>\n<table border=\"1\" class=\"dataframe\">\n  <thead>\n    <tr style=\"text-align: right;\">\n      <th></th>\n      <th>排名</th>\n      <th>球员</th>\n      <th>球队</th>\n      <th>进球（点球）</th>\n      <th>出场次数</th>\n      <th>出场时间</th>\n      <th>射门</th>\n      <th>射正</th>\n    </tr>\n  </thead>\n  <tbody>\n    <tr>\n      <th>15</th>\n      <td>16</td>\n      <td>希门尼斯</td>\n      <td>狼队</td>\n      <td>8(2)</td>\n      <td>22</td>\n      <td>1849</td>\n      <td>70</td>\n      <td>25.0</td>\n    </tr>\n    <tr>\n      <th>2</th>\n      <td>3</td>\n      <td>奥巴梅扬</td>\n      <td>阿森纳</td>\n      <td>14(1)</td>\n      <td>22</td>\n      <td>1945</td>\n      <td>55</td>\n      <td>22.0</td>\n    </tr>\n    <tr>\n      <th>3</th>\n      <td>4</td>\n      <td>拉什福德</td>\n      <td>曼联</td>\n      <td>14(5)</td>\n      <td>22</td>\n      <td>1881</td>\n      <td>74</td>\n      <td>34.0</td>\n    </tr>\n    <tr>\n      <th>37</th>\n      <td>38</td>\n      <td>德乌洛费乌</td>\n      <td>沃特福德</td>\n      <td>4(1)</td>\n      <td>22</td>\n      <td>1631</td>\n      <td>49</td>\n      <td>20.0</td>\n    </tr>\n    <tr>\n      <th>38</th>\n      <td>39</td>\n      <td>沃德-普劳斯</td>\n      <td>南安普敦</td>\n      <td>4(1)</td>\n      <td>22</td>\n      <td>1980</td>\n      <td>35</td>\n      <td>16.0</td>\n    </tr>\n    <tr>\n      <th>1</th>\n      <td>2</td>\n      <td>英斯</td>\n      <td>南安普敦</td>\n      <td>14</td>\n      <td>22</td>\n      <td>1537</td>\n      <td>57</td>\n      <td>26.0</td>\n    </tr>\n    <tr>\n      <th>42</th>\n      <td>43</td>\n      <td>扎哈</td>\n      <td>水晶宫</td>\n      <td>3</td>\n      <td>22</td>\n      <td>1915</td>\n      <td>33</td>\n      <td>9.0</td>\n    </tr>\n    <tr>\n      <th>19</th>\n      <td>20</td>\n      <td>毛佩</td>\n      <td>布莱顿</td>\n      <td>7(1)</td>\n      <td>22</td>\n      <td>1631</td>\n      <td>59</td>\n      <td>22.0</td>\n    </tr>\n    <tr>\n      <th>17</th>\n      <td>18</td>\n      <td>菲尔米诺</td>\n      <td>利物浦</td>\n      <td>7</td>\n      <td>21</td>\n      <td>1719</td>\n      <td>65</td>\n      <td>27.0</td>\n    </tr>\n    <tr>\n      <th>39</th>\n      <td>40</td>\n      <td>威廉</td>\n      <td>切尔西</td>\n      <td>4(1)</td>\n      <td>21</td>\n      <td>1542</td>\n      <td>43</td>\n      <td>13.0</td>\n    </tr>\n    <tr>\n      <th>26</th>\n      <td>27</td>\n      <td>威尔逊</td>\n      <td>伯恩茅斯</td>\n      <td>5</td>\n      <td>21</td>\n      <td>1719</td>\n      <td>27</td>\n      <td>11.0</td>\n    </tr>\n    <tr>\n      <th>43</th>\n      <td>44</td>\n      <td>罗德里格斯</td>\n      <td>伯恩利</td>\n      <td>3</td>\n      <td>21</td>\n      <td>771</td>\n      <td>24</td>\n      <td>7.0</td>\n    </tr>\n    <tr>\n      <th>20</th>\n      <td>21</td>\n      <td>阿尤</td>\n      <td>水晶宫</td>\n      <td>6</td>\n      <td>21</td>\n      <td>1761</td>\n      <td>34</td>\n      <td>13.0</td>\n    </tr>\n    <tr>\n      <th>44</th>\n      <td>45</td>\n      <td>蒂耶勒曼</td>\n      <td>莱斯特</td>\n      <td>3</td>\n      <td>21</td>\n      <td>1772</td>\n      <td>34</td>\n      <td>8.0</td>\n    </tr>\n    <tr>\n      <th>16</th>\n      <td>17</td>\n      <td>德布劳内</td>\n      <td>曼城</td>\n      <td>7</td>\n      <td>21</td>\n      <td>1715</td>\n      <td>59</td>\n      <td>18.0</td>\n    </tr>\n    <tr>\n      <th>33</th>\n      <td>34</td>\n      <td>特劳雷</td>\n      <td>狼队</td>\n      <td>4</td>\n      <td>21</td>\n      <td>1672</td>\n      <td>25</td>\n      <td>7.0</td>\n    </tr>\n    <tr>\n      <th>45</th>\n      <td>46</td>\n      <td>杜库雷</td>\n      <td>沃特福德</td>\n      <td>3</td>\n      <td>21</td>\n      <td>1831</td>\n      <td>37</td>\n      <td>8.0</td>\n    </tr>\n    <tr>\n      <th>4</th>\n      <td>5</td>\n      <td>亚伯拉罕</td>\n      <td>切尔西</td>\n      <td>13</td>\n      <td>21</td>\n      <td>1673</td>\n      <td>66</td>\n      <td>29.0</td>\n    </tr>\n    <tr>\n      <th>46</th>\n      <td>47</td>\n      <td>伦德斯特拉姆</td>\n      <td>谢菲尔德联</td>\n      <td>3</td>\n      <td>21</td>\n      <td>1839</td>\n      <td>31</td>\n      <td>7.0</td>\n    </tr>\n    <tr>\n      <th>10</th>\n      <td>11</td>\n      <td>普基</td>\n      <td>诺维奇</td>\n      <td>9</td>\n      <td>21</td>\n      <td>1869</td>\n      <td>54</td>\n      <td>27.0</td>\n    </tr>\n    <tr>\n      <th>47</th>\n      <td>48</td>\n      <td>范迪克</td>\n      <td>利物浦</td>\n      <td>3</td>\n      <td>21</td>\n      <td>1890</td>\n      <td>14</td>\n      <td>6.0</td>\n    </tr>\n    <tr>\n      <th>7</th>\n      <td>8</td>\n      <td>斯特林</td>\n      <td>曼城</td>\n      <td>11</td>\n      <td>20</td>\n      <td>1672</td>\n      <td>59</td>\n      <td>21.0</td>\n    </tr>\n    <tr>\n      <th>35</th>\n      <td>36</td>\n      <td>小卢卡斯</td>\n      <td>托特纳姆热刺</td>\n      <td>4</td>\n      <td>20</td>\n      <td>1104</td>\n      <td>33</td>\n      <td>9.0</td>\n    </tr>\n    <tr>\n      <th>48</th>\n      <td>49</td>\n      <td>多尔蒂</td>\n      <td>狼队</td>\n      <td>3</td>\n      <td>20</td>\n      <td>1520</td>\n      <td>21</td>\n      <td>12.0</td>\n    </tr>\n    <tr>\n      <th>6</th>\n      <td>7</td>\n      <td>马内</td>\n      <td>利物浦</td>\n      <td>11</td>\n      <td>20</td>\n      <td>1667</td>\n      <td>49</td>\n      <td>25.0</td>\n    </tr>\n    <tr>\n      <th>8</th>\n      <td>9</td>\n      <td>凯恩</td>\n      <td>托特纳姆热刺</td>\n      <td>11(2)</td>\n      <td>20</td>\n      <td>1780</td>\n      <td>57</td>\n      <td>24.0</td>\n    </tr>\n    <tr>\n      <th>34</th>\n      <td>35</td>\n      <td>麦克布涅</td>\n      <td>谢菲尔德联</td>\n      <td>4</td>\n      <td>20</td>\n      <td>895</td>\n      <td>23</td>\n      <td>10.0</td>\n    </tr>\n    <tr>\n      <th>22</th>\n      <td>23</td>\n      <td>格里利什</td>\n      <td>阿斯顿维拉</td>\n      <td>6</td>\n      <td>20</td>\n      <td>1794</td>\n      <td>42</td>\n      <td>15.0</td>\n    </tr>\n    <tr>\n      <th>21</th>\n      <td>22</td>\n      <td>哈勒</td>\n      <td>西汉姆联</td>\n      <td>6</td>\n      <td>20</td>\n      <td>1583</td>\n      <td>42</td>\n      <td>18.0</td>\n    </tr>\n    <tr>\n      <th>12</th>\n      <td>13</td>\n      <td>勒温</td>\n      <td>埃弗顿</td>\n      <td>8</td>\n      <td>20</td>\n      <td>1313</td>\n      <td>40</td>\n      <td>18.0</td>\n    </tr>\n    <tr>\n      <th>13</th>\n      <td>14</td>\n      <td>伍德</td>\n      <td>伯恩利</td>\n      <td>8</td>\n      <td>20</td>\n      <td>1654</td>\n      <td>38</td>\n      <td>19.0</td>\n    </tr>\n    <tr>\n      <th>0</th>\n      <td>1</td>\n      <td>瓦尔迪</td>\n      <td>莱斯特</td>\n      <td>17(3)</td>\n      <td>20</td>\n      <td>1800</td>\n      <td>49</td>\n      <td>29.0</td>\n    </tr>\n    <tr>\n      <th>40</th>\n      <td>41</td>\n      <td>加齐</td>\n      <td>阿斯顿维拉</td>\n      <td>4(1)</td>\n      <td>19</td>\n      <td>1320</td>\n      <td>39</td>\n      <td>14.0</td>\n    </tr>\n    <tr>\n      <th>36</th>\n      <td>37</td>\n      <td>弗利克</td>\n      <td>谢菲尔德联</td>\n      <td>4</td>\n      <td>19</td>\n      <td>1649</td>\n      <td>23</td>\n      <td>10.0</td>\n    </tr>\n    <tr>\n      <th>25</th>\n      <td>26</td>\n      <td>巴恩斯</td>\n      <td>伯恩利</td>\n      <td>6(1)</td>\n      <td>19</td>\n      <td>1361</td>\n      <td>40</td>\n      <td>12.0</td>\n    </tr>\n    <tr>\n      <th>27</th>\n      <td>28</td>\n      <td>佩雷斯</td>\n      <td>莱斯特</td>\n      <td>5</td>\n      <td>19</td>\n      <td>1194</td>\n      <td>26</td>\n      <td>14.0</td>\n    </tr>\n    <tr>\n      <th>49</th>\n      <td>50</td>\n      <td>哈桑</td>\n      <td>阿斯顿维拉</td>\n      <td>3</td>\n      <td>19</td>\n      <td>1089</td>\n      <td>33</td>\n      <td>9.0</td>\n    </tr>\n    <tr>\n      <th>28</th>\n      <td>29</td>\n      <td>席尔瓦</td>\n      <td>曼城</td>\n      <td>5</td>\n      <td>18</td>\n      <td>1180</td>\n      <td>30</td>\n      <td>11.0</td>\n    </tr>\n    <tr>\n      <th>23</th>\n      <td>24</td>\n      <td>威尔逊</td>\n      <td>伯恩茅斯</td>\n      <td>6</td>\n      <td>18</td>\n      <td>1087</td>\n      <td>34</td>\n      <td>13.0</td>\n    </tr>\n    <tr>\n      <th>18</th>\n      <td>19</td>\n      <td>马赫雷斯</td>\n      <td>曼城</td>\n      <td>7</td>\n      <td>18</td>\n      <td>1084</td>\n      <td>44</td>\n      <td>22.0</td>\n    </tr>\n    <tr>\n      <th>11</th>\n      <td>12</td>\n      <td>热苏斯</td>\n      <td>曼城</td>\n      <td>9</td>\n      <td>18</td>\n      <td>1090</td>\n      <td>57</td>\n      <td>28.0</td>\n    </tr>\n    <tr>\n      <th>9</th>\n      <td>10</td>\n      <td>萨拉赫</td>\n      <td>利物浦</td>\n      <td>10(2)</td>\n      <td>18</td>\n      <td>1531</td>\n      <td>66</td>\n      <td>31.0</td>\n    </tr>\n    <tr>\n      <th>29</th>\n      <td>30</td>\n      <td>孙兴慜</td>\n      <td>托特纳姆热刺</td>\n      <td>5</td>\n      <td>17</td>\n      <td>1389</td>\n      <td>46</td>\n      <td>18.0</td>\n    </tr>\n    <tr>\n      <th>30</th>\n      <td>31</td>\n      <td>普利西奇</td>\n      <td>切尔西</td>\n      <td>5</td>\n      <td>16</td>\n      <td>1076</td>\n      <td>40</td>\n      <td>17.0</td>\n    </tr>\n    <tr>\n      <th>14</th>\n      <td>15</td>\n      <td>马夏尔</td>\n      <td>曼联</td>\n      <td>8</td>\n      <td>16</td>\n      <td>1278</td>\n      <td>40</td>\n      <td>21.0</td>\n    </tr>\n    <tr>\n      <th>5</th>\n      <td>6</td>\n      <td>阿圭罗</td>\n      <td>曼城</td>\n      <td>13(2)</td>\n      <td>16</td>\n      <td>998</td>\n      <td>51</td>\n      <td>18.0</td>\n    </tr>\n    <tr>\n      <th>31</th>\n      <td>32</td>\n      <td>拉卡泽特</td>\n      <td>阿森纳</td>\n      <td>5</td>\n      <td>15</td>\n      <td>1028</td>\n      <td>36</td>\n      <td>16.0</td>\n    </tr>\n    <tr>\n      <th>24</th>\n      <td>25</td>\n      <td>阿里</td>\n      <td>托特纳姆热刺</td>\n      <td>6</td>\n      <td>15</td>\n      <td>1254</td>\n      <td>24</td>\n      <td>14.0</td>\n    </tr>\n    <tr>\n      <th>32</th>\n      <td>33</td>\n      <td>谢尔维</td>\n      <td>纽卡斯尔</td>\n      <td>5</td>\n      <td>14</td>\n      <td>1077</td>\n      <td>24</td>\n      <td>8.0</td>\n    </tr>\n    <tr>\n      <th>41</th>\n      <td>42</td>\n      <td>迪尼</td>\n      <td>沃特福德</td>\n      <td>4(2)</td>\n      <td>11</td>\n      <td>906</td>\n      <td>19</td>\n      <td>9.0</td>\n    </tr>\n  </tbody>\n</table>\n</div>"
     },
     "execution_count": 37,
     "metadata": {},
     "output_type": "execute_result"
    }
   ],
   "source": [
    "df.sort_values(by=\"出场次数\", ascending=False)"
   ],
   "metadata": {
    "collapsed": false,
    "ExecuteTime": {
     "start_time": "2024-02-22T14:30:25.065868Z",
     "end_time": "2024-02-22T14:30:25.102835Z"
    }
   }
  },
  {
   "cell_type": "markdown",
   "source": [
    "# 升序排序"
   ],
   "metadata": {
    "collapsed": false
   }
  },
  {
   "cell_type": "code",
   "execution_count": 38,
   "outputs": [
    {
     "data": {
      "text/plain": "    排名      球员      球队 进球（点球）  出场次数  出场时间  射门    射正\n41  42      迪尼    沃特福德   4(2)    11   906  19   9.0\n32  33     谢尔维    纽卡斯尔      5    14  1077  24   8.0\n24  25      阿里  托特纳姆热刺      6    15  1254  24  14.0\n31  32    拉卡泽特     阿森纳      5    15  1028  36  16.0\n14  15     马夏尔      曼联      8    16  1278  40  21.0\n30  31    普利西奇     切尔西      5    16  1076  40  17.0\n5    6     阿圭罗      曼城  13(2)    16   998  51  18.0\n29  30     孙兴慜  托特纳姆热刺      5    17  1389  46  18.0\n23  24     威尔逊    伯恩茅斯      6    18  1087  34  13.0\n9   10     萨拉赫     利物浦  10(2)    18  1531  66  31.0\n28  29     席尔瓦      曼城      5    18  1180  30  11.0\n11  12     热苏斯      曼城      9    18  1090  57  28.0\n18  19    马赫雷斯      曼城      7    18  1084  44  22.0\n27  28     佩雷斯     莱斯特      5    19  1194  26  14.0\n25  26     巴恩斯     伯恩利   6(1)    19  1361  40  12.0\n40  41      加齐   阿斯顿维拉   4(1)    19  1320  39  14.0\n36  37     弗利克   谢菲尔德联      4    19  1649  23  10.0\n49  50      哈桑   阿斯顿维拉      3    19  1089  33   9.0\n0    1     瓦尔迪     莱斯特  17(3)    20  1800  49  29.0\n6    7      马内     利物浦     11    20  1667  49  25.0\n7    8     斯特林      曼城     11    20  1672  59  21.0\n8    9      凯恩  托特纳姆热刺  11(2)    20  1780  57  24.0\n12  13      勒温     埃弗顿      8    20  1313  40  18.0\n35  36    小卢卡斯  托特纳姆热刺      4    20  1104  33   9.0\n13  14      伍德     伯恩利      8    20  1654  38  19.0\n34  35    麦克布涅   谢菲尔德联      4    20   895  23  10.0\n22  23    格里利什   阿斯顿维拉      6    20  1794  42  15.0\n21  22      哈勒    西汉姆联      6    20  1583  42  18.0\n48  49     多尔蒂      狼队      3    20  1520  21  12.0\n45  46     杜库雷    沃特福德      3    21  1831  37   8.0\n43  44   罗德里格斯     伯恩利      3    21   771  24   7.0\n46  47  伦德斯特拉姆   谢菲尔德联      3    21  1839  31   7.0\n47  48     范迪克     利物浦      3    21  1890  14   6.0\n39  40      威廉     切尔西   4(1)    21  1542  43  13.0\n44  45    蒂耶勒曼     莱斯特      3    21  1772  34   8.0\n16  17    德布劳内      曼城      7    21  1715  59  18.0\n4    5    亚伯拉罕     切尔西     13    21  1673  66  29.0\n10  11      普基     诺维奇      9    21  1869  54  27.0\n26  27     威尔逊    伯恩茅斯      5    21  1719  27  11.0\n20  21      阿尤     水晶宫      6    21  1761  34  13.0\n17  18    菲尔米诺     利物浦      7    21  1719  65  27.0\n33  34     特劳雷      狼队      4    21  1672  25   7.0\n3    4    拉什福德      曼联  14(5)    22  1881  74  34.0\n37  38   德乌洛费乌    沃特福德   4(1)    22  1631  49  20.0\n38  39  沃德-普劳斯    南安普敦   4(1)    22  1980  35  16.0\n2    3    奥巴梅扬     阿森纳  14(1)    22  1945  55  22.0\n1    2      英斯    南安普敦     14    22  1537  57  26.0\n42  43      扎哈     水晶宫      3    22  1915  33   9.0\n15  16    希门尼斯      狼队   8(2)    22  1849  70  25.0\n19  20      毛佩     布莱顿   7(1)    22  1631  59  22.0",
      "text/html": "<div>\n<style scoped>\n    .dataframe tbody tr th:only-of-type {\n        vertical-align: middle;\n    }\n\n    .dataframe tbody tr th {\n        vertical-align: top;\n    }\n\n    .dataframe thead th {\n        text-align: right;\n    }\n</style>\n<table border=\"1\" class=\"dataframe\">\n  <thead>\n    <tr style=\"text-align: right;\">\n      <th></th>\n      <th>排名</th>\n      <th>球员</th>\n      <th>球队</th>\n      <th>进球（点球）</th>\n      <th>出场次数</th>\n      <th>出场时间</th>\n      <th>射门</th>\n      <th>射正</th>\n    </tr>\n  </thead>\n  <tbody>\n    <tr>\n      <th>41</th>\n      <td>42</td>\n      <td>迪尼</td>\n      <td>沃特福德</td>\n      <td>4(2)</td>\n      <td>11</td>\n      <td>906</td>\n      <td>19</td>\n      <td>9.0</td>\n    </tr>\n    <tr>\n      <th>32</th>\n      <td>33</td>\n      <td>谢尔维</td>\n      <td>纽卡斯尔</td>\n      <td>5</td>\n      <td>14</td>\n      <td>1077</td>\n      <td>24</td>\n      <td>8.0</td>\n    </tr>\n    <tr>\n      <th>24</th>\n      <td>25</td>\n      <td>阿里</td>\n      <td>托特纳姆热刺</td>\n      <td>6</td>\n      <td>15</td>\n      <td>1254</td>\n      <td>24</td>\n      <td>14.0</td>\n    </tr>\n    <tr>\n      <th>31</th>\n      <td>32</td>\n      <td>拉卡泽特</td>\n      <td>阿森纳</td>\n      <td>5</td>\n      <td>15</td>\n      <td>1028</td>\n      <td>36</td>\n      <td>16.0</td>\n    </tr>\n    <tr>\n      <th>14</th>\n      <td>15</td>\n      <td>马夏尔</td>\n      <td>曼联</td>\n      <td>8</td>\n      <td>16</td>\n      <td>1278</td>\n      <td>40</td>\n      <td>21.0</td>\n    </tr>\n    <tr>\n      <th>30</th>\n      <td>31</td>\n      <td>普利西奇</td>\n      <td>切尔西</td>\n      <td>5</td>\n      <td>16</td>\n      <td>1076</td>\n      <td>40</td>\n      <td>17.0</td>\n    </tr>\n    <tr>\n      <th>5</th>\n      <td>6</td>\n      <td>阿圭罗</td>\n      <td>曼城</td>\n      <td>13(2)</td>\n      <td>16</td>\n      <td>998</td>\n      <td>51</td>\n      <td>18.0</td>\n    </tr>\n    <tr>\n      <th>29</th>\n      <td>30</td>\n      <td>孙兴慜</td>\n      <td>托特纳姆热刺</td>\n      <td>5</td>\n      <td>17</td>\n      <td>1389</td>\n      <td>46</td>\n      <td>18.0</td>\n    </tr>\n    <tr>\n      <th>23</th>\n      <td>24</td>\n      <td>威尔逊</td>\n      <td>伯恩茅斯</td>\n      <td>6</td>\n      <td>18</td>\n      <td>1087</td>\n      <td>34</td>\n      <td>13.0</td>\n    </tr>\n    <tr>\n      <th>9</th>\n      <td>10</td>\n      <td>萨拉赫</td>\n      <td>利物浦</td>\n      <td>10(2)</td>\n      <td>18</td>\n      <td>1531</td>\n      <td>66</td>\n      <td>31.0</td>\n    </tr>\n    <tr>\n      <th>28</th>\n      <td>29</td>\n      <td>席尔瓦</td>\n      <td>曼城</td>\n      <td>5</td>\n      <td>18</td>\n      <td>1180</td>\n      <td>30</td>\n      <td>11.0</td>\n    </tr>\n    <tr>\n      <th>11</th>\n      <td>12</td>\n      <td>热苏斯</td>\n      <td>曼城</td>\n      <td>9</td>\n      <td>18</td>\n      <td>1090</td>\n      <td>57</td>\n      <td>28.0</td>\n    </tr>\n    <tr>\n      <th>18</th>\n      <td>19</td>\n      <td>马赫雷斯</td>\n      <td>曼城</td>\n      <td>7</td>\n      <td>18</td>\n      <td>1084</td>\n      <td>44</td>\n      <td>22.0</td>\n    </tr>\n    <tr>\n      <th>27</th>\n      <td>28</td>\n      <td>佩雷斯</td>\n      <td>莱斯特</td>\n      <td>5</td>\n      <td>19</td>\n      <td>1194</td>\n      <td>26</td>\n      <td>14.0</td>\n    </tr>\n    <tr>\n      <th>25</th>\n      <td>26</td>\n      <td>巴恩斯</td>\n      <td>伯恩利</td>\n      <td>6(1)</td>\n      <td>19</td>\n      <td>1361</td>\n      <td>40</td>\n      <td>12.0</td>\n    </tr>\n    <tr>\n      <th>40</th>\n      <td>41</td>\n      <td>加齐</td>\n      <td>阿斯顿维拉</td>\n      <td>4(1)</td>\n      <td>19</td>\n      <td>1320</td>\n      <td>39</td>\n      <td>14.0</td>\n    </tr>\n    <tr>\n      <th>36</th>\n      <td>37</td>\n      <td>弗利克</td>\n      <td>谢菲尔德联</td>\n      <td>4</td>\n      <td>19</td>\n      <td>1649</td>\n      <td>23</td>\n      <td>10.0</td>\n    </tr>\n    <tr>\n      <th>49</th>\n      <td>50</td>\n      <td>哈桑</td>\n      <td>阿斯顿维拉</td>\n      <td>3</td>\n      <td>19</td>\n      <td>1089</td>\n      <td>33</td>\n      <td>9.0</td>\n    </tr>\n    <tr>\n      <th>0</th>\n      <td>1</td>\n      <td>瓦尔迪</td>\n      <td>莱斯特</td>\n      <td>17(3)</td>\n      <td>20</td>\n      <td>1800</td>\n      <td>49</td>\n      <td>29.0</td>\n    </tr>\n    <tr>\n      <th>6</th>\n      <td>7</td>\n      <td>马内</td>\n      <td>利物浦</td>\n      <td>11</td>\n      <td>20</td>\n      <td>1667</td>\n      <td>49</td>\n      <td>25.0</td>\n    </tr>\n    <tr>\n      <th>7</th>\n      <td>8</td>\n      <td>斯特林</td>\n      <td>曼城</td>\n      <td>11</td>\n      <td>20</td>\n      <td>1672</td>\n      <td>59</td>\n      <td>21.0</td>\n    </tr>\n    <tr>\n      <th>8</th>\n      <td>9</td>\n      <td>凯恩</td>\n      <td>托特纳姆热刺</td>\n      <td>11(2)</td>\n      <td>20</td>\n      <td>1780</td>\n      <td>57</td>\n      <td>24.0</td>\n    </tr>\n    <tr>\n      <th>12</th>\n      <td>13</td>\n      <td>勒温</td>\n      <td>埃弗顿</td>\n      <td>8</td>\n      <td>20</td>\n      <td>1313</td>\n      <td>40</td>\n      <td>18.0</td>\n    </tr>\n    <tr>\n      <th>35</th>\n      <td>36</td>\n      <td>小卢卡斯</td>\n      <td>托特纳姆热刺</td>\n      <td>4</td>\n      <td>20</td>\n      <td>1104</td>\n      <td>33</td>\n      <td>9.0</td>\n    </tr>\n    <tr>\n      <th>13</th>\n      <td>14</td>\n      <td>伍德</td>\n      <td>伯恩利</td>\n      <td>8</td>\n      <td>20</td>\n      <td>1654</td>\n      <td>38</td>\n      <td>19.0</td>\n    </tr>\n    <tr>\n      <th>34</th>\n      <td>35</td>\n      <td>麦克布涅</td>\n      <td>谢菲尔德联</td>\n      <td>4</td>\n      <td>20</td>\n      <td>895</td>\n      <td>23</td>\n      <td>10.0</td>\n    </tr>\n    <tr>\n      <th>22</th>\n      <td>23</td>\n      <td>格里利什</td>\n      <td>阿斯顿维拉</td>\n      <td>6</td>\n      <td>20</td>\n      <td>1794</td>\n      <td>42</td>\n      <td>15.0</td>\n    </tr>\n    <tr>\n      <th>21</th>\n      <td>22</td>\n      <td>哈勒</td>\n      <td>西汉姆联</td>\n      <td>6</td>\n      <td>20</td>\n      <td>1583</td>\n      <td>42</td>\n      <td>18.0</td>\n    </tr>\n    <tr>\n      <th>48</th>\n      <td>49</td>\n      <td>多尔蒂</td>\n      <td>狼队</td>\n      <td>3</td>\n      <td>20</td>\n      <td>1520</td>\n      <td>21</td>\n      <td>12.0</td>\n    </tr>\n    <tr>\n      <th>45</th>\n      <td>46</td>\n      <td>杜库雷</td>\n      <td>沃特福德</td>\n      <td>3</td>\n      <td>21</td>\n      <td>1831</td>\n      <td>37</td>\n      <td>8.0</td>\n    </tr>\n    <tr>\n      <th>43</th>\n      <td>44</td>\n      <td>罗德里格斯</td>\n      <td>伯恩利</td>\n      <td>3</td>\n      <td>21</td>\n      <td>771</td>\n      <td>24</td>\n      <td>7.0</td>\n    </tr>\n    <tr>\n      <th>46</th>\n      <td>47</td>\n      <td>伦德斯特拉姆</td>\n      <td>谢菲尔德联</td>\n      <td>3</td>\n      <td>21</td>\n      <td>1839</td>\n      <td>31</td>\n      <td>7.0</td>\n    </tr>\n    <tr>\n      <th>47</th>\n      <td>48</td>\n      <td>范迪克</td>\n      <td>利物浦</td>\n      <td>3</td>\n      <td>21</td>\n      <td>1890</td>\n      <td>14</td>\n      <td>6.0</td>\n    </tr>\n    <tr>\n      <th>39</th>\n      <td>40</td>\n      <td>威廉</td>\n      <td>切尔西</td>\n      <td>4(1)</td>\n      <td>21</td>\n      <td>1542</td>\n      <td>43</td>\n      <td>13.0</td>\n    </tr>\n    <tr>\n      <th>44</th>\n      <td>45</td>\n      <td>蒂耶勒曼</td>\n      <td>莱斯特</td>\n      <td>3</td>\n      <td>21</td>\n      <td>1772</td>\n      <td>34</td>\n      <td>8.0</td>\n    </tr>\n    <tr>\n      <th>16</th>\n      <td>17</td>\n      <td>德布劳内</td>\n      <td>曼城</td>\n      <td>7</td>\n      <td>21</td>\n      <td>1715</td>\n      <td>59</td>\n      <td>18.0</td>\n    </tr>\n    <tr>\n      <th>4</th>\n      <td>5</td>\n      <td>亚伯拉罕</td>\n      <td>切尔西</td>\n      <td>13</td>\n      <td>21</td>\n      <td>1673</td>\n      <td>66</td>\n      <td>29.0</td>\n    </tr>\n    <tr>\n      <th>10</th>\n      <td>11</td>\n      <td>普基</td>\n      <td>诺维奇</td>\n      <td>9</td>\n      <td>21</td>\n      <td>1869</td>\n      <td>54</td>\n      <td>27.0</td>\n    </tr>\n    <tr>\n      <th>26</th>\n      <td>27</td>\n      <td>威尔逊</td>\n      <td>伯恩茅斯</td>\n      <td>5</td>\n      <td>21</td>\n      <td>1719</td>\n      <td>27</td>\n      <td>11.0</td>\n    </tr>\n    <tr>\n      <th>20</th>\n      <td>21</td>\n      <td>阿尤</td>\n      <td>水晶宫</td>\n      <td>6</td>\n      <td>21</td>\n      <td>1761</td>\n      <td>34</td>\n      <td>13.0</td>\n    </tr>\n    <tr>\n      <th>17</th>\n      <td>18</td>\n      <td>菲尔米诺</td>\n      <td>利物浦</td>\n      <td>7</td>\n      <td>21</td>\n      <td>1719</td>\n      <td>65</td>\n      <td>27.0</td>\n    </tr>\n    <tr>\n      <th>33</th>\n      <td>34</td>\n      <td>特劳雷</td>\n      <td>狼队</td>\n      <td>4</td>\n      <td>21</td>\n      <td>1672</td>\n      <td>25</td>\n      <td>7.0</td>\n    </tr>\n    <tr>\n      <th>3</th>\n      <td>4</td>\n      <td>拉什福德</td>\n      <td>曼联</td>\n      <td>14(5)</td>\n      <td>22</td>\n      <td>1881</td>\n      <td>74</td>\n      <td>34.0</td>\n    </tr>\n    <tr>\n      <th>37</th>\n      <td>38</td>\n      <td>德乌洛费乌</td>\n      <td>沃特福德</td>\n      <td>4(1)</td>\n      <td>22</td>\n      <td>1631</td>\n      <td>49</td>\n      <td>20.0</td>\n    </tr>\n    <tr>\n      <th>38</th>\n      <td>39</td>\n      <td>沃德-普劳斯</td>\n      <td>南安普敦</td>\n      <td>4(1)</td>\n      <td>22</td>\n      <td>1980</td>\n      <td>35</td>\n      <td>16.0</td>\n    </tr>\n    <tr>\n      <th>2</th>\n      <td>3</td>\n      <td>奥巴梅扬</td>\n      <td>阿森纳</td>\n      <td>14(1)</td>\n      <td>22</td>\n      <td>1945</td>\n      <td>55</td>\n      <td>22.0</td>\n    </tr>\n    <tr>\n      <th>1</th>\n      <td>2</td>\n      <td>英斯</td>\n      <td>南安普敦</td>\n      <td>14</td>\n      <td>22</td>\n      <td>1537</td>\n      <td>57</td>\n      <td>26.0</td>\n    </tr>\n    <tr>\n      <th>42</th>\n      <td>43</td>\n      <td>扎哈</td>\n      <td>水晶宫</td>\n      <td>3</td>\n      <td>22</td>\n      <td>1915</td>\n      <td>33</td>\n      <td>9.0</td>\n    </tr>\n    <tr>\n      <th>15</th>\n      <td>16</td>\n      <td>希门尼斯</td>\n      <td>狼队</td>\n      <td>8(2)</td>\n      <td>22</td>\n      <td>1849</td>\n      <td>70</td>\n      <td>25.0</td>\n    </tr>\n    <tr>\n      <th>19</th>\n      <td>20</td>\n      <td>毛佩</td>\n      <td>布莱顿</td>\n      <td>7(1)</td>\n      <td>22</td>\n      <td>1631</td>\n      <td>59</td>\n      <td>22.0</td>\n    </tr>\n  </tbody>\n</table>\n</div>"
     },
     "execution_count": 38,
     "metadata": {},
     "output_type": "execute_result"
    }
   ],
   "source": [
    "df.sort_values(by=\"出场次数\", ascending=True)"
   ],
   "metadata": {
    "collapsed": false,
    "ExecuteTime": {
     "start_time": "2024-02-22T14:30:54.030381Z",
     "end_time": "2024-02-22T14:30:54.047377Z"
    }
   }
  },
  {
   "cell_type": "markdown",
   "source": [
    "# 求和"
   ],
   "metadata": {
    "collapsed": false
   }
  },
  {
   "cell_type": "code",
   "execution_count": 39,
   "outputs": [],
   "source": [
    "data = [[110, 105, 99], [105, 88, 115], [109, 120, 130]]\n",
    "index = [i for i in range(1, 4)]\n",
    "columns = [\"语文\", \"数学\", \"英语\"]\n",
    "df = pd.DataFrame(data=data, index=index, columns=columns)\n"
   ],
   "metadata": {
    "collapsed": false,
    "ExecuteTime": {
     "start_time": "2024-02-22T14:33:03.811180Z",
     "end_time": "2024-02-22T14:33:03.843009Z"
    }
   }
  },
  {
   "cell_type": "code",
   "execution_count": 40,
   "outputs": [
    {
     "data": {
      "text/plain": "    语文   数学   英语\n1  110  105   99\n2  105   88  115\n3  109  120  130",
      "text/html": "<div>\n<style scoped>\n    .dataframe tbody tr th:only-of-type {\n        vertical-align: middle;\n    }\n\n    .dataframe tbody tr th {\n        vertical-align: top;\n    }\n\n    .dataframe thead th {\n        text-align: right;\n    }\n</style>\n<table border=\"1\" class=\"dataframe\">\n  <thead>\n    <tr style=\"text-align: right;\">\n      <th></th>\n      <th>语文</th>\n      <th>数学</th>\n      <th>英语</th>\n    </tr>\n  </thead>\n  <tbody>\n    <tr>\n      <th>1</th>\n      <td>110</td>\n      <td>105</td>\n      <td>99</td>\n    </tr>\n    <tr>\n      <th>2</th>\n      <td>105</td>\n      <td>88</td>\n      <td>115</td>\n    </tr>\n    <tr>\n      <th>3</th>\n      <td>109</td>\n      <td>120</td>\n      <td>130</td>\n    </tr>\n  </tbody>\n</table>\n</div>"
     },
     "execution_count": 40,
     "metadata": {},
     "output_type": "execute_result"
    }
   ],
   "source": [
    "df"
   ],
   "metadata": {
    "collapsed": false,
    "ExecuteTime": {
     "start_time": "2024-02-22T14:33:05.864899Z",
     "end_time": "2024-02-22T14:33:05.874399Z"
    }
   }
  },
  {
   "cell_type": "code",
   "execution_count": 43,
   "outputs": [],
   "source": [
    "df[\"总成绩\"] = df.sum(axis=1)"
   ],
   "metadata": {
    "collapsed": false,
    "ExecuteTime": {
     "start_time": "2024-02-22T14:33:58.497812Z",
     "end_time": "2024-02-22T14:33:58.529202Z"
    }
   }
  },
  {
   "cell_type": "code",
   "execution_count": 44,
   "outputs": [
    {
     "data": {
      "text/plain": "    语文   数学   英语  总成绩\n1  110  105   99  314\n2  105   88  115  308\n3  109  120  130  359",
      "text/html": "<div>\n<style scoped>\n    .dataframe tbody tr th:only-of-type {\n        vertical-align: middle;\n    }\n\n    .dataframe tbody tr th {\n        vertical-align: top;\n    }\n\n    .dataframe thead th {\n        text-align: right;\n    }\n</style>\n<table border=\"1\" class=\"dataframe\">\n  <thead>\n    <tr style=\"text-align: right;\">\n      <th></th>\n      <th>语文</th>\n      <th>数学</th>\n      <th>英语</th>\n      <th>总成绩</th>\n    </tr>\n  </thead>\n  <tbody>\n    <tr>\n      <th>1</th>\n      <td>110</td>\n      <td>105</td>\n      <td>99</td>\n      <td>314</td>\n    </tr>\n    <tr>\n      <th>2</th>\n      <td>105</td>\n      <td>88</td>\n      <td>115</td>\n      <td>308</td>\n    </tr>\n    <tr>\n      <th>3</th>\n      <td>109</td>\n      <td>120</td>\n      <td>130</td>\n      <td>359</td>\n    </tr>\n  </tbody>\n</table>\n</div>"
     },
     "execution_count": 44,
     "metadata": {},
     "output_type": "execute_result"
    }
   ],
   "source": [
    "df"
   ],
   "metadata": {
    "collapsed": false,
    "ExecuteTime": {
     "start_time": "2024-02-22T14:34:00.561612Z",
     "end_time": "2024-02-22T14:34:00.582231Z"
    }
   }
  },
  {
   "cell_type": "markdown",
   "source": [
    "# 增加最大值行"
   ],
   "metadata": {
    "collapsed": false
   }
  },
  {
   "cell_type": "code",
   "execution_count": 45,
   "outputs": [
    {
     "name": "stdout",
     "output_type": "stream",
     "text": [
      "      语文     数学     英语\n",
      "0  110.0  105.0   99.0\n",
      "1  105.0   88.0  115.0\n",
      "2  109.0  120.0  130.0\n",
      "3  112.0  115.0    NaN\n",
      "4  112.0  120.0  130.0\n"
     ]
    }
   ],
   "source": [
    "data = [[110, 105, 99], [105, 88, 115], [109, 120, 130], [112, 115]]\n",
    "index = [i for i in range(1, 5)]\n",
    "columns = [\"语文\", \"数学\", \"英语\"]\n",
    "df = pd.DataFrame(data=data, index=index, columns=columns)\n",
    "new = df.max()\n",
    "df = df._append(new, ignore_index=True)\n",
    "print(df)"
   ],
   "metadata": {
    "collapsed": false,
    "ExecuteTime": {
     "start_time": "2024-02-22T14:35:42.027009Z",
     "end_time": "2024-02-22T14:35:42.048497Z"
    }
   }
  },
  {
   "cell_type": "markdown",
   "source": [
    "# 合并两张表"
   ],
   "metadata": {
    "collapsed": false
   }
  },
  {
   "cell_type": "code",
   "execution_count": 46,
   "outputs": [
    {
     "name": "stdout",
     "output_type": "stream",
     "text": [
      "    编号   语文   数学   英语\n",
      "0  001  110  145   99\n",
      "1  002  105  126  115\n",
      "2  003  109  120  123\n"
     ]
    }
   ],
   "source": [
    "df1 = pd.DataFrame({\n",
    "    '编号': ['001', '002', '003'],\n",
    "    '语文': [110,105, 109],\n",
    "    '数学': [145, 126, 120],\n",
    "    '英语': [99, 115, 123]\n",
    "})\n",
    "print(df1)"
   ],
   "metadata": {
    "collapsed": false,
    "ExecuteTime": {
     "start_time": "2024-02-22T14:38:32.289478Z",
     "end_time": "2024-02-22T14:38:32.308982Z"
    }
   }
  },
  {
   "cell_type": "code",
   "execution_count": 47,
   "outputs": [],
   "source": [
    "df2 = pd.DataFrame({\n",
    "    '编号': ['001', '002', '003'],\n",
    "    '体育': [89, 96, 91]\n",
    "})"
   ],
   "metadata": {
    "collapsed": false,
    "ExecuteTime": {
     "start_time": "2024-02-22T14:39:06.313042Z",
     "end_time": "2024-02-22T14:39:06.339795Z"
    }
   }
  },
  {
   "cell_type": "code",
   "execution_count": 48,
   "outputs": [
    {
     "name": "stdout",
     "output_type": "stream",
     "text": [
      "    编号  体育\n",
      "0  001  89\n",
      "1  002  96\n",
      "2  003  91\n"
     ]
    }
   ],
   "source": [
    "print(df2)"
   ],
   "metadata": {
    "collapsed": false,
    "ExecuteTime": {
     "start_time": "2024-02-22T14:39:10.809432Z",
     "end_time": "2024-02-22T14:39:10.872229Z"
    }
   }
  },
  {
   "cell_type": "code",
   "execution_count": 49,
   "outputs": [],
   "source": [
    "df_merge = pd.merge(df1, df2, on='编号')"
   ],
   "metadata": {
    "collapsed": false,
    "ExecuteTime": {
     "start_time": "2024-02-22T14:39:40.650809Z",
     "end_time": "2024-02-22T14:39:40.698385Z"
    }
   }
  },
  {
   "cell_type": "code",
   "execution_count": 50,
   "outputs": [
    {
     "name": "stdout",
     "output_type": "stream",
     "text": [
      "    编号   语文   数学   英语  体育\n",
      "0  001  110  145   99  89\n",
      "1  002  105  126  115  96\n",
      "2  003  109  120  123  91\n"
     ]
    }
   ],
   "source": [
    "print(df_merge)"
   ],
   "metadata": {
    "collapsed": false,
    "ExecuteTime": {
     "start_time": "2024-02-22T14:39:46.481060Z",
     "end_time": "2024-02-22T14:39:46.504546Z"
    }
   }
  },
  {
   "cell_type": "markdown",
   "source": [
    "# 导出文件"
   ],
   "metadata": {
    "collapsed": false
   }
  },
  {
   "cell_type": "code",
   "execution_count": 51,
   "outputs": [],
   "source": [
    "df.to_csv(\"./123.csv\")"
   ],
   "metadata": {
    "collapsed": false,
    "ExecuteTime": {
     "start_time": "2024-02-22T14:40:52.554438Z",
     "end_time": "2024-02-22T14:40:52.587205Z"
    }
   }
  },
  {
   "cell_type": "code",
   "execution_count": null,
   "outputs": [],
   "source": [],
   "metadata": {
    "collapsed": false
   }
  }
 ],
 "metadata": {
  "kernelspec": {
   "name": "pytorchpy39",
   "language": "python",
   "display_name": "pytorchpy39"
  },
  "language_info": {
   "codemirror_mode": {
    "name": "ipython",
    "version": 2
   },
   "file_extension": ".py",
   "mimetype": "text/x-python",
   "name": "python",
   "nbconvert_exporter": "python",
   "pygments_lexer": "ipython2",
   "version": "2.7.6"
  }
 },
 "nbformat": 4,
 "nbformat_minor": 0
}
