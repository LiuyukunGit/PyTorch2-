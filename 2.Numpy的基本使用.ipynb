{
 "cells": [
  {
   "cell_type": "markdown",
   "source": [
    "# B站：神奇的布欧\n",
    "# 微信：l1243278923"
   ],
   "metadata": {
    "collapsed": false
   }
  },
  {
   "cell_type": "code",
   "execution_count": 1,
   "metadata": {
    "collapsed": true,
    "ExecuteTime": {
     "start_time": "2024-02-22T12:20:22.418042Z",
     "end_time": "2024-02-22T12:20:22.471358Z"
    }
   },
   "outputs": [],
   "source": [
    "import numpy as np"
   ]
  },
  {
   "cell_type": "markdown",
   "source": [
    "# 创建数组"
   ],
   "metadata": {
    "collapsed": false
   }
  },
  {
   "cell_type": "code",
   "execution_count": 2,
   "outputs": [],
   "source": [
    "n1 = np.array([1, 2, 3])\n",
    "n2 = np.array([0.1, 0.2, 0.3])\n",
    "n3 = np.array([[1, 2, 3], [4, 5, 6], [7, 8, 9]])"
   ],
   "metadata": {
    "collapsed": false,
    "ExecuteTime": {
     "start_time": "2024-02-22T12:21:27.274352Z",
     "end_time": "2024-02-22T12:21:27.292852Z"
    }
   }
  },
  {
   "cell_type": "code",
   "execution_count": 5,
   "outputs": [
    {
     "name": "stdout",
     "output_type": "stream",
     "text": [
      "[[1 2 3]\n",
      " [4 5 6]\n",
      " [7 8 9]]\n"
     ]
    }
   ],
   "source": [
    "print(n3)"
   ],
   "metadata": {
    "collapsed": false,
    "ExecuteTime": {
     "start_time": "2024-02-22T12:21:41.585048Z",
     "end_time": "2024-02-22T12:21:41.595548Z"
    }
   }
  },
  {
   "cell_type": "markdown",
   "source": [
    "# 自定义类型"
   ],
   "metadata": {
    "collapsed": false
   }
  },
  {
   "cell_type": "code",
   "execution_count": 6,
   "outputs": [
    {
     "name": "stdout",
     "output_type": "stream",
     "text": [
      "[1. 2. 3.]\n",
      "数组类型：float64\n",
      "数组内元素类型： <class 'numpy.float64'>\n"
     ]
    }
   ],
   "source": [
    "list1 = [1, 2, 3]\n",
    "n1 = np.array(list1, dtype=float)\n",
    "print(n1)\n",
    "print(f\"数组类型：{n1.dtype}\")\n",
    "print(\"数组内元素类型：\", type(n1[0]))"
   ],
   "metadata": {
    "collapsed": false,
    "ExecuteTime": {
     "start_time": "2024-02-22T12:24:12.611827Z",
     "end_time": "2024-02-22T12:24:12.666880Z"
    }
   }
  },
  {
   "cell_type": "markdown",
   "source": [
    "# 复制数组"
   ],
   "metadata": {
    "collapsed": false
   }
  },
  {
   "cell_type": "code",
   "execution_count": 7,
   "outputs": [],
   "source": [
    "n1 = np.array([1, 2, 3])\n",
    "n2 = n1"
   ],
   "metadata": {
    "collapsed": false,
    "ExecuteTime": {
     "start_time": "2024-02-22T12:25:15.106075Z",
     "end_time": "2024-02-22T12:25:15.125868Z"
    }
   }
  },
  {
   "cell_type": "code",
   "execution_count": 8,
   "outputs": [
    {
     "name": "stdout",
     "output_type": "stream",
     "text": [
      "[1 6 3]\n",
      "[1 6 3]\n"
     ]
    }
   ],
   "source": [
    "n2[1] = 6\n",
    "print(n1)\n",
    "print(n2)"
   ],
   "metadata": {
    "collapsed": false,
    "ExecuteTime": {
     "start_time": "2024-02-22T12:25:50.198635Z",
     "end_time": "2024-02-22T12:25:50.204135Z"
    }
   }
  },
  {
   "cell_type": "code",
   "execution_count": 9,
   "outputs": [
    {
     "name": "stdout",
     "output_type": "stream",
     "text": [
      "[1 2 3]\n",
      "[1 7 3]\n"
     ]
    }
   ],
   "source": [
    "n1 = np.array([1, 2, 3])\n",
    "n2 = np.array(n1, copy=True)\n",
    "n2[1] = 7\n",
    "print(n1)\n",
    "print(n2)"
   ],
   "metadata": {
    "collapsed": false,
    "ExecuteTime": {
     "start_time": "2024-02-22T12:27:23.560637Z",
     "end_time": "2024-02-22T12:27:23.575475Z"
    }
   }
  },
  {
   "cell_type": "markdown",
   "source": [
    "# 修改数组维数"
   ],
   "metadata": {
    "collapsed": false
   }
  },
  {
   "cell_type": "code",
   "execution_count": 10,
   "outputs": [
    {
     "name": "stdout",
     "output_type": "stream",
     "text": [
      "[[[1 2 3]]]\n",
      "(1, 1, 3)\n"
     ]
    }
   ],
   "source": [
    "n1 = [1, 2, 3]\n",
    "n2 = np.array(n1, ndmin=3)\n",
    "print(n2)\n",
    "print(n2.shape)"
   ],
   "metadata": {
    "collapsed": false,
    "ExecuteTime": {
     "start_time": "2024-02-22T12:28:38.977204Z",
     "end_time": "2024-02-22T12:28:38.992204Z"
    }
   }
  },
  {
   "cell_type": "markdown",
   "source": [
    "# 创建一个指定形状的未初始化的数组"
   ],
   "metadata": {
    "collapsed": false
   }
  },
  {
   "cell_type": "code",
   "execution_count": 12,
   "outputs": [
    {
     "name": "stdout",
     "output_type": "stream",
     "text": [
      "[[0.0e+000 0.0e+000 0.0e+000]\n",
      " [0.0e+000 0.0e+000 8.2e-321]\n",
      " [0.0e+000 0.0e+000 0.0e+000]]\n"
     ]
    }
   ],
   "source": [
    "n1 = np.empty([3, 3])\n",
    "print(n1)"
   ],
   "metadata": {
    "collapsed": false,
    "ExecuteTime": {
     "start_time": "2024-02-22T12:29:44.671446Z",
     "end_time": "2024-02-22T12:29:44.686446Z"
    }
   }
  },
  {
   "cell_type": "markdown",
   "source": [
    "# 创建一个以0填充的数组"
   ],
   "metadata": {
    "collapsed": false
   }
  },
  {
   "cell_type": "code",
   "execution_count": 13,
   "outputs": [
    {
     "name": "stdout",
     "output_type": "stream",
     "text": [
      "[[0. 0. 0.]\n",
      " [0. 0. 0.]]\n"
     ]
    }
   ],
   "source": [
    "n1 = np.zeros([2, 3])\n",
    "print(n1)"
   ],
   "metadata": {
    "collapsed": false,
    "ExecuteTime": {
     "start_time": "2024-02-22T12:30:27.473725Z",
     "end_time": "2024-02-22T12:30:27.537810Z"
    }
   }
  },
  {
   "cell_type": "markdown",
   "source": [
    "# 创建一个以1填充的数组"
   ],
   "metadata": {
    "collapsed": false
   }
  },
  {
   "cell_type": "code",
   "execution_count": 14,
   "outputs": [
    {
     "name": "stdout",
     "output_type": "stream",
     "text": [
      "[[1. 1. 1.]\n",
      " [1. 1. 1.]\n",
      " [1. 1. 1.]]\n"
     ]
    }
   ],
   "source": [
    "n1 = np.ones([3, 3])\n",
    "print(n1)"
   ],
   "metadata": {
    "collapsed": false,
    "ExecuteTime": {
     "start_time": "2024-02-22T12:30:57.592390Z",
     "end_time": "2024-02-22T12:30:57.606894Z"
    }
   }
  },
  {
   "cell_type": "markdown",
   "source": [
    "# 创建一个以指定数值填充的数组"
   ],
   "metadata": {
    "collapsed": false
   }
  },
  {
   "cell_type": "code",
   "execution_count": 15,
   "outputs": [
    {
     "name": "stdout",
     "output_type": "stream",
     "text": [
      "[[10 10 10]\n",
      " [10 10 10]\n",
      " [10 10 10]]\n"
     ]
    }
   ],
   "source": [
    "n1 = np.full((3, 3), 10)\n",
    "print(n1)"
   ],
   "metadata": {
    "collapsed": false,
    "ExecuteTime": {
     "start_time": "2024-02-22T12:32:07.669578Z",
     "end_time": "2024-02-22T12:32:07.700977Z"
    }
   }
  },
  {
   "cell_type": "markdown",
   "source": [
    "# 数组的加减乘除运算"
   ],
   "metadata": {
    "collapsed": false
   }
  },
  {
   "cell_type": "code",
   "execution_count": 16,
   "outputs": [
    {
     "name": "stdout",
     "output_type": "stream",
     "text": [
      "[4 6]\n"
     ]
    }
   ],
   "source": [
    "n1 = np.array([1, 2])\n",
    "n2 = np.array([3, 4])\n",
    "print(n1 + n2)"
   ],
   "metadata": {
    "collapsed": false,
    "ExecuteTime": {
     "start_time": "2024-02-22T12:33:01.481442Z",
     "end_time": "2024-02-22T12:33:01.503821Z"
    }
   }
  },
  {
   "cell_type": "code",
   "execution_count": 17,
   "outputs": [
    {
     "name": "stdout",
     "output_type": "stream",
     "text": [
      "[-2 -2]\n"
     ]
    }
   ],
   "source": [
    "print(n1 - n2)"
   ],
   "metadata": {
    "collapsed": false,
    "ExecuteTime": {
     "start_time": "2024-02-22T12:33:15.809337Z",
     "end_time": "2024-02-22T12:33:15.824337Z"
    }
   }
  },
  {
   "cell_type": "code",
   "execution_count": 18,
   "outputs": [
    {
     "name": "stdout",
     "output_type": "stream",
     "text": [
      "[3 8]\n"
     ]
    }
   ],
   "source": [
    "print(n1 * n2)"
   ],
   "metadata": {
    "collapsed": false,
    "ExecuteTime": {
     "start_time": "2024-02-22T12:33:27.242268Z",
     "end_time": "2024-02-22T12:33:27.249437Z"
    }
   }
  },
  {
   "cell_type": "code",
   "execution_count": 19,
   "outputs": [
    {
     "name": "stdout",
     "output_type": "stream",
     "text": [
      "[0.33333333 0.5       ]\n"
     ]
    }
   ],
   "source": [
    "print(n1 / n2)"
   ],
   "metadata": {
    "collapsed": false,
    "ExecuteTime": {
     "start_time": "2024-02-22T12:33:44.080475Z",
     "end_time": "2024-02-22T12:33:44.097974Z"
    }
   }
  },
  {
   "cell_type": "markdown",
   "source": [
    "# 数组的reshape操作"
   ],
   "metadata": {
    "collapsed": false
   }
  },
  {
   "cell_type": "code",
   "execution_count": 20,
   "outputs": [],
   "source": [
    "n1 = np.array(\n",
    "    ['唧', '唧', '复', '唧', '唧', '木', '兰', '当', '户', '织', '不', '闻', '机', '杼', '声', '惟', '闻', '女', '叹',\n",
    "     '息'])"
   ],
   "metadata": {
    "collapsed": false,
    "ExecuteTime": {
     "start_time": "2024-02-22T12:35:57.523434Z",
     "end_time": "2024-02-22T12:35:57.530433Z"
    }
   }
  },
  {
   "cell_type": "code",
   "execution_count": 21,
   "outputs": [
    {
     "name": "stdout",
     "output_type": "stream",
     "text": [
      "['唧' '唧' '复' '唧' '唧' '木' '兰' '当' '户' '织' '不' '闻' '机' '杼' '声' '惟' '闻' '女'\n",
      " '叹' '息']\n"
     ]
    }
   ],
   "source": [
    "print(n1)"
   ],
   "metadata": {
    "collapsed": false,
    "ExecuteTime": {
     "start_time": "2024-02-22T12:36:00.944514Z",
     "end_time": "2024-02-22T12:36:00.962514Z"
    }
   }
  },
  {
   "cell_type": "code",
   "execution_count": 22,
   "outputs": [
    {
     "name": "stdout",
     "output_type": "stream",
     "text": [
      "(20,)\n"
     ]
    }
   ],
   "source": [
    "print(n1.shape)"
   ],
   "metadata": {
    "collapsed": false,
    "ExecuteTime": {
     "start_time": "2024-02-22T12:36:08.538604Z",
     "end_time": "2024-02-22T12:36:08.560595Z"
    }
   }
  },
  {
   "cell_type": "code",
   "execution_count": 23,
   "outputs": [
    {
     "name": "stdout",
     "output_type": "stream",
     "text": [
      "[['唧' '唧' '复' '唧' '唧']\n",
      " ['木' '兰' '当' '户' '织']\n",
      " ['不' '闻' '机' '杼' '声']\n",
      " ['惟' '闻' '女' '叹' '息']]\n"
     ]
    }
   ],
   "source": [
    "n2 = n1.reshape(4, 5)\n",
    "print(n2)"
   ],
   "metadata": {
    "collapsed": false,
    "ExecuteTime": {
     "start_time": "2024-02-22T12:36:43.859009Z",
     "end_time": "2024-02-22T12:36:43.867509Z"
    }
   }
  },
  {
   "cell_type": "markdown",
   "source": [
    "# 矩阵的创建"
   ],
   "metadata": {
    "collapsed": false
   }
  },
  {
   "cell_type": "code",
   "execution_count": 24,
   "outputs": [
    {
     "name": "stdout",
     "output_type": "stream",
     "text": [
      "[[5 6]\n",
      " [7 8]]\n",
      "[[1 2]\n",
      " [3 4]]\n"
     ]
    }
   ],
   "source": [
    "a = np.mat([[5, 6], [7, 8]])\n",
    "b = np.mat([[1, 2], [3, 4]])\n",
    "print(a)\n",
    "print(b)"
   ],
   "metadata": {
    "collapsed": false,
    "ExecuteTime": {
     "start_time": "2024-02-22T13:18:47.578038Z",
     "end_time": "2024-02-22T13:18:47.611044Z"
    }
   }
  },
  {
   "cell_type": "code",
   "execution_count": 25,
   "outputs": [
    {
     "name": "stdout",
     "output_type": "stream",
     "text": [
      "<class 'numpy.matrix'>\n",
      "<class 'numpy.matrix'>\n"
     ]
    }
   ],
   "source": [
    "print(type(a))\n",
    "print(type(b))"
   ],
   "metadata": {
    "collapsed": false,
    "ExecuteTime": {
     "start_time": "2024-02-22T13:19:04.760154Z",
     "end_time": "2024-02-22T13:19:04.772155Z"
    }
   }
  },
  {
   "cell_type": "markdown",
   "source": [
    "# 矩阵的加减乘除"
   ],
   "metadata": {
    "collapsed": false
   }
  },
  {
   "cell_type": "code",
   "execution_count": 26,
   "outputs": [
    {
     "name": "stdout",
     "output_type": "stream",
     "text": [
      "[[2 4]\n",
      " [4 6]\n",
      " [6 8]]\n",
      "[[0 0]\n",
      " [2 2]\n",
      " [4 4]]\n",
      "[[1. 1.]\n",
      " [3. 2.]\n",
      " [5. 3.]]\n"
     ]
    }
   ],
   "source": [
    "data1 = np.mat([[1, 2], [3, 4], [5, 6]])\n",
    "data2 = np.mat([1, 2])\n",
    "data3 = np.mat([[5, 6], [7, 8]])\n",
    "print(data1 + data2)\n",
    "print(data1 - data2)\n",
    "print(data1 / data2)"
   ],
   "metadata": {
    "collapsed": false,
    "ExecuteTime": {
     "start_time": "2024-02-22T13:20:55.967554Z",
     "end_time": "2024-02-22T13:20:55.985050Z"
    }
   }
  },
  {
   "cell_type": "code",
   "execution_count": 28,
   "outputs": [
    {
     "name": "stdout",
     "output_type": "stream",
     "text": [
      "[[19 22]\n",
      " [43 50]\n",
      " [67 78]]\n"
     ]
    }
   ],
   "source": [
    "print(data1 * data3)"
   ],
   "metadata": {
    "collapsed": false,
    "ExecuteTime": {
     "start_time": "2024-02-22T13:22:28.374965Z",
     "end_time": "2024-02-22T13:22:28.403618Z"
    }
   }
  },
  {
   "cell_type": "markdown",
   "source": [
    "# 数组点乘运算"
   ],
   "metadata": {
    "collapsed": false
   }
  },
  {
   "cell_type": "code",
   "execution_count": 29,
   "outputs": [
    {
     "name": "stdout",
     "output_type": "stream",
     "text": [
      "[[1 4 9]\n",
      " [1 4 9]\n",
      " [1 4 9]]\n"
     ]
    }
   ],
   "source": [
    "n1 = np.array([1, 2, 3])\n",
    "n2 = np.array([[1, 2, 3], [1, 2, 3], [1, 2, 3]])\n",
    "print(np.multiply(n1, n2))"
   ],
   "metadata": {
    "collapsed": false,
    "ExecuteTime": {
     "start_time": "2024-02-22T13:24:13.118545Z",
     "end_time": "2024-02-22T13:24:13.135544Z"
    }
   }
  },
  {
   "cell_type": "markdown",
   "source": [
    "# 矩阵转置"
   ],
   "metadata": {
    "collapsed": false
   }
  },
  {
   "cell_type": "code",
   "execution_count": 32,
   "outputs": [
    {
     "name": "stdout",
     "output_type": "stream",
     "text": [
      "原始矩阵：\n",
      " [[1 2 3]\n",
      " [4 5 6]\n",
      " [7 8 9]]\n",
      "转置：\n",
      " [[1 4 7]\n",
      " [2 5 8]\n",
      " [3 6 9]]\n"
     ]
    }
   ],
   "source": [
    "n1 = np.mat([[1, 2, 3], [4, 5, 6], [7, 8, 9]])\n",
    "print(\"原始矩阵：\\n\", n1)\n",
    "print(\"转置：\\n\", n1.T)"
   ],
   "metadata": {
    "collapsed": false,
    "ExecuteTime": {
     "start_time": "2024-02-22T13:26:08.739514Z",
     "end_time": "2024-02-22T13:26:08.753932Z"
    }
   }
  },
  {
   "cell_type": "markdown",
   "source": [
    "# 矩阵求逆"
   ],
   "metadata": {
    "collapsed": false
   }
  },
  {
   "cell_type": "code",
   "execution_count": 33,
   "outputs": [
    {
     "name": "stdout",
     "output_type": "stream",
     "text": [
      "原始矩阵：\n",
      " [[ 1  3  3]\n",
      " [ 4  5  6]\n",
      " [ 7 15  9]]\n",
      "转置：\n",
      " [[-0.9375      0.375       0.0625    ]\n",
      " [ 0.125      -0.25        0.125     ]\n",
      " [ 0.52083333  0.125      -0.14583333]]\n"
     ]
    }
   ],
   "source": [
    "n1 = np.mat([[1, 3, 3], [4, 5, 6], [7, 15, 9]])\n",
    "print(\"原始矩阵：\\n\", n1)\n",
    "print(\"转置：\\n\", n1.I)"
   ],
   "metadata": {
    "collapsed": false,
    "ExecuteTime": {
     "start_time": "2024-02-22T13:26:57.349607Z",
     "end_time": "2024-02-22T13:26:57.360621Z"
    }
   }
  },
  {
   "cell_type": "markdown",
   "source": [
    "# 使用Numpy内置函数进行数组加减乘除"
   ],
   "metadata": {
    "collapsed": false
   }
  },
  {
   "cell_type": "code",
   "execution_count": 34,
   "outputs": [
    {
     "name": "stdout",
     "output_type": "stream",
     "text": [
      "[[11 12 13]\n",
      " [14 15 16]\n",
      " [17 18 19]]\n"
     ]
    }
   ],
   "source": [
    "n1 = np.array([[1, 2, 3], [4, 5, 6], [7, 8, 9]])\n",
    "n2 = np.array([10, 10, 10])\n",
    "print(np.add(n1, n2))"
   ],
   "metadata": {
    "collapsed": false,
    "ExecuteTime": {
     "start_time": "2024-02-22T13:28:27.751454Z",
     "end_time": "2024-02-22T13:28:27.769953Z"
    }
   }
  },
  {
   "cell_type": "code",
   "execution_count": 35,
   "outputs": [
    {
     "name": "stdout",
     "output_type": "stream",
     "text": [
      "[[-9 -8 -7]\n",
      " [-6 -5 -4]\n",
      " [-3 -2 -1]]\n"
     ]
    }
   ],
   "source": [
    "print(np.subtract(n1, n2))"
   ],
   "metadata": {
    "collapsed": false,
    "ExecuteTime": {
     "start_time": "2024-02-22T13:29:01.301022Z",
     "end_time": "2024-02-22T13:29:01.324162Z"
    }
   }
  },
  {
   "cell_type": "code",
   "execution_count": 36,
   "outputs": [
    {
     "name": "stdout",
     "output_type": "stream",
     "text": [
      "[[10 20 30]\n",
      " [40 50 60]\n",
      " [70 80 90]]\n"
     ]
    }
   ],
   "source": [
    "print(np.multiply(n1, n2))"
   ],
   "metadata": {
    "collapsed": false,
    "ExecuteTime": {
     "start_time": "2024-02-22T13:29:24.056087Z",
     "end_time": "2024-02-22T13:29:24.138786Z"
    }
   }
  },
  {
   "cell_type": "code",
   "execution_count": 37,
   "outputs": [
    {
     "name": "stdout",
     "output_type": "stream",
     "text": [
      "[[0.1 0.2 0.3]\n",
      " [0.4 0.5 0.6]\n",
      " [0.7 0.8 0.9]]\n"
     ]
    }
   ],
   "source": [
    "print(np.divide(n1, n2))"
   ],
   "metadata": {
    "collapsed": false,
    "ExecuteTime": {
     "start_time": "2024-02-22T13:29:45.887438Z",
     "end_time": "2024-02-22T13:29:45.958955Z"
    }
   }
  },
  {
   "cell_type": "markdown",
   "source": [
    "# 幂运算"
   ],
   "metadata": {
    "collapsed": false
   }
  },
  {
   "cell_type": "code",
   "execution_count": 38,
   "outputs": [
    {
     "name": "stdout",
     "output_type": "stream",
     "text": [
      "[      1000    1000000 1000000000]\n"
     ]
    }
   ],
   "source": [
    "n1 = np.array([10, 100, 1000])\n",
    "print(np.power(n1, 3))"
   ],
   "metadata": {
    "collapsed": false,
    "ExecuteTime": {
     "start_time": "2024-02-22T13:30:33.941070Z",
     "end_time": "2024-02-22T13:30:33.952575Z"
    }
   }
  },
  {
   "cell_type": "markdown",
   "source": [
    "# 数组元素的行列求和"
   ],
   "metadata": {
    "collapsed": false
   }
  },
  {
   "cell_type": "code",
   "execution_count": 39,
   "outputs": [
    {
     "name": "stdout",
     "output_type": "stream",
     "text": [
      "对数组元素求和：\n",
      "45\n"
     ]
    }
   ],
   "source": [
    "n1 = np.array([[1, 2, 3], [4, 5, 6], [7, 8, 9]])\n",
    "print(\"对数组元素求和：\")\n",
    "print(n1.sum())"
   ],
   "metadata": {
    "collapsed": false,
    "ExecuteTime": {
     "start_time": "2024-02-22T13:31:33.804153Z",
     "end_time": "2024-02-22T13:31:33.827153Z"
    }
   }
  },
  {
   "cell_type": "code",
   "execution_count": 41,
   "outputs": [
    {
     "name": "stdout",
     "output_type": "stream",
     "text": [
      "[[1 2 3]\n",
      " [4 5 6]\n",
      " [7 8 9]]\n"
     ]
    }
   ],
   "source": [
    "print(n1)"
   ],
   "metadata": {
    "collapsed": false,
    "ExecuteTime": {
     "start_time": "2024-02-22T13:32:20.803558Z",
     "end_time": "2024-02-22T13:32:20.826012Z"
    }
   }
  },
  {
   "cell_type": "code",
   "execution_count": 40,
   "outputs": [
    {
     "name": "stdout",
     "output_type": "stream",
     "text": [
      "[12 15 18]\n"
     ]
    }
   ],
   "source": [
    "# 列求和\n",
    "print(n1.sum(axis=0))"
   ],
   "metadata": {
    "collapsed": false,
    "ExecuteTime": {
     "start_time": "2024-02-22T13:32:13.279320Z",
     "end_time": "2024-02-22T13:32:13.298797Z"
    }
   }
  },
  {
   "cell_type": "code",
   "execution_count": 42,
   "outputs": [
    {
     "name": "stdout",
     "output_type": "stream",
     "text": [
      "[ 6 15 24]\n"
     ]
    }
   ],
   "source": [
    "# 行求和\n",
    "print(n1.sum(axis=1))"
   ],
   "metadata": {
    "collapsed": false,
    "ExecuteTime": {
     "start_time": "2024-02-22T13:32:41.447524Z",
     "end_time": "2024-02-22T13:32:41.469320Z"
    }
   }
  },
  {
   "cell_type": "markdown",
   "source": [
    "# 平均值"
   ],
   "metadata": {
    "collapsed": false
   }
  },
  {
   "cell_type": "code",
   "execution_count": 43,
   "outputs": [
    {
     "name": "stdout",
     "output_type": "stream",
     "text": [
      "5.0\n",
      "[4. 5. 6.]\n",
      "[2. 5. 8.]\n"
     ]
    }
   ],
   "source": [
    "# 整体平均值\n",
    "print(n1.mean())\n",
    "# 列平均值\n",
    "print(n1.mean(axis=0))\n",
    "# 行平均值\n",
    "print(n1.mean(axis=1))"
   ],
   "metadata": {
    "collapsed": false,
    "ExecuteTime": {
     "start_time": "2024-02-22T13:33:56.981573Z",
     "end_time": "2024-02-22T13:33:57.009071Z"
    }
   }
  },
  {
   "cell_type": "markdown",
   "source": [
    "# 最大值最小值"
   ],
   "metadata": {
    "collapsed": false
   }
  },
  {
   "cell_type": "code",
   "execution_count": 44,
   "outputs": [
    {
     "name": "stdout",
     "output_type": "stream",
     "text": [
      "9\n"
     ]
    }
   ],
   "source": [
    "# 最大值\n",
    "print(n1.max())"
   ],
   "metadata": {
    "collapsed": false,
    "ExecuteTime": {
     "start_time": "2024-02-22T13:34:49.950562Z",
     "end_time": "2024-02-22T13:34:49.989866Z"
    }
   }
  },
  {
   "cell_type": "code",
   "execution_count": 45,
   "outputs": [
    {
     "name": "stdout",
     "output_type": "stream",
     "text": [
      "1\n"
     ]
    }
   ],
   "source": [
    "# 组小值\n",
    "print(n1.min())"
   ],
   "metadata": {
    "collapsed": false,
    "ExecuteTime": {
     "start_time": "2024-02-22T13:35:08.563706Z",
     "end_time": "2024-02-22T13:35:08.586705Z"
    }
   }
  },
  {
   "cell_type": "code",
   "execution_count": 46,
   "outputs": [
    {
     "name": "stdout",
     "output_type": "stream",
     "text": [
      "[7 8 9]\n",
      "[3 6 9]\n"
     ]
    }
   ],
   "source": [
    "print(n1.max(axis=0))\n",
    "print(n1.max(axis=1))"
   ],
   "metadata": {
    "collapsed": false,
    "ExecuteTime": {
     "start_time": "2024-02-22T13:35:37.517698Z",
     "end_time": "2024-02-22T13:35:37.539272Z"
    }
   }
  },
  {
   "cell_type": "code",
   "execution_count": 47,
   "outputs": [
    {
     "name": "stdout",
     "output_type": "stream",
     "text": [
      "[1 2 3]\n",
      "[1 4 7]\n"
     ]
    }
   ],
   "source": [
    "print(n1.min(axis=0))\n",
    "print(n1.min(axis=1))"
   ],
   "metadata": {
    "collapsed": false,
    "ExecuteTime": {
     "start_time": "2024-02-22T13:36:22.428807Z",
     "end_time": "2024-02-22T13:36:22.452221Z"
    }
   }
  },
  {
   "cell_type": "markdown",
   "source": [
    "# 求中位数"
   ],
   "metadata": {
    "collapsed": false
   }
  },
  {
   "cell_type": "code",
   "execution_count": 48,
   "outputs": [],
   "source": [
    "n1 = np.array([34.5, 36, 37.8, 39, 39.8, 33.6])\n",
    "sort_n = np.sort(n1)"
   ],
   "metadata": {
    "collapsed": false,
    "ExecuteTime": {
     "start_time": "2024-02-22T13:37:25.958240Z",
     "end_time": "2024-02-22T13:37:25.993749Z"
    }
   }
  },
  {
   "cell_type": "code",
   "execution_count": 49,
   "outputs": [
    {
     "name": "stdout",
     "output_type": "stream",
     "text": [
      "[33.6 34.5 36.  37.8 39.  39.8]\n"
     ]
    }
   ],
   "source": [
    "print(sort_n)"
   ],
   "metadata": {
    "collapsed": false,
    "ExecuteTime": {
     "start_time": "2024-02-22T13:37:30.316769Z",
     "end_time": "2024-02-22T13:37:30.352410Z"
    }
   }
  },
  {
   "cell_type": "code",
   "execution_count": 50,
   "outputs": [
    {
     "name": "stdout",
     "output_type": "stream",
     "text": [
      "36.9\n"
     ]
    }
   ],
   "source": [
    "# 中位数\n",
    "print(np.median(sort_n))"
   ],
   "metadata": {
    "collapsed": false,
    "ExecuteTime": {
     "start_time": "2024-02-22T13:37:52.871005Z",
     "end_time": "2024-02-22T13:37:52.895509Z"
    }
   }
  },
  {
   "cell_type": "markdown",
   "source": [
    "# 方差和标准差"
   ],
   "metadata": {
    "collapsed": false
   }
  },
  {
   "cell_type": "code",
   "execution_count": 51,
   "outputs": [
    {
     "name": "stdout",
     "output_type": "stream",
     "text": [
      "5.168055555555551\n"
     ]
    }
   ],
   "source": [
    "n1 = np.array([34.5, 36, 37.8, 39, 39.8, 33.6])\n",
    "# 方差\n",
    "print(np.var(n1))"
   ],
   "metadata": {
    "collapsed": false,
    "ExecuteTime": {
     "start_time": "2024-02-22T13:38:32.525505Z",
     "end_time": "2024-02-22T13:38:32.555506Z"
    }
   }
  },
  {
   "cell_type": "code",
   "execution_count": 52,
   "outputs": [
    {
     "name": "stdout",
     "output_type": "stream",
     "text": [
      "2.2733357771247853\n"
     ]
    }
   ],
   "source": [
    "# 标准差\n",
    "print(np.std(n1))"
   ],
   "metadata": {
    "collapsed": false,
    "ExecuteTime": {
     "start_time": "2024-02-22T13:38:54.233007Z",
     "end_time": "2024-02-22T13:38:54.256774Z"
    }
   }
  },
  {
   "cell_type": "markdown",
   "source": [
    "# 数组排序"
   ],
   "metadata": {
    "collapsed": false
   }
  },
  {
   "cell_type": "code",
   "execution_count": 53,
   "outputs": [
    {
     "name": "stdout",
     "output_type": "stream",
     "text": [
      "[[3 4 7]\n",
      " [2 5 8]\n",
      " [1 6 9]]\n"
     ]
    }
   ],
   "source": [
    "n1 = np.array([[4, 7, 3], [2, 8, 5], [9, 1, 6]])\n",
    "print(np.sort(n1))"
   ],
   "metadata": {
    "collapsed": false,
    "ExecuteTime": {
     "start_time": "2024-02-22T13:39:49.175329Z",
     "end_time": "2024-02-22T13:39:49.214861Z"
    }
   }
  },
  {
   "cell_type": "code",
   "execution_count": 54,
   "outputs": [
    {
     "name": "stdout",
     "output_type": "stream",
     "text": [
      "[[3 4 7]\n",
      " [2 5 8]\n",
      " [1 6 9]]\n"
     ]
    }
   ],
   "source": [
    "print(np.sort(n1, axis=1))"
   ],
   "metadata": {
    "collapsed": false,
    "ExecuteTime": {
     "start_time": "2024-02-22T13:40:05.919701Z",
     "end_time": "2024-02-22T13:40:05.943064Z"
    }
   }
  },
  {
   "cell_type": "code",
   "execution_count": 55,
   "outputs": [
    {
     "name": "stdout",
     "output_type": "stream",
     "text": [
      "[[2 1 3]\n",
      " [4 7 5]\n",
      " [9 8 6]]\n"
     ]
    }
   ],
   "source": [
    "print(np.sort(n1, axis=0))"
   ],
   "metadata": {
    "collapsed": false,
    "ExecuteTime": {
     "start_time": "2024-02-22T13:40:20.679412Z",
     "end_time": "2024-02-22T13:40:20.706330Z"
    }
   }
  },
  {
   "cell_type": "code",
   "execution_count": null,
   "outputs": [],
   "source": [],
   "metadata": {
    "collapsed": false
   }
  }
 ],
 "metadata": {
  "kernelspec": {
   "name": "pytorchpy39",
   "language": "python",
   "display_name": "pytorchpy39"
  },
  "language_info": {
   "codemirror_mode": {
    "name": "ipython",
    "version": 2
   },
   "file_extension": ".py",
   "mimetype": "text/x-python",
   "name": "python",
   "nbconvert_exporter": "python",
   "pygments_lexer": "ipython2",
   "version": "2.7.6"
  }
 },
 "nbformat": 4,
 "nbformat_minor": 0
}
