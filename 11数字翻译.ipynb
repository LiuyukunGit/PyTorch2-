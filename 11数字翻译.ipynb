{
 "cells": [
  {
   "cell_type": "markdown",
   "source": [
    "# B站：神奇的布欧\n",
    "# 微信：l1243278923"
   ],
   "metadata": {
    "collapsed": false
   }
  },
  {
   "cell_type": "code",
   "execution_count": 1,
   "metadata": {
    "collapsed": true,
    "ExecuteTime": {
     "start_time": "2024-02-29T14:41:38.484369Z",
     "end_time": "2024-02-29T14:41:40.285813Z"
    }
   },
   "outputs": [],
   "source": [
    "import torch\n",
    "import torch.nn as nn\n",
    "import torch.utils.data as Data\n",
    "import random\n",
    "import pandas as pd\n",
    "from torchtext import data\n",
    "from torchtext.vocab import build_vocab_from_iterator"
   ]
  },
  {
   "cell_type": "markdown",
   "source": [
    "# 0. 判断GPU是否可用"
   ],
   "metadata": {
    "collapsed": false
   }
  },
  {
   "cell_type": "code",
   "execution_count": 2,
   "outputs": [],
   "source": [
    "device = torch.device(\"cuda:0\" if torch.cuda.is_available() else \"cpu\")"
   ],
   "metadata": {
    "collapsed": false,
    "ExecuteTime": {
     "start_time": "2024-02-29T14:41:40.285813Z",
     "end_time": "2024-02-29T14:41:40.329568Z"
    }
   }
  },
  {
   "cell_type": "markdown",
   "source": [
    "# 1. 数据预处理"
   ],
   "metadata": {
    "collapsed": false
   }
  },
  {
   "cell_type": "markdown",
   "source": [
    "# a. 构建数据转换方式"
   ],
   "metadata": {
    "collapsed": false
   }
  },
  {
   "cell_type": "code",
   "execution_count": 3,
   "outputs": [],
   "source": [
    "numStrDict = {'0': '零', '1': '一', '2': '二', '3': '三', '4': '四', '5': '五', '6': '六', '7': '七', '8': '八',\n",
    "              '9': '九'}\n",
    "\n",
    "\n",
    "def numToStr(number):\n",
    "    tempList = [i for i in str(number)]\n",
    "    strList = [numStrDict[i] for i in tempList]\n",
    "    return tempList, strList"
   ],
   "metadata": {
    "collapsed": false,
    "ExecuteTime": {
     "start_time": "2024-02-29T14:41:40.329568Z",
     "end_time": "2024-02-29T14:41:40.345198Z"
    }
   }
  },
  {
   "cell_type": "markdown",
   "source": [
    "# b. 构建数据集"
   ],
   "metadata": {
    "collapsed": false
   }
  },
  {
   "cell_type": "code",
   "execution_count": 4,
   "outputs": [],
   "source": [
    "numList = list()\n",
    "strList = list()\n",
    "for i in range(51000):\n",
    "    tempNum = random.randint(10000000, 999999999999)\n",
    "    tempNum, tempStr = numToStr(tempNum)\n",
    "    numList.append(\" \".join(tempNum))\n",
    "    strList.append(\" \".join(tempStr))\n",
    "df = pd.DataFrame({\n",
    "    'number': numList,\n",
    "    'string': strList\n",
    "})"
   ],
   "metadata": {
    "collapsed": false,
    "ExecuteTime": {
     "start_time": "2024-02-29T14:41:40.345198Z",
     "end_time": "2024-02-29T14:41:40.455324Z"
    }
   }
  },
  {
   "cell_type": "code",
   "execution_count": 5,
   "outputs": [
    {
     "data": {
      "text/plain": "                        number                   string\n0      5 4 6 5 9 5 5 4 2 2 1 0  五 四 六 五 九 五 五 四 二 二 一 零\n1      8 8 8 1 0 4 5 0 3 1 4 8  八 八 八 一 零 四 五 零 三 一 四 八\n2      5 1 1 0 5 4 6 0 4 7 3 7  五 一 一 零 五 四 六 零 四 七 三 七\n3      2 5 5 3 0 3 8 2 3 7 6 6  二 五 五 三 零 三 八 二 三 七 六 六\n4      2 7 0 5 9 1 2 3 9 1 9 8  二 七 零 五 九 一 二 三 九 一 九 八\n...                        ...                      ...\n50995  3 8 4 2 4 4 0 7 0 4 4 0  三 八 四 二 四 四 零 七 零 四 四 零\n50996  4 3 8 3 5 3 1 8 3 8 6 7  四 三 八 三 五 三 一 八 三 八 六 七\n50997  6 5 3 7 3 3 9 2 3 8 7 7  六 五 三 七 三 三 九 二 三 八 七 七\n50998  6 6 5 2 8 2 6 2 9 9 2 2  六 六 五 二 八 二 六 二 九 九 二 二\n50999  2 2 2 8 3 1 3 9 6 2 8 1  二 二 二 八 三 一 三 九 六 二 八 一\n\n[51000 rows x 2 columns]",
      "text/html": "<div>\n<style scoped>\n    .dataframe tbody tr th:only-of-type {\n        vertical-align: middle;\n    }\n\n    .dataframe tbody tr th {\n        vertical-align: top;\n    }\n\n    .dataframe thead th {\n        text-align: right;\n    }\n</style>\n<table border=\"1\" class=\"dataframe\">\n  <thead>\n    <tr style=\"text-align: right;\">\n      <th></th>\n      <th>number</th>\n      <th>string</th>\n    </tr>\n  </thead>\n  <tbody>\n    <tr>\n      <th>0</th>\n      <td>5 4 6 5 9 5 5 4 2 2 1 0</td>\n      <td>五 四 六 五 九 五 五 四 二 二 一 零</td>\n    </tr>\n    <tr>\n      <th>1</th>\n      <td>8 8 8 1 0 4 5 0 3 1 4 8</td>\n      <td>八 八 八 一 零 四 五 零 三 一 四 八</td>\n    </tr>\n    <tr>\n      <th>2</th>\n      <td>5 1 1 0 5 4 6 0 4 7 3 7</td>\n      <td>五 一 一 零 五 四 六 零 四 七 三 七</td>\n    </tr>\n    <tr>\n      <th>3</th>\n      <td>2 5 5 3 0 3 8 2 3 7 6 6</td>\n      <td>二 五 五 三 零 三 八 二 三 七 六 六</td>\n    </tr>\n    <tr>\n      <th>4</th>\n      <td>2 7 0 5 9 1 2 3 9 1 9 8</td>\n      <td>二 七 零 五 九 一 二 三 九 一 九 八</td>\n    </tr>\n    <tr>\n      <th>...</th>\n      <td>...</td>\n      <td>...</td>\n    </tr>\n    <tr>\n      <th>50995</th>\n      <td>3 8 4 2 4 4 0 7 0 4 4 0</td>\n      <td>三 八 四 二 四 四 零 七 零 四 四 零</td>\n    </tr>\n    <tr>\n      <th>50996</th>\n      <td>4 3 8 3 5 3 1 8 3 8 6 7</td>\n      <td>四 三 八 三 五 三 一 八 三 八 六 七</td>\n    </tr>\n    <tr>\n      <th>50997</th>\n      <td>6 5 3 7 3 3 9 2 3 8 7 7</td>\n      <td>六 五 三 七 三 三 九 二 三 八 七 七</td>\n    </tr>\n    <tr>\n      <th>50998</th>\n      <td>6 6 5 2 8 2 6 2 9 9 2 2</td>\n      <td>六 六 五 二 八 二 六 二 九 九 二 二</td>\n    </tr>\n    <tr>\n      <th>50999</th>\n      <td>2 2 2 8 3 1 3 9 6 2 8 1</td>\n      <td>二 二 二 八 三 一 三 九 六 二 八 一</td>\n    </tr>\n  </tbody>\n</table>\n<p>51000 rows × 2 columns</p>\n</div>"
     },
     "execution_count": 5,
     "metadata": {},
     "output_type": "execute_result"
    }
   ],
   "source": [
    "df"
   ],
   "metadata": {
    "collapsed": false,
    "ExecuteTime": {
     "start_time": "2024-02-29T14:41:40.458568Z",
     "end_time": "2024-02-29T14:41:40.474192Z"
    }
   }
  },
  {
   "cell_type": "markdown",
   "source": [
    "# c. 构建词表"
   ],
   "metadata": {
    "collapsed": false
   }
  },
  {
   "cell_type": "code",
   "execution_count": 6,
   "outputs": [],
   "source": [
    "def yield_tokens(data_iter):\n",
    "    tokenizer = data.get_tokenizer(\"basic_english\")\n",
    "    for test in data_iter:\n",
    "        yield tokenizer(test)"
   ],
   "metadata": {
    "collapsed": false,
    "ExecuteTime": {
     "start_time": "2024-02-29T14:41:40.474192Z",
     "end_time": "2024-02-29T14:41:40.490212Z"
    }
   }
  },
  {
   "cell_type": "code",
   "execution_count": 7,
   "outputs": [],
   "source": [
    "numVocab = build_vocab_from_iterator(yield_tokens(df.number), min_freq=1, specials=['<PAD>', '<SOS>', '<EOS>'])\n",
    "numVocab.set_default_index(numVocab['<PAD>'])\n",
    "strVocab = build_vocab_from_iterator(yield_tokens(df.string), min_freq=1, specials=['<PAD>', '<SOS>', '<EOS>'])\n",
    "strVocab.set_default_index(strVocab['<PAD>'])"
   ],
   "metadata": {
    "collapsed": false,
    "ExecuteTime": {
     "start_time": "2024-02-29T14:41:40.490212Z",
     "end_time": "2024-02-29T14:41:40.953301Z"
    }
   }
  },
  {
   "cell_type": "code",
   "execution_count": 8,
   "outputs": [
    {
     "name": "stdout",
     "output_type": "stream",
     "text": [
      "13\n",
      "13\n"
     ]
    }
   ],
   "source": [
    "numVocab_size = numVocab.__len__()\n",
    "strVocab_size = strVocab.__len__()\n",
    "print(numVocab_size)\n",
    "print(strVocab_size)"
   ],
   "metadata": {
    "collapsed": false,
    "ExecuteTime": {
     "start_time": "2024-02-29T14:41:40.953301Z",
     "end_time": "2024-02-29T14:41:40.969064Z"
    }
   }
  },
  {
   "cell_type": "code",
   "execution_count": 9,
   "outputs": [
    {
     "name": "stdout",
     "output_type": "stream",
     "text": [
      "{'<EOS>': 2, '<PAD>': 0, '1': 7, '<SOS>': 1, '8': 3, '3': 4, '5': 5, '6': 6, '7': 8, '2': 9, '4': 10, '9': 11, '0': 12}\n",
      "{'六': 6, '<EOS>': 2, '<PAD>': 0, '八': 3, '<SOS>': 1, '三': 4, '五': 5, '一': 7, '七': 8, '二': 9, '四': 10, '九': 11, '零': 12}\n"
     ]
    }
   ],
   "source": [
    "print(numVocab.get_stoi())\n",
    "print(strVocab.get_stoi())"
   ],
   "metadata": {
    "collapsed": false,
    "ExecuteTime": {
     "start_time": "2024-02-29T14:41:40.969064Z",
     "end_time": "2024-02-29T14:41:41.032506Z"
    }
   }
  },
  {
   "cell_type": "code",
   "execution_count": 10,
   "outputs": [],
   "source": [
    "def word2index(vocab, word):\n",
    "    return vocab[word]\n",
    "\n",
    "\n",
    "def index2word(vocab, index):\n",
    "    return vocab.lookup_token(index)\n",
    "\n",
    "\n",
    "def wordList2indexList(vocab, wordList):\n",
    "    return vocab.lookup_indices(wordList)\n",
    "\n",
    "\n",
    "def indexList2wordList(vocab, indexList):\n",
    "    return vocab.lookup_tokens(indexList)"
   ],
   "metadata": {
    "collapsed": false,
    "ExecuteTime": {
     "start_time": "2024-02-29T14:41:40.986415Z",
     "end_time": "2024-02-29T14:41:41.032506Z"
    }
   }
  },
  {
   "cell_type": "markdown",
   "source": [
    "# d. 获取最大长度"
   ],
   "metadata": {
    "collapsed": false
   }
  },
  {
   "cell_type": "code",
   "execution_count": 11,
   "outputs": [],
   "source": [
    "numMaxLength = max(len(i.split(\" \")) for i in df[\"number\"])\n",
    "strMaxLength = max(len(i.split(\" \")) for i in df[\"string\"])\n",
    "maxLength = max(numMaxLength, strMaxLength) + 2"
   ],
   "metadata": {
    "collapsed": false,
    "ExecuteTime": {
     "start_time": "2024-02-29T14:41:41.000918Z",
     "end_time": "2024-02-29T14:41:41.032506Z"
    }
   }
  },
  {
   "cell_type": "code",
   "execution_count": 12,
   "outputs": [
    {
     "data": {
      "text/plain": "14"
     },
     "execution_count": 12,
     "metadata": {},
     "output_type": "execute_result"
    }
   ],
   "source": [
    "maxLength"
   ],
   "metadata": {
    "collapsed": false,
    "ExecuteTime": {
     "start_time": "2024-02-29T14:41:41.032506Z",
     "end_time": "2024-02-29T14:41:41.048306Z"
    }
   }
  },
  {
   "cell_type": "markdown",
   "source": [
    "# e. 截长补短"
   ],
   "metadata": {
    "collapsed": false
   }
  },
  {
   "cell_type": "code",
   "execution_count": 13,
   "outputs": [],
   "source": [
    "def sentenceDeal(vocab, wordList, maxLength):\n",
    "    wordList.insert(0, \"<SOS>\")\n",
    "    wordList.append(\"<EOS>\")\n",
    "    for i in range(maxLength - len(wordList)):\n",
    "        wordList.append(\"<PAD>\")\n",
    "    return wordList2indexList(vocab, wordList)"
   ],
   "metadata": {
    "collapsed": false,
    "ExecuteTime": {
     "start_time": "2024-02-29T14:41:41.048306Z",
     "end_time": "2024-02-29T14:41:41.096282Z"
    }
   }
  },
  {
   "cell_type": "code",
   "execution_count": 14,
   "outputs": [],
   "source": [
    "tokenizer = data.get_tokenizer(\"basic_english\")\n",
    "allNumberList = list()\n",
    "for index in range(len(df)):\n",
    "    allNumberList.append(sentenceDeal(numVocab, tokenizer(df.number[index]), maxLength))\n",
    "allStringList = list()\n",
    "for index in range(len(df)):\n",
    "    allStringList.append(sentenceDeal(strVocab, tokenizer(df.string[index]), maxLength))"
   ],
   "metadata": {
    "collapsed": false,
    "ExecuteTime": {
     "start_time": "2024-02-29T14:41:41.064184Z",
     "end_time": "2024-02-29T14:41:42.032174Z"
    }
   }
  },
  {
   "cell_type": "code",
   "execution_count": 15,
   "outputs": [],
   "source": [
    "df[\"numberCode\"] = allNumberList\n",
    "df[\"stringCode\"] = allStringList"
   ],
   "metadata": {
    "collapsed": false,
    "ExecuteTime": {
     "start_time": "2024-02-29T14:41:42.032174Z",
     "end_time": "2024-02-29T14:41:42.048117Z"
    }
   }
  },
  {
   "cell_type": "code",
   "execution_count": 16,
   "outputs": [
    {
     "data": {
      "text/plain": "                        number                   string  \\\n0      5 4 6 5 9 5 5 4 2 2 1 0  五 四 六 五 九 五 五 四 二 二 一 零   \n1      8 8 8 1 0 4 5 0 3 1 4 8  八 八 八 一 零 四 五 零 三 一 四 八   \n2      5 1 1 0 5 4 6 0 4 7 3 7  五 一 一 零 五 四 六 零 四 七 三 七   \n3      2 5 5 3 0 3 8 2 3 7 6 6  二 五 五 三 零 三 八 二 三 七 六 六   \n4      2 7 0 5 9 1 2 3 9 1 9 8  二 七 零 五 九 一 二 三 九 一 九 八   \n...                        ...                      ...   \n50995  3 8 4 2 4 4 0 7 0 4 4 0  三 八 四 二 四 四 零 七 零 四 四 零   \n50996  4 3 8 3 5 3 1 8 3 8 6 7  四 三 八 三 五 三 一 八 三 八 六 七   \n50997  6 5 3 7 3 3 9 2 3 8 7 7  六 五 三 七 三 三 九 二 三 八 七 七   \n50998  6 6 5 2 8 2 6 2 9 9 2 2  六 六 五 二 八 二 六 二 九 九 二 二   \n50999  2 2 2 8 3 1 3 9 6 2 8 1  二 二 二 八 三 一 三 九 六 二 八 一   \n\n                                              numberCode  \\\n0         [1, 5, 10, 6, 5, 11, 5, 5, 10, 9, 9, 7, 12, 2]   \n1         [1, 3, 3, 3, 7, 12, 10, 5, 12, 4, 7, 10, 3, 2]   \n2         [1, 5, 7, 7, 12, 5, 10, 6, 12, 10, 8, 4, 8, 2]   \n3            [1, 9, 5, 5, 4, 12, 4, 3, 9, 4, 8, 6, 6, 2]   \n4         [1, 9, 8, 12, 5, 11, 7, 9, 4, 11, 7, 11, 3, 2]   \n...                                                  ...   \n50995  [1, 4, 3, 10, 9, 10, 10, 12, 8, 12, 10, 10, 12...   \n50996        [1, 10, 4, 3, 4, 5, 4, 7, 3, 4, 3, 6, 8, 2]   \n50997        [1, 6, 5, 4, 8, 4, 4, 11, 9, 4, 3, 8, 8, 2]   \n50998       [1, 6, 6, 5, 9, 3, 9, 6, 9, 11, 11, 9, 9, 2]   \n50999        [1, 9, 9, 9, 3, 4, 7, 4, 11, 6, 9, 3, 7, 2]   \n\n                                              stringCode  \n0         [1, 5, 10, 6, 5, 11, 5, 5, 10, 9, 9, 7, 12, 2]  \n1         [1, 3, 3, 3, 7, 12, 10, 5, 12, 4, 7, 10, 3, 2]  \n2         [1, 5, 7, 7, 12, 5, 10, 6, 12, 10, 8, 4, 8, 2]  \n3            [1, 9, 5, 5, 4, 12, 4, 3, 9, 4, 8, 6, 6, 2]  \n4         [1, 9, 8, 12, 5, 11, 7, 9, 4, 11, 7, 11, 3, 2]  \n...                                                  ...  \n50995  [1, 4, 3, 10, 9, 10, 10, 12, 8, 12, 10, 10, 12...  \n50996        [1, 10, 4, 3, 4, 5, 4, 7, 3, 4, 3, 6, 8, 2]  \n50997        [1, 6, 5, 4, 8, 4, 4, 11, 9, 4, 3, 8, 8, 2]  \n50998       [1, 6, 6, 5, 9, 3, 9, 6, 9, 11, 11, 9, 9, 2]  \n50999        [1, 9, 9, 9, 3, 4, 7, 4, 11, 6, 9, 3, 7, 2]  \n\n[51000 rows x 4 columns]",
      "text/html": "<div>\n<style scoped>\n    .dataframe tbody tr th:only-of-type {\n        vertical-align: middle;\n    }\n\n    .dataframe tbody tr th {\n        vertical-align: top;\n    }\n\n    .dataframe thead th {\n        text-align: right;\n    }\n</style>\n<table border=\"1\" class=\"dataframe\">\n  <thead>\n    <tr style=\"text-align: right;\">\n      <th></th>\n      <th>number</th>\n      <th>string</th>\n      <th>numberCode</th>\n      <th>stringCode</th>\n    </tr>\n  </thead>\n  <tbody>\n    <tr>\n      <th>0</th>\n      <td>5 4 6 5 9 5 5 4 2 2 1 0</td>\n      <td>五 四 六 五 九 五 五 四 二 二 一 零</td>\n      <td>[1, 5, 10, 6, 5, 11, 5, 5, 10, 9, 9, 7, 12, 2]</td>\n      <td>[1, 5, 10, 6, 5, 11, 5, 5, 10, 9, 9, 7, 12, 2]</td>\n    </tr>\n    <tr>\n      <th>1</th>\n      <td>8 8 8 1 0 4 5 0 3 1 4 8</td>\n      <td>八 八 八 一 零 四 五 零 三 一 四 八</td>\n      <td>[1, 3, 3, 3, 7, 12, 10, 5, 12, 4, 7, 10, 3, 2]</td>\n      <td>[1, 3, 3, 3, 7, 12, 10, 5, 12, 4, 7, 10, 3, 2]</td>\n    </tr>\n    <tr>\n      <th>2</th>\n      <td>5 1 1 0 5 4 6 0 4 7 3 7</td>\n      <td>五 一 一 零 五 四 六 零 四 七 三 七</td>\n      <td>[1, 5, 7, 7, 12, 5, 10, 6, 12, 10, 8, 4, 8, 2]</td>\n      <td>[1, 5, 7, 7, 12, 5, 10, 6, 12, 10, 8, 4, 8, 2]</td>\n    </tr>\n    <tr>\n      <th>3</th>\n      <td>2 5 5 3 0 3 8 2 3 7 6 6</td>\n      <td>二 五 五 三 零 三 八 二 三 七 六 六</td>\n      <td>[1, 9, 5, 5, 4, 12, 4, 3, 9, 4, 8, 6, 6, 2]</td>\n      <td>[1, 9, 5, 5, 4, 12, 4, 3, 9, 4, 8, 6, 6, 2]</td>\n    </tr>\n    <tr>\n      <th>4</th>\n      <td>2 7 0 5 9 1 2 3 9 1 9 8</td>\n      <td>二 七 零 五 九 一 二 三 九 一 九 八</td>\n      <td>[1, 9, 8, 12, 5, 11, 7, 9, 4, 11, 7, 11, 3, 2]</td>\n      <td>[1, 9, 8, 12, 5, 11, 7, 9, 4, 11, 7, 11, 3, 2]</td>\n    </tr>\n    <tr>\n      <th>...</th>\n      <td>...</td>\n      <td>...</td>\n      <td>...</td>\n      <td>...</td>\n    </tr>\n    <tr>\n      <th>50995</th>\n      <td>3 8 4 2 4 4 0 7 0 4 4 0</td>\n      <td>三 八 四 二 四 四 零 七 零 四 四 零</td>\n      <td>[1, 4, 3, 10, 9, 10, 10, 12, 8, 12, 10, 10, 12...</td>\n      <td>[1, 4, 3, 10, 9, 10, 10, 12, 8, 12, 10, 10, 12...</td>\n    </tr>\n    <tr>\n      <th>50996</th>\n      <td>4 3 8 3 5 3 1 8 3 8 6 7</td>\n      <td>四 三 八 三 五 三 一 八 三 八 六 七</td>\n      <td>[1, 10, 4, 3, 4, 5, 4, 7, 3, 4, 3, 6, 8, 2]</td>\n      <td>[1, 10, 4, 3, 4, 5, 4, 7, 3, 4, 3, 6, 8, 2]</td>\n    </tr>\n    <tr>\n      <th>50997</th>\n      <td>6 5 3 7 3 3 9 2 3 8 7 7</td>\n      <td>六 五 三 七 三 三 九 二 三 八 七 七</td>\n      <td>[1, 6, 5, 4, 8, 4, 4, 11, 9, 4, 3, 8, 8, 2]</td>\n      <td>[1, 6, 5, 4, 8, 4, 4, 11, 9, 4, 3, 8, 8, 2]</td>\n    </tr>\n    <tr>\n      <th>50998</th>\n      <td>6 6 5 2 8 2 6 2 9 9 2 2</td>\n      <td>六 六 五 二 八 二 六 二 九 九 二 二</td>\n      <td>[1, 6, 6, 5, 9, 3, 9, 6, 9, 11, 11, 9, 9, 2]</td>\n      <td>[1, 6, 6, 5, 9, 3, 9, 6, 9, 11, 11, 9, 9, 2]</td>\n    </tr>\n    <tr>\n      <th>50999</th>\n      <td>2 2 2 8 3 1 3 9 6 2 8 1</td>\n      <td>二 二 二 八 三 一 三 九 六 二 八 一</td>\n      <td>[1, 9, 9, 9, 3, 4, 7, 4, 11, 6, 9, 3, 7, 2]</td>\n      <td>[1, 9, 9, 9, 3, 4, 7, 4, 11, 6, 9, 3, 7, 2]</td>\n    </tr>\n  </tbody>\n</table>\n<p>51000 rows × 4 columns</p>\n</div>"
     },
     "execution_count": 16,
     "metadata": {},
     "output_type": "execute_result"
    }
   ],
   "source": [
    "df"
   ],
   "metadata": {
    "collapsed": false,
    "ExecuteTime": {
     "start_time": "2024-02-29T14:41:42.048117Z",
     "end_time": "2024-02-29T14:41:42.063903Z"
    }
   }
  },
  {
   "cell_type": "code",
   "execution_count": 17,
   "outputs": [],
   "source": [
    "# 训练集\n",
    "class trainDataset(Data.Dataset):\n",
    "    def __len__(self):\n",
    "        return len(df[:50000])\n",
    "    def __getitem__(self, i):\n",
    "        x = df[:50000].numberCode.tolist()[i]\n",
    "        y = df[:50000].stringCode.tolist()[i]\n",
    "        x = torch.LongTensor(x)\n",
    "        y = torch.LongTensor(y)\n",
    "        return x, y\n",
    "# 测试集\n",
    "class testDataset(Data.Dataset):\n",
    "    def __len__(self):\n",
    "        return len(df[50000:])\n",
    "    def __getitem__(self, i):\n",
    "        x = df[50000:].numberCode.tolist()[i]\n",
    "        y = df[50000:].stringCode.tolist()[i]\n",
    "        x = torch.LongTensor(x)\n",
    "        y = torch.LongTensor(y)\n",
    "        return x, y"
   ],
   "metadata": {
    "collapsed": false,
    "ExecuteTime": {
     "start_time": "2024-02-29T14:41:42.063903Z",
     "end_time": "2024-02-29T14:41:42.127301Z"
    }
   }
  },
  {
   "cell_type": "code",
   "execution_count": 18,
   "outputs": [
    {
     "name": "stdout",
     "output_type": "stream",
     "text": [
      "50000\n",
      "1000\n"
     ]
    }
   ],
   "source": [
    "# 训练集\n",
    "traindataset = trainDataset()\n",
    "print(len(traindataset))\n",
    "testdataset = testDataset()\n",
    "print(len(testdataset))"
   ],
   "metadata": {
    "collapsed": false,
    "ExecuteTime": {
     "start_time": "2024-02-29T14:41:42.079638Z",
     "end_time": "2024-02-29T14:41:42.158551Z"
    }
   }
  },
  {
   "cell_type": "markdown",
   "source": [
    "# f. 数据集加载器"
   ],
   "metadata": {
    "collapsed": false
   }
  },
  {
   "cell_type": "code",
   "execution_count": 19,
   "outputs": [
    {
     "data": {
      "text/plain": "(781,\n [tensor([[ 1,  5, 10,  5,  9,  7,  7,  7,  3, 12, 10,  7,  2,  0],\n          [ 1,  6,  5,  3, 10,  3,  3, 11,  9,  7,  7,  3,  6,  2],\n          [ 1, 10,  6, 12,  7,  3,  9,  8,  6, 12,  5,  3,  4,  2],\n          [ 1,  6,  8,  6, 12,  8,  4, 12,  4,  6,  9,  9,  2,  0],\n          [ 1,  7, 12, 10,  7,  5,  9,  5, 12,  9, 10, 12, 10,  2],\n          [ 1,  6,  4,  5,  5,  6,  3,  8, 10, 12,  4, 11, 11,  2],\n          [ 1,  6,  5,  5,  8, 12,  9,  5, 10,  5, 11,  8, 10,  2],\n          [ 1,  8,  4,  6,  4, 12,  6,  6,  7,  8, 10,  8,  4,  2],\n          [ 1,  3,  5,  5,  5,  8,  9,  7,  6,  3, 10,  5,  7,  2],\n          [ 1,  8,  7, 10,  8,  9,  6,  9,  4, 12,  6, 10,  9,  2],\n          [ 1,  3, 12,  9,  5, 11, 11,  3,  5,  4, 10,  7, 12,  2],\n          [ 1,  9, 12,  9,  5,  9,  3,  6,  9, 10,  8,  3,  9,  2],\n          [ 1,  7,  8,  9, 12, 11,  7, 12,  3,  4,  5,  5,  8,  2],\n          [ 1, 11, 12,  8, 11, 10, 12, 12,  8,  5,  5, 11,  7,  2],\n          [ 1,  5, 10,  4, 10, 12,  4, 12,  8,  4,  6, 11,  5,  2],\n          [ 1, 11, 10, 11, 12, 12,  4,  7, 12, 10, 12,  8, 12,  2],\n          [ 1, 10,  4,  8,  4,  9,  6,  3,  9,  4,  6,  4,  2,  0],\n          [ 1, 10, 10,  8,  3,  4,  7, 12,  5, 12,  9, 10,  2,  0],\n          [ 1,  8,  9,  4,  5,  4,  5,  5, 10,  5, 12, 11,  5,  2],\n          [ 1,  3,  5,  5, 10,  6,  8, 12,  7,  7,  5,  8,  5,  2],\n          [ 1,  8, 11,  6,  8,  4,  3,  6,  5,  8,  8, 10,  4,  2],\n          [ 1,  3,  9, 10,  9,  7, 11,  7,  3,  8,  9,  4,  6,  2],\n          [ 1,  6, 11,  4,  7,  3, 10, 12, 12, 10,  7,  7,  6,  2],\n          [ 1,  6, 12,  6, 12,  3,  8,  9,  8,  5,  4,  7,  9,  2],\n          [ 1, 10, 11,  4,  5,  3,  6,  3,  8, 11, 12,  6, 11,  2],\n          [ 1,  3,  9,  7,  4,  3, 11,  3,  5,  6,  4,  3,  3,  2],\n          [ 1,  6,  9,  4,  7,  5, 11, 12,  3,  9, 12, 11, 10,  2],\n          [ 1,  8,  7,  7, 12,  4,  7,  4, 11, 12, 10,  9,  2,  0],\n          [ 1, 11,  7, 11,  6, 12, 11,  8,  7, 12, 12,  4, 11,  2],\n          [ 1,  4, 12,  9,  5, 12,  3,  7, 12,  3, 10,  5, 12,  2],\n          [ 1,  3, 11,  7, 10, 11, 12,  5,  5,  9,  4,  8, 12,  2],\n          [ 1,  3,  8,  6, 10, 11,  3, 11, 12, 11, 10,  5,  7,  2],\n          [ 1,  8, 12,  5, 10, 10, 12,  5, 12,  8,  4, 10,  3,  2],\n          [ 1,  5,  9,  4, 12,  4,  8,  3,  8,  5,  6, 10,  7,  2],\n          [ 1, 10, 11,  7,  3, 12, 10,  8,  4,  4, 11,  8, 11,  2],\n          [ 1,  9, 12,  5,  9,  7, 12,  6, 12,  8,  3, 12,  4,  2],\n          [ 1,  8, 11,  9,  4, 12,  8,  4,  3,  9,  3,  6,  2,  0],\n          [ 1,  4, 10,  7, 10,  4, 11,  9, 10,  8,  7,  4,  2,  0],\n          [ 1,  5,  9, 12,  7,  3,  8,  6,  5,  8, 12,  4,  9,  2],\n          [ 1,  7, 10, 10,  4,  7,  5, 10,  6,  9,  3,  3,  5,  2],\n          [ 1,  6, 12,  4,  6,  7,  3,  6, 11,  9,  6,  9,  2,  0],\n          [ 1,  3,  9, 11,  7, 10,  6,  6, 12,  9,  4, 11,  3,  2],\n          [ 1,  7,  5, 12, 10, 12, 10,  6,  9, 10,  3,  8,  9,  2],\n          [ 1,  4,  7,  8,  8,  8,  4,  9,  5,  4,  5,  9, 10,  2],\n          [ 1,  6, 10,  3,  6,  6,  4, 12,  7, 11,  6,  8,  2,  0],\n          [ 1,  3,  9,  7,  7,  9,  7, 11,  5, 10, 10,  6,  8,  2],\n          [ 1,  5,  9,  7,  6,  3,  4, 11,  9, 10,  9,  5,  8,  2],\n          [ 1,  8, 10,  5, 11, 11,  5,  5,  9, 10,  6,  3, 11,  2],\n          [ 1,  8,  8,  5, 11,  4,  8,  8, 11, 10, 10,  3,  8,  2],\n          [ 1,  6,  6, 10, 11,  4,  9,  4,  5,  7,  7,  3,  6,  2],\n          [ 1,  6,  3,  6,  7,  3, 11,  7,  8,  7, 12,  5,  4,  2],\n          [ 1,  6,  8,  4,  7,  7,  8,  9,  8,  8, 10,  4,  7,  2],\n          [ 1,  5, 10,  3,  4,  7,  9, 10,  5,  7,  6,  9,  8,  2],\n          [ 1,  6,  4, 12,  5,  7, 11, 11, 11,  5,  5,  6, 12,  2],\n          [ 1,  5, 12,  6,  3, 10,  5,  9,  7, 11,  6,  6,  2,  0],\n          [ 1, 10,  3,  7, 12,  4,  4,  8, 10, 11, 10,  9,  9,  2],\n          [ 1,  6,  8, 10,  8,  8, 10,  4, 10,  7,  6,  9,  2,  0],\n          [ 1,  6, 12,  3,  3,  7,  8,  6,  5,  5, 11,  4,  9,  2],\n          [ 1,  6, 12, 11,  6,  9, 10,  3,  5,  9,  9,  8, 11,  2],\n          [ 1,  6, 11, 12, 11,  5, 10,  5,  5,  4, 12,  8,  7,  2],\n          [ 1,  5, 11,  3,  8,  7,  4,  8,  5, 11,  9,  8, 10,  2],\n          [ 1, 11,  6, 11, 10,  9,  4,  6,  9,  7, 12,  5,  6,  2],\n          [ 1, 10,  8,  3,  6,  5,  5,  7,  3,  7,  3,  4,  7,  2],\n          [ 1,  4,  8, 12,  7,  6, 12, 11,  5,  5,  3,  5,  8,  2]]),\n  tensor([[ 1,  5, 10,  5,  9,  7,  7,  7,  3, 12, 10,  7,  2,  0],\n          [ 1,  6,  5,  3, 10,  3,  3, 11,  9,  7,  7,  3,  6,  2],\n          [ 1, 10,  6, 12,  7,  3,  9,  8,  6, 12,  5,  3,  4,  2],\n          [ 1,  6,  8,  6, 12,  8,  4, 12,  4,  6,  9,  9,  2,  0],\n          [ 1,  7, 12, 10,  7,  5,  9,  5, 12,  9, 10, 12, 10,  2],\n          [ 1,  6,  4,  5,  5,  6,  3,  8, 10, 12,  4, 11, 11,  2],\n          [ 1,  6,  5,  5,  8, 12,  9,  5, 10,  5, 11,  8, 10,  2],\n          [ 1,  8,  4,  6,  4, 12,  6,  6,  7,  8, 10,  8,  4,  2],\n          [ 1,  3,  5,  5,  5,  8,  9,  7,  6,  3, 10,  5,  7,  2],\n          [ 1,  8,  7, 10,  8,  9,  6,  9,  4, 12,  6, 10,  9,  2],\n          [ 1,  3, 12,  9,  5, 11, 11,  3,  5,  4, 10,  7, 12,  2],\n          [ 1,  9, 12,  9,  5,  9,  3,  6,  9, 10,  8,  3,  9,  2],\n          [ 1,  7,  8,  9, 12, 11,  7, 12,  3,  4,  5,  5,  8,  2],\n          [ 1, 11, 12,  8, 11, 10, 12, 12,  8,  5,  5, 11,  7,  2],\n          [ 1,  5, 10,  4, 10, 12,  4, 12,  8,  4,  6, 11,  5,  2],\n          [ 1, 11, 10, 11, 12, 12,  4,  7, 12, 10, 12,  8, 12,  2],\n          [ 1, 10,  4,  8,  4,  9,  6,  3,  9,  4,  6,  4,  2,  0],\n          [ 1, 10, 10,  8,  3,  4,  7, 12,  5, 12,  9, 10,  2,  0],\n          [ 1,  8,  9,  4,  5,  4,  5,  5, 10,  5, 12, 11,  5,  2],\n          [ 1,  3,  5,  5, 10,  6,  8, 12,  7,  7,  5,  8,  5,  2],\n          [ 1,  8, 11,  6,  8,  4,  3,  6,  5,  8,  8, 10,  4,  2],\n          [ 1,  3,  9, 10,  9,  7, 11,  7,  3,  8,  9,  4,  6,  2],\n          [ 1,  6, 11,  4,  7,  3, 10, 12, 12, 10,  7,  7,  6,  2],\n          [ 1,  6, 12,  6, 12,  3,  8,  9,  8,  5,  4,  7,  9,  2],\n          [ 1, 10, 11,  4,  5,  3,  6,  3,  8, 11, 12,  6, 11,  2],\n          [ 1,  3,  9,  7,  4,  3, 11,  3,  5,  6,  4,  3,  3,  2],\n          [ 1,  6,  9,  4,  7,  5, 11, 12,  3,  9, 12, 11, 10,  2],\n          [ 1,  8,  7,  7, 12,  4,  7,  4, 11, 12, 10,  9,  2,  0],\n          [ 1, 11,  7, 11,  6, 12, 11,  8,  7, 12, 12,  4, 11,  2],\n          [ 1,  4, 12,  9,  5, 12,  3,  7, 12,  3, 10,  5, 12,  2],\n          [ 1,  3, 11,  7, 10, 11, 12,  5,  5,  9,  4,  8, 12,  2],\n          [ 1,  3,  8,  6, 10, 11,  3, 11, 12, 11, 10,  5,  7,  2],\n          [ 1,  8, 12,  5, 10, 10, 12,  5, 12,  8,  4, 10,  3,  2],\n          [ 1,  5,  9,  4, 12,  4,  8,  3,  8,  5,  6, 10,  7,  2],\n          [ 1, 10, 11,  7,  3, 12, 10,  8,  4,  4, 11,  8, 11,  2],\n          [ 1,  9, 12,  5,  9,  7, 12,  6, 12,  8,  3, 12,  4,  2],\n          [ 1,  8, 11,  9,  4, 12,  8,  4,  3,  9,  3,  6,  2,  0],\n          [ 1,  4, 10,  7, 10,  4, 11,  9, 10,  8,  7,  4,  2,  0],\n          [ 1,  5,  9, 12,  7,  3,  8,  6,  5,  8, 12,  4,  9,  2],\n          [ 1,  7, 10, 10,  4,  7,  5, 10,  6,  9,  3,  3,  5,  2],\n          [ 1,  6, 12,  4,  6,  7,  3,  6, 11,  9,  6,  9,  2,  0],\n          [ 1,  3,  9, 11,  7, 10,  6,  6, 12,  9,  4, 11,  3,  2],\n          [ 1,  7,  5, 12, 10, 12, 10,  6,  9, 10,  3,  8,  9,  2],\n          [ 1,  4,  7,  8,  8,  8,  4,  9,  5,  4,  5,  9, 10,  2],\n          [ 1,  6, 10,  3,  6,  6,  4, 12,  7, 11,  6,  8,  2,  0],\n          [ 1,  3,  9,  7,  7,  9,  7, 11,  5, 10, 10,  6,  8,  2],\n          [ 1,  5,  9,  7,  6,  3,  4, 11,  9, 10,  9,  5,  8,  2],\n          [ 1,  8, 10,  5, 11, 11,  5,  5,  9, 10,  6,  3, 11,  2],\n          [ 1,  8,  8,  5, 11,  4,  8,  8, 11, 10, 10,  3,  8,  2],\n          [ 1,  6,  6, 10, 11,  4,  9,  4,  5,  7,  7,  3,  6,  2],\n          [ 1,  6,  3,  6,  7,  3, 11,  7,  8,  7, 12,  5,  4,  2],\n          [ 1,  6,  8,  4,  7,  7,  8,  9,  8,  8, 10,  4,  7,  2],\n          [ 1,  5, 10,  3,  4,  7,  9, 10,  5,  7,  6,  9,  8,  2],\n          [ 1,  6,  4, 12,  5,  7, 11, 11, 11,  5,  5,  6, 12,  2],\n          [ 1,  5, 12,  6,  3, 10,  5,  9,  7, 11,  6,  6,  2,  0],\n          [ 1, 10,  3,  7, 12,  4,  4,  8, 10, 11, 10,  9,  9,  2],\n          [ 1,  6,  8, 10,  8,  8, 10,  4, 10,  7,  6,  9,  2,  0],\n          [ 1,  6, 12,  3,  3,  7,  8,  6,  5,  5, 11,  4,  9,  2],\n          [ 1,  6, 12, 11,  6,  9, 10,  3,  5,  9,  9,  8, 11,  2],\n          [ 1,  6, 11, 12, 11,  5, 10,  5,  5,  4, 12,  8,  7,  2],\n          [ 1,  5, 11,  3,  8,  7,  4,  8,  5, 11,  9,  8, 10,  2],\n          [ 1, 11,  6, 11, 10,  9,  4,  6,  9,  7, 12,  5,  6,  2],\n          [ 1, 10,  8,  3,  6,  5,  5,  7,  3,  7,  3,  4,  7,  2],\n          [ 1,  4,  8, 12,  7,  6, 12, 11,  5,  5,  3,  5,  8,  2]])])"
     },
     "execution_count": 19,
     "metadata": {},
     "output_type": "execute_result"
    }
   ],
   "source": [
    "trainLoader = Data.DataLoader(dataset=traindataset,\n",
    "                              batch_size=64,\n",
    "                              shuffle=True,\n",
    "                              drop_last=True)\n",
    "testLoader = Data.DataLoader(dataset=testdataset,\n",
    "                              batch_size=64,\n",
    "                              shuffle=True,\n",
    "                              drop_last=True)\n",
    "len(trainLoader), next(iter(trainLoader))"
   ],
   "metadata": {
    "collapsed": false,
    "ExecuteTime": {
     "start_time": "2024-02-29T14:41:42.095657Z",
     "end_time": "2024-02-29T14:41:42.174174Z"
    }
   }
  },
  {
   "cell_type": "markdown",
   "source": [
    "# 2. 模型构建"
   ],
   "metadata": {
    "collapsed": false
   }
  },
  {
   "cell_type": "markdown",
   "source": [
    "# a. Encode"
   ],
   "metadata": {
    "collapsed": false
   }
  },
  {
   "cell_type": "code",
   "execution_count": 20,
   "outputs": [],
   "source": [
    "class Encoder(nn.Module):\n",
    "    def __init__(self, encoder_vocab_size, encoder_embedding_dim, encoder_hidden_size):\n",
    "        super().__init__()\n",
    "        self.embedding = nn.Embedding(num_embeddings=encoder_vocab_size, embedding_dim=encoder_embedding_dim)\n",
    "        self.gru = nn.GRU(input_size=encoder_embedding_dim, hidden_size=encoder_hidden_size, batch_first=True)\n",
    "    def forward(self, x):\n",
    "        x = self.embedding(x)\n",
    "        _, encoder_hidden = self.gru(x)\n",
    "        return encoder_hidden"
   ],
   "metadata": {
    "collapsed": false,
    "ExecuteTime": {
     "start_time": "2024-02-29T14:41:43.306145Z",
     "end_time": "2024-02-29T14:41:43.321672Z"
    }
   }
  },
  {
   "cell_type": "markdown",
   "source": [
    "# b. Decode"
   ],
   "metadata": {
    "collapsed": false
   }
  },
  {
   "cell_type": "code",
   "execution_count": 21,
   "outputs": [],
   "source": [
    "class Decoder(nn.Module):\n",
    "    def __init__(self, decoder_vocab_size, decoder_embedding_dim, decoder_hidden_size):\n",
    "        super().__init__()\n",
    "        self.embedding = nn.Embedding(num_embeddings=decoder_vocab_size, embedding_dim=decoder_embedding_dim)\n",
    "        self.gru = nn.GRU(input_size=decoder_embedding_dim, hidden_size=decoder_hidden_size, batch_first=True)\n",
    "    def forward(self, x, hidden):\n",
    "        x = self.embedding(x)\n",
    "        decoder_output, decoder_hidden = self.gru(x, hidden)\n",
    "        return decoder_output, decoder_hidden"
   ],
   "metadata": {
    "collapsed": false,
    "ExecuteTime": {
     "start_time": "2024-02-29T14:41:43.982907Z",
     "end_time": "2024-02-29T14:41:43.998927Z"
    }
   }
  },
  {
   "cell_type": "markdown",
   "source": [
    "# c. Seq2Seq"
   ],
   "metadata": {
    "collapsed": false
   }
  },
  {
   "cell_type": "code",
   "execution_count": 22,
   "outputs": [],
   "source": [
    "class Seq2Seq(nn.Module):\n",
    "    def __init__(self, encoder_vocab_size, encoder_embedding_dim, encoder_hidden_size,\n",
    "                 decoder_vocab_size, decoder_embedding_dim, decoder_hidden_size):\n",
    "        super().__init__()\n",
    "        self.encoder = Encoder(encoder_vocab_size, encoder_embedding_dim, encoder_hidden_size)\n",
    "        self.decoder = Decoder(decoder_vocab_size, decoder_embedding_dim, decoder_hidden_size)\n",
    "        self.fc = nn.Linear(decoder_hidden_size, decoder_vocab_size)\n",
    "    def forward(self, encoder_x, decoder_x):\n",
    "        decoder_input = decoder_x[:, :-1]\n",
    "        encoder_hidden = self.encoder(encoder_x)\n",
    "        decoder_output, _ = self.decoder(decoder_input, encoder_hidden)\n",
    "        out = self.fc(decoder_output)\n",
    "        return out"
   ],
   "metadata": {
    "collapsed": false,
    "ExecuteTime": {
     "start_time": "2024-02-29T14:41:44.681331Z",
     "end_time": "2024-02-29T14:41:44.697360Z"
    }
   }
  },
  {
   "cell_type": "code",
   "execution_count": 23,
   "outputs": [],
   "source": [
    "encoder_embedding_dim = 32\n",
    "encoder_hidden_size = 512\n",
    "decoder_embedding_dim = 32\n",
    "decoder_hidden_size = 512\n",
    "model = Seq2Seq(numVocab_size, encoder_embedding_dim, encoder_hidden_size,\n",
    "                strVocab_size, decoder_embedding_dim, decoder_hidden_size).to(device)"
   ],
   "metadata": {
    "collapsed": false,
    "ExecuteTime": {
     "start_time": "2024-02-29T14:41:45.071785Z",
     "end_time": "2024-02-29T14:41:45.206850Z"
    }
   }
  },
  {
   "cell_type": "code",
   "execution_count": 24,
   "outputs": [
    {
     "data": {
      "text/plain": "Seq2Seq(\n  (encoder): Encoder(\n    (embedding): Embedding(13, 32)\n    (gru): GRU(32, 512, batch_first=True)\n  )\n  (decoder): Decoder(\n    (embedding): Embedding(13, 32)\n    (gru): GRU(32, 512, batch_first=True)\n  )\n  (fc): Linear(in_features=512, out_features=13, bias=True)\n)"
     },
     "execution_count": 24,
     "metadata": {},
     "output_type": "execute_result"
    }
   ],
   "source": [
    "model"
   ],
   "metadata": {
    "collapsed": false,
    "ExecuteTime": {
     "start_time": "2024-02-29T14:41:45.364077Z",
     "end_time": "2024-02-29T14:41:45.379643Z"
    }
   }
  },
  {
   "cell_type": "markdown",
   "source": [
    "# 3. 训练"
   ],
   "metadata": {
    "collapsed": false
   }
  },
  {
   "cell_type": "code",
   "execution_count": 25,
   "outputs": [],
   "source": [
    "def train():\n",
    "    optimizer = torch.optim.Adam(model.parameters(), lr=1e-3)\n",
    "    loss_fun = nn.CrossEntropyLoss()\n",
    "    model.train()\n",
    "    for epoch in range(1):\n",
    "        for step, (x, y) in enumerate(trainLoader):\n",
    "            out = model(x.to(device), y.to(device))\n",
    "            y = y[:, 1:]\n",
    "            loss = loss_fun(out.reshape(-1, out.shape[-1]).to(\"cpu\"), y.reshape(-1).to(\"cpu\"))\n",
    "            loss.backward()\n",
    "            optimizer.step()\n",
    "            optimizer.zero_grad()\n",
    "            if step % 200 == 0:\n",
    "                acc = (out.to(\"cpu\").argmax(dim=2) == y).sum().item() / (len(y) * (maxLength - 1))\n",
    "                print(f\"epoch：{epoch + 1}，step：{step + 1}， 损失：{loss.item()}，准确率：{acc}\")\n",
    "    torch.save(model, \"./seq2seq数字翻译.model\")"
   ],
   "metadata": {
    "collapsed": false,
    "ExecuteTime": {
     "start_time": "2024-02-29T14:41:46.501293Z",
     "end_time": "2024-02-29T14:41:46.516972Z"
    }
   }
  },
  {
   "cell_type": "code",
   "execution_count": 26,
   "outputs": [
    {
     "name": "stdout",
     "output_type": "stream",
     "text": [
      "epoch：1，step：1， 损失：2.5715537071228027，准确率：0.0673076923076923\n",
      "epoch：1，step：201， 损失：0.9391135573387146，准确率：0.6514423076923077\n",
      "epoch：1，step：401， 损失：0.31643038988113403，准确率：0.8978365384615384\n",
      "epoch：1，step：601， 损失：0.11560644209384918，准确率：0.9711538461538461\n"
     ]
    }
   ],
   "source": [
    "train()"
   ],
   "metadata": {
    "collapsed": false,
    "ExecuteTime": {
     "start_time": "2024-02-29T14:41:46.825074Z",
     "end_time": "2024-02-29T14:42:13.710035Z"
    }
   }
  },
  {
   "cell_type": "markdown",
   "source": [
    "# 4. 测试"
   ],
   "metadata": {
    "collapsed": false
   }
  },
  {
   "cell_type": "code",
   "execution_count": 40,
   "outputs": [],
   "source": [
    "@torch.no_grad()\n",
    "def test(dataDf, index, strVocab):\n",
    "    model = torch.load(\"./seq2seq数字翻译.model\").to(\"cpu\")\n",
    "    model.eval()\n",
    "    result = list()\n",
    "    x = torch.Tensor(dataDf.iloc[index][\"numberCode\"]).to(dtype=torch.long)\n",
    "    x = torch.unsqueeze(x, dim=0)\n",
    "    decoder_input = torch.unsqueeze(torch.Tensor([word2index(strVocab, \"<SOS>\")]), dim=0).to(dtype=torch.long)\n",
    "    encoder_hidden = model.encoder(x)\n",
    "    decoder_hidden = encoder_hidden\n",
    "    while True:\n",
    "        decoder_output, decoder_hidden = model.decoder(decoder_input, decoder_hidden)\n",
    "        out = model.fc(decoder_output)\n",
    "        word = index2word(strVocab, torch.argmax(out[0][0]))\n",
    "        result.append(word)\n",
    "        if word == '<EOS>' or len(result) >= maxLength - 2:\n",
    "            break\n",
    "        decoder_input = torch.unsqueeze(torch.Tensor([torch.argmax(out[0][0])]), dim=0).to(dtype=torch.long)\n",
    "    return \"\".join(result)"
   ],
   "metadata": {
    "collapsed": false,
    "ExecuteTime": {
     "start_time": "2024-02-29T14:50:16.563648Z",
     "end_time": "2024-02-29T14:50:16.570601Z"
    }
   }
  },
  {
   "cell_type": "code",
   "execution_count": 45,
   "outputs": [
    {
     "name": "stdout",
     "output_type": "stream",
     "text": [
      "Number：2 3 7 7 8 9 6 6 1 3 3\n",
      "String：二 三 七 七 八 九 六 六 一 三 三\n",
      "预测：二三七七八九六六一三三\n"
     ]
    }
   ],
   "source": [
    "testIndex = 50096\n",
    "preOut = test(df, testIndex, strVocab).replace(\"<SOS>\", \"\").replace(\"<EOS>\", \"\")\n",
    "print(f\"Number：{df.number[testIndex]}\\nString：{df.string[testIndex]}\\n预测：{preOut}\")"
   ],
   "metadata": {
    "collapsed": false,
    "ExecuteTime": {
     "start_time": "2024-02-29T14:51:19.333473Z",
     "end_time": "2024-02-29T14:51:19.367859Z"
    }
   }
  },
  {
   "cell_type": "code",
   "execution_count": null,
   "outputs": [],
   "source": [],
   "metadata": {
    "collapsed": false
   }
  }
 ],
 "metadata": {
  "kernelspec": {
   "name": "pytorchpy39",
   "language": "python",
   "display_name": "pytorchpy39"
  },
  "language_info": {
   "codemirror_mode": {
    "name": "ipython",
    "version": 2
   },
   "file_extension": ".py",
   "mimetype": "text/x-python",
   "name": "python",
   "nbconvert_exporter": "python",
   "pygments_lexer": "ipython2",
   "version": "2.7.6"
  }
 },
 "nbformat": 4,
 "nbformat_minor": 0
}
