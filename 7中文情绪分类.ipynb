{
 "cells": [
  {
   "cell_type": "markdown",
   "source": [
    "# B站：神奇的布欧\n",
    "# 微信：l1243278923"
   ],
   "metadata": {
    "collapsed": false
   }
  },
  {
   "cell_type": "code",
   "execution_count": 1,
   "metadata": {
    "collapsed": true,
    "ExecuteTime": {
     "start_time": "2024-02-27T11:44:23.053230Z",
     "end_time": "2024-02-27T11:44:24.616273Z"
    }
   },
   "outputs": [],
   "source": [
    "import torch\n",
    "import torch.nn as nn\n",
    "import torch.utils.data as Data\n",
    "import numpy as np\n",
    "from sklearn.model_selection import train_test_split\n",
    "import re\n",
    "import jieba\n",
    "from collections import Counter"
   ]
  },
  {
   "cell_type": "markdown",
   "source": [
    "# 0. 判断GPU是否可用"
   ],
   "metadata": {
    "collapsed": false
   }
  },
  {
   "cell_type": "code",
   "execution_count": 2,
   "outputs": [],
   "source": [
    "device = torch.device(\"cuda:0\" if torch.cuda.is_available() else \"cpu\")"
   ],
   "metadata": {
    "collapsed": false,
    "ExecuteTime": {
     "start_time": "2024-02-27T11:44:24.617772Z",
     "end_time": "2024-02-27T11:44:24.646337Z"
    }
   }
  },
  {
   "cell_type": "markdown",
   "source": [
    "# 1. 数据预处理"
   ],
   "metadata": {
    "collapsed": false
   }
  },
  {
   "cell_type": "code",
   "execution_count": 3,
   "outputs": [],
   "source": [
    "# 数据路径\n",
    "dataPath = \"./chineseComment/\"\n",
    "# 路径拼接\n",
    "goodFile = dataPath + \"good.txt\"\n",
    "badFile = dataPath + \"bad.txt\""
   ],
   "metadata": {
    "collapsed": false,
    "ExecuteTime": {
     "start_time": "2024-02-27T11:44:24.647330Z",
     "end_time": "2024-02-27T11:44:24.661928Z"
    }
   }
  },
  {
   "cell_type": "code",
   "execution_count": 4,
   "outputs": [],
   "source": [
    "# 过滤标点符号 函数\n",
    "def filter_punc(sentence):\n",
    "    sentence = re.sub(\"[\\s+\\.\\!\\/_,$%^*(+\\\"\\'“”《》?“]+|[+——！，。？、~@#￥%……&*（）：]+\", \"\", sentence)\n",
    "    return (sentence)"
   ],
   "metadata": {
    "collapsed": false,
    "ExecuteTime": {
     "start_time": "2024-02-27T11:44:24.663322Z",
     "end_time": "2024-02-27T11:44:24.679591Z"
    }
   }
  },
  {
   "cell_type": "code",
   "execution_count": 5,
   "outputs": [],
   "source": [
    "def prepareData(good_file, bad_file, is_filter=True):\n",
    "    all_words = list()\n",
    "    pos_sentences = list()\n",
    "    neg_sentences = list()\n",
    "    with open(good_file, 'r', encoding='utf-8') as f_goog:\n",
    "        for index, line in enumerate(f_goog):\n",
    "            if is_filter:\n",
    "                line = filter_punc(line)\n",
    "            words = jieba.lcut(line)\n",
    "            if len(words) > 0:\n",
    "                all_words += words\n",
    "                pos_sentences.append(words)\n",
    "    print(f\"{good_file}包函{index + 1}条数据, {len(all_words)}个词语。\")\n",
    "    count = len(all_words)\n",
    "    with open(bad_file, 'r', encoding='utf-8') as f_bad:\n",
    "        for index, line in enumerate(f_bad):\n",
    "            if is_filter:\n",
    "                line = filter_punc(line)\n",
    "            words = jieba.lcut(line)\n",
    "            if len(words) > 0:\n",
    "                all_words += words\n",
    "                neg_sentences.append(words)\n",
    "    print(f\"{bad_file}包函{index + 1}条数据, {len(all_words) - count}个词语。\")\n",
    "    diction = dict()\n",
    "    cnt = Counter(all_words)\n",
    "    for word, freq in cnt.items():\n",
    "        diction[word] = [len(diction), freq]\n",
    "    print(\"字典大小：\", len(diction))\n",
    "    return pos_sentences, neg_sentences, diction"
   ],
   "metadata": {
    "collapsed": false,
    "ExecuteTime": {
     "start_time": "2024-02-27T11:44:24.828415Z",
     "end_time": "2024-02-27T11:44:24.854738Z"
    }
   }
  },
  {
   "cell_type": "code",
   "execution_count": 6,
   "outputs": [],
   "source": [
    "# word2index\n",
    "def word2index(word, diction):\n",
    "    if word in diction:\n",
    "        value = diction[word][0]\n",
    "    else:\n",
    "        value = -1\n",
    "    return value\n",
    "\n",
    "\n",
    "# index2word\n",
    "def index2word(index, diction):\n",
    "    for w, v in diction.items():\n",
    "        if v[0] == index:\n",
    "            return w\n",
    "    return None"
   ],
   "metadata": {
    "collapsed": false,
    "ExecuteTime": {
     "start_time": "2024-02-27T11:44:25.099018Z",
     "end_time": "2024-02-27T11:44:25.107463Z"
    }
   }
  },
  {
   "cell_type": "code",
   "execution_count": 7,
   "outputs": [
    {
     "name": "stderr",
     "output_type": "stream",
     "text": [
      "Building prefix dict from the default dictionary ...\n",
      "Loading model from cache C:\\Users\\刘玉昆\\AppData\\Local\\Temp\\jieba.cache\n",
      "Loading model cost 0.310 seconds.\n",
      "Prefix dict has been built successfully.\n"
     ]
    },
    {
     "name": "stdout",
     "output_type": "stream",
     "text": [
      "./chineseComment/good.txt包函8089条数据, 100839个词语。\n",
      "./chineseComment/bad.txt包函5076条数据, 56070个词语。\n",
      "字典大小： 7135\n"
     ]
    },
    {
     "data": {
      "text/plain": "[(1, '---'),\n (1, '------'),\n (1, '000000000'),\n (1, '0000000000000000'),\n (1, '00000000000000000'),\n (1, '0000000000000000000000'),\n (1, '000000000000000000000000000'),\n (1, '00000000000000000000000000000000000000000000000'),\n (1, '1006'),\n (1, '111'),\n (1, '1111111'),\n (1, '11111111111'),\n (1, '11111111111111'),\n (1, '111111111111111111111111'),\n (1, '11111111111111111111111111111'),\n (1, '111111111111111111111111111111111'),\n (1, '1111111111111111111111111111111111111111111'),\n (1, '115'),\n (1, '122'),\n (1, '12315'),\n (1, '123456'),\n (1, '1255888'),\n (1, '128'),\n (1, '130'),\n (1, '136'),\n (1, '138'),\n (1, '15548'),\n (1, '158105'),\n (1, '160'),\n (1, '16067cm'),\n (1, '165140'),\n (1, '165cm'),\n (1, '166cm68kgxl'),\n (1, '16860'),\n (1, '170CM55'),\n (1, '170M'),\n (1, '170cm75kg'),\n (1, '171819202122'),\n (1, '172'),\n (1, '172153'),\n (1, '175cm'),\n (1, '1805'),\n (1, '180xxl'),\n (1, '183'),\n (1, '185'),\n (1, '1852XL'),\n (1, '185XXL'),\n (1, '185mm'),\n (1, '200000000'),\n (1, '20161218'),\n (1, '210'),\n (1, '211'),\n (1, '211111111111111111111111111'),\n (1, '22'),\n (1, '233333'),\n (1, '27'),\n (1, '28'),\n (1, '2XL'),\n (1, '34'),\n (1, '36'),\n (1, '3Q'),\n (1, '3X'),\n (1, '3o'),\n (1, '44'),\n (1, '45'),\n (1, '502'),\n (1, '60'),\n (1, '618'),\n (1, '65665556666666'),\n (1, '66'),\n (1, '666'),\n (1, '666666'),\n (1, '73120'),\n (1, '75'),\n (1, '78'),\n (1, '800'),\n (1, '881860881860881860'),\n (1, '88888888'),\n (1, '89'),\n (1, '91'),\n (1, '924'),\n (1, 'B'),\n (1, 'CARTELO'),\n (1, 'DAORD'),\n (1, 'Daord'),\n (1,\n  'E5B0B1E698AFE5A4A7E4BA86E782B92020202020E58F91E8B4A7E4B99FE5A4AAE685A2202020202020E99E8BE58FAAE883BDE8AFB4E8BF98E58FAFE4BBA5'),\n (1, 'Fashion'),\n (1, 'GG'),\n (1, 'GM'),\n (1, 'GOODGOODGOOD'),\n (1, 'GOODGOODGOODGOOD'),\n (1, 'Itisnotgood'),\n (1, 'KTJF'),\n (1, 'LJ'),\n (1, 'LOGO'),\n (1, 'MLGB'),\n (1, 'MM'),\n (1, 'MiGo'),\n (1, 'NICCE'),\n (1, 'NICE'),\n (1, 'Omega'),\n (1, 'P'),\n (1, 'PLC'),\n (1, 'T1'),\n (1, 'X'),\n (1, 'XP1'),\n (1, 'acute'),\n (1, 'app'),\n (1, 'asdasdas'),\n (1, 'bb'),\n (1, 'bdhdiifjdjdhdhdueiejf'),\n (1, 'bhhbbfdfchh'),\n (1, 'da'),\n (1, 'de'),\n (1, 'dfgsdfgsvdfgsdfgsdf'),\n (1, 'die'),\n (1, 'epsilon'),\n (1, 'fashion'),\n (1, 'gel'),\n (1, 'gggfcvfg'),\n (1, 'gghhhh'),\n (1, 'gsdfgsdfgsdfvdfgsdfgsdfgsdfg'),\n (1, 'hao'),\n (1, 'hhhhh'),\n (1, 'i'),\n (1, 'ing'),\n (1, 'j'),\n (1, 'j8'),\n (1, 'jb'),\n (1, 'jd'),\n (1, 'jia'),\n (1, 'lj'),\n (1, 'lo'),\n (1, 'long'),\n (1, 'mmmmmm'),\n (1, 'n'),\n (1, 'nm'),\n (1, 'okok'),\n (1, 'omega'),\n (1, 'playboy'),\n (1, 'q'),\n (1, 'ri'),\n (1, 's'),\n (1, 'sb'),\n (1, 'sdrgdfsgdfsgdsfgsdfdfff'),\n (1, 'shi'),\n (1, 'si'),\n (1, 'tM'),\n (1, 'thesameasthewhite'),\n (1, 'tmd'),\n (1, 'tryreygjhgjghf'),\n (1, 'u'),\n (1, 'uoyo6'),\n (1, 'vip'),\n (1, 'wo'),\n (1, 'wqnmgb'),\n (1, 'xx'),\n (1, 'xxxL'),\n (1, 'ybb'),\n (1, '|'),\n (1, 'ˊ'),\n (1, 'ˋ'),\n (1, '∵'),\n (1, '≦'),\n (1, '≧'),\n (1, '⑧'),\n (1, '╭'),\n (1, '╮'),\n (1, '一一'),\n (1, '一万个'),\n (1, '一上午'),\n (1, '一不小心'),\n (1, '一个个'),\n (1, '一个包'),\n (1, '一个半月'),\n (1, '一中'),\n (1, '一事'),\n (1, '一二次'),\n (1, '一亮'),\n (1, '一侧'),\n (1, '一出'),\n (1, '一切顺利'),\n (1, '一办'),\n (1, '一包'),\n (1, '一匹'),\n (1, '一口'),\n (1, '一口气'),\n (1, '一向'),\n (1, '一坨'),\n (1, '一夜'),\n (1, '一大堆'),\n (1, '一对'),\n (1, '一巴掌'),\n (1, '一开'),\n (1, '一律'),\n (1, '一心'),\n (1, '一截'),\n (1, '一打'),\n (1, '一批'),\n (1, '一把'),\n (1, '一抹'),\n (1, '一拉'),\n (1, '一换'),\n (1, '一探'),\n (1, '一提'),\n (1, '一晚'),\n (1, '一月'),\n (1, '一有'),\n (1, '一条线'),\n (1, '一架'),\n (1, '一次次'),\n (1, '一段'),\n (1, '一比'),\n (1, '一泡'),\n (1, '一灰一'),\n (1, '一点两点'),\n (1, '一点儿'),\n (1, '一点半点'),\n (1, '一班'),\n (1, '一瓶'),\n (1, '一百'),\n (1, '一百块'),\n (1, '一盆'),\n (1, '一等品'),\n (1, '一肚'),\n (1, '一肚子气'),\n (1, '一肚子火'),\n (1, '一至'),\n (1, '一般化'),\n (1, '一般见识'),\n (1, '一装'),\n (1, '一见钟情'),\n (1, '一觉'),\n (1, '一说'),\n (1, '一货'),\n (1, '七五'),\n (1, '七八天'),\n (1, '七十'),\n (1, '七十八'),\n (1, '七家'),\n (1, '七彩'),\n (1, '七毛'),\n (1, '丅'),\n (1, '万恶'),\n (1, '三三三'),\n (1, '三五十块'),\n (1, '三倍'),\n (1, '三十'),\n (1, '三十五'),\n (1, '三十几块'),\n (1, '三十岁'),\n (1, '三厘米'),\n (1, '三块'),\n (1, '三处'),\n (1, '三无'),\n (1, '三星'),\n (1, '三月份'),\n (1, '三番五次'),\n (1, '三种'),\n (1, '三级'),\n (1, '三道'),\n (1, '上乘'),\n (1, '上亮'),\n (1, '上佳'),\n (1, '上内'),\n (1, '上去'),\n (1, '上吊'),\n (1, '上图'),\n (1, '上天'),\n (1, '上帅帅'),\n (1, '上年'),\n (1, '上来'),\n (1, '上海'),\n (1, '上等货'),\n (1, '上网'),\n (1, '上能'),\n (1, '上课'),\n (1, '上长'),\n (1, '上门'),\n (1, '下不为例'),\n (1, '下会'),\n (1, '下边带'),\n (1, '不久'),\n (1, '不乍样'),\n (1, '不付'),\n (1, '不住'),\n (1, '不作'),\n (1, '不佳'),\n (1, '不俗'),\n (1, '不信'),\n (1, '不值一提'),\n (1, '不值钱'),\n (1, '不全'),\n (1, '不冷脚'),\n (1, '不划算'),\n (1, '不加绒'),\n (1, '不勒脚'),\n (1, '不可多得'),\n (1, '不合格品'),\n (1, '不同于'),\n (1, '不吭声'),\n (1, '不周到'),\n (1, '不和身'),\n (1, '不复'),\n (1, '不够意思'),\n (1, '不大一样'),\n (1, '不太爽'),\n (1, '不失'),\n (1, '不学'),\n (1, '不容'),\n (1, '不寄到'),\n (1, '不对头'),\n (1, '不对板'),\n (1, '不帅'),\n (1, '不带'),\n (1, '不平'),\n (1, '不开'),\n (1, '不得好死'),\n (1, '不忍'),\n (1, '不快'),\n (1, '不怪'),\n (1, '不恳'),\n (1, '不愧'),\n (1, '不愿'),\n (1, '不戴'),\n (1, '不扎人'),\n (1, '不扎肉'),\n (1, '不拉得'),\n (1, '不挤'),\n (1, '不掉'),\n (1, '不搁'),\n (1, '不料'),\n (1, '不易'),\n (1, '不服气'),\n (1, '不杂'),\n (1, '不正'),\n (1, '不比大'),\n (1, '不气'),\n (1, '不满'),\n (1, '不知去向'),\n (1, '不算数'),\n (1, '不素'),\n (1, '不经脏'),\n (1, '不缝'),\n (1, '不耐烦'),\n (1, '不聊'),\n (1, '不脏'),\n (1, '不至于'),\n (1, '不良'),\n (1, '不要紧'),\n (1, '不見'),\n (1, '不见踪影'),\n (1, '不负'),\n (1, '不赖'),\n (1, '不赶'),\n (1, '不足'),\n (1, '不软'),\n (1, '不轻'),\n (1, '不过如此'),\n (1, '不进'),\n (1, '不送'),\n (1, '不适'),\n (1, '不选'),\n (1, '不透'),\n (1, '不配'),\n (1, '不重'),\n (1, '不长不短'),\n (1, '不问'),\n (1, '与众不同'),\n (1, '丑女'),\n (1, '丑好'),\n (1, '丑爆'),\n (1, '丑花'),\n (1, '专用'),\n (1, '专门'),\n (1, '东京'),\n (1, '东哥'),\n (1, '东方不败'),\n (1, '东非'),\n (1, '丝丝'),\n (1, '丝线'),\n (1, '丝绵'),\n (1, '丝袜'),\n (1, '丢人'),\n (1, '丢件'),\n (1, '丢掉'),\n (1, '丢脸'),\n (1, '两三根'),\n (1, '两号'),\n (1, '两周'),\n (1, '两回'),\n (1, '两支'),\n (1, '两月'),\n (1, '两步'),\n (1, '两水'),\n (1, '两种'),\n (1, '两遍'),\n (1, '严密'),\n (1, '严得'),\n (1, '严紧'),\n (1, '严重错误'),\n (1, '个别'),\n (1, '个子'),\n (1, '个把月'),\n (1, '个星'),\n (1, '丫'),\n (1, '中下部'),\n (1, '中到'),\n (1, '中奖'),\n (1, '中差'),\n (1, '中招'),\n (1, '中码'),\n (1, '中肯'),\n (1, '中评'),\n (1, '中途'),\n (1, '中通够'),\n (1, '丰满'),\n (1, '串'),\n (1, '串风'),\n (1, '为之动容'),\n (1, '主'),\n (1, '主体'),\n (1, '主图'),\n (1, '主意'),\n (1, '乃是'),\n (1, '乃至'),\n (1, '久些'),\n (1, '之一'),\n (1, '之余'),\n (1, '之作'),\n (1, '之家'),\n (1, '之慨且'),\n (1, '之气'),\n (1, '之清莲'),\n (1, '之选'),\n (1, '乌龟'),\n (1, '九十块'),\n (1, '九成'),\n (1, '也许'),\n (1, '乡镇'),\n (1, '买一送一'),\n (1, '买不到'),\n (1, '买京'),\n (1, '买会'),\n (1, '买假'),\n (1, '买回去'),\n (1, '买大一'),\n (1, '买太坑'),\n (1, '买方'),\n (1, '买狮港'),\n (1, '买祝'),\n (1, '买药'),\n (1, '买要'),\n (1, '买贵'),\n (1, '乱七八糟'),\n (1, '乱搞'),\n (1, '乱支'),\n (1, '乱放'),\n (1, '了不起'),\n (1, '了解'),\n (1, '争论'),\n (1, '事事如意'),\n (1, '二三十'),\n (1, '二个月'),\n (1, '二十一'),\n (1, '二十元'),\n (1, '二十多天'),\n (1, '二号'),\n (1, '二维'),\n (1, '二维码'),\n (1, '二边'),\n (1, '于'),\n (1, '于仁泰'),\n (1, '于是乎'),\n (1, '亏大'),\n (1, '互相理解'),\n (1, '五件'),\n (1, '五六次'),\n (1, '五十几'),\n (1, '五度'),\n (1, '五心'),\n (1, '五棵星'),\n (1, '五点'),\n (1, '五角星'),\n (1, '些小'),\n (1, '交'),\n (1, '交接处'),\n (1, '交班'),\n (1, '交给'),\n (1, '产品描述'),\n (1, '产生'),\n (1, '京客隆'),\n (1, '京豆京'),\n (1, '亮丽'),\n (1, '亮眼'),\n (1, '亲切'),\n (1, '亲已'),\n (1, '亲戚'),\n (1, '亲肤'),\n (1, '亲自'),\n (1, '亲要'),\n (1, '人一扯'),\n (1, '人为'),\n (1, '人事局'),\n (1, '人人'),\n (1, '人共赏'),\n (1, '人品'),\n (1, '人嘛'),\n (1, '人太差'),\n (1, '人心'),\n (1, '人情'),\n (1, '人格担保'),\n (1, '人生'),\n (1, '人神'),\n (1, '人类'),\n (1, '人群'),\n (1, '人间'),\n (1, '今天上午'),\n (1, '介意'),\n (1, '从未'),\n (1, '从来不'),\n (1, '从此'),\n (1, '从此以后'),\n (1, '从没'),\n (1, '从线'),\n (1, '从购'),\n (1, '从里到外'),\n (1, '仓管'),\n (1, '仔细检查'),\n (1, '付出'),\n (1, '仙人'),\n (1, '代购'),\n (1, '以免'),\n (1, '以及'),\n (1, '以往'),\n (1, '以至'),\n (1, '价一洗'),\n (1, '价不'),\n (1, '价亏'),\n (1, '价吧'),\n (1, '价小贵'),\n (1, '价打个'),\n (1, '价挺值'),\n (1, '价是'),\n (1, '价格下降'),\n (1, '价比高'),\n (1, '价没试'),\n (1, '价穿'),\n (1, '价算'),\n (1, '价线'),\n (1, '价谦'),\n (1, '价鞋'),\n (1, '任些'),\n (1, '仿冒品'),\n (1, '休闲服'),\n (1, '众'),\n (1, '众多'),\n (1, '优惠价'),\n (1, '优惠券'),\n (1, '优赞'),\n (1, '伙'),\n (1, '会先'),\n (1, '会卡脚'),\n (1, '会哈'),\n (1, '会多'),\n (1, '会太花'),\n (1, '会常'),\n (1, '会往'),\n (1, '传不上'),\n (1, '伤太深'),\n (1, '伤透'),\n (1, '伪劣'),\n (1, '伪劣产品'),\n (1, '佈'),\n (1, '位'),\n (1, '低档'),\n (1, '低过'),\n (1, '住手'),\n (1, '体会'),\n (1, '体恤'),\n (1, '体谅'),\n (1, '体贴'),\n (1, '体贴入微'),\n (1, '何来'),\n (1, '何用'),\n (1, '作业'),\n (1, '作用'),\n (1, '你們'),\n (1, '佷'),\n (1, '例如'),\n (1, '供'),\n (1, '供参考'),\n (1, '供货商'),\n (1, '侧边'),\n (1, '侧面'),\n (1, '便易'),\n (1, '便靓'),\n (1, '俗气'),\n (1, '保不'),\n (1, '保养'),\n (1, '保守'),\n (1, '保护'),\n (1, '保温'),\n (1, '保证质量'),\n (1, '保障'),\n (1, '信一星'),\n (1, '信不信'),\n (1, '信不过'),\n (1, '俩个'),\n (1, '修个'),\n (1, '修差'),\n (1, '修没见'),\n (1, '修理'),\n (1, '俯看'),\n (1, '俯首'),\n (1, '俺'),\n (1, '倒大霉'),\n (1, '借'),\n (1, '债任'),\n (1, '值钱'),\n (1, '倾吾之'),\n (1, '假期'),\n (1, '假话'),\n (1, '假鞋'),\n (1, '偏大买'),\n (1, '偏大号'),\n (1, '偏小一星'),\n (1, '偏小一码'),\n (1, '偏小好'),\n (1, '偏小得'),\n (1, '偏小换'),\n (1, '偏小本'),\n (1, '偏小需'),\n (1, '偏棕'),\n (1, '偏短'),\n (1, '偏紧'),\n (1, '偏红'),\n (1, '偏色'),\n (1, '偏贵'),\n (1, '偏高'),\n (1, '做不了'),\n (1, '做个'),\n (1, '做事'),\n (1, '做到'),\n (1, '做广告'),\n (1, '做成'),\n (1, '做错事'),\n (1, '停'),\n (1, '停停'),\n (1, '停好'),\n (1, '停机'),\n (1, '偷工减料'),\n (1, '催单'),\n (1, '儿'),\n (1, '儿响'),\n (1, '元件'),\n (1, '元宵节'),\n (1, '充满'),\n (1, '先买'),\n (1, '先寄'),\n (1, '先放'),\n (1, '先看'),\n (1, '光凭'),\n (1, '光四射'),\n (1, '光料'),\n (1, '光泽'),\n (1, '光面'),\n (1, '克'),\n (1, '免'),\n (1, '免包'),\n (1, '免强'),\n (1, '免得'),\n (1, '免郵費'),\n (1, '党'),\n (1, '入'),\n (1, '入住'),\n (1, '入秋'),\n (1, '全他'),\n (1, '全会'),\n (1, '全开'),\n (1, '全粘在'),\n (1, '全错'),\n (1, '全黑'),\n (1, '八'),\n (1, '八十九'),\n (1, '公'),\n (1, '公交车'),\n (1, '公愤'),\n (1, '公民'),\n (1, '公里'),\n (1, '六'),\n (1, '六个'),\n (1, '六件'),\n (1, '六八'),\n (1, '六天'),\n (1, '六点'),\n (1, '共同'),\n (1, '关怀'),\n (1, '关故'),\n (1, '兴趣'),\n (1, '其'),\n (1, '具体来说'),\n (1, '具备'),\n (1, '内地'),\n (1, '内好'),\n (1, '内存'),\n (1, '内敛'),\n (1, '冇'),\n (1, '再多添'),\n (1, '再寄'),\n (1, '再慢'),\n (1, '再烂'),\n (1, '再者'),\n (1, '再脏'),\n (1, '冒牌货'),\n (1, '冒领'),\n (1, '写全'),\n (1, '冤枉'),\n (1, '冬装'),\n (1, '冰棍'),\n (1, '冲动'),\n (1, '冻僵'),\n (1, '冻成'),\n (1, '准穿'),\n (1, '凌乱'),\n (1, '减价'),\n (1, '减点'),\n (1, '减肥'),\n (1, '凑合着'),\n (1, '凑齐'),\n (1, '几十倍'),\n (1, '几单'),\n (1, '几好'),\n (1, '几成'),\n (1, '几时'),\n (1, '几桶'),\n (1, '几滴'),\n (1, '凡客'),\n (1, '凭良心'),\n (1, '凸点'),\n (1, '出动'),\n (1, '出差'),\n (1, '出库'),\n (1, '出手'),\n (1, '出点'),\n (1, '出线'),\n (1, '分家'),\n (1, '分开'),\n (1, '分袖'),\n (1, '分要'),\n (1, '分赞'),\n (1, '划手'),\n (1, '划破'),\n (1, '刚取'),\n (1, '刚回来'),\n (1, '刚来时'),\n (1, '刚穿'),\n (1, '刚试'),\n (1, '刚购'),\n (1, '删除'),\n (1, '別上當'),\n (1, '別買'),\n (1, '利润'),\n (1, '利润率'),\n (1, '利索'),\n (1, '别个'),\n (1, '别信'),\n (1, '别家'),\n (1, '别总想'),\n (1, '别提'),\n (1, '别问'),\n (1, '刮'),\n (1, '刮花'),\n (1, '到哪去'),\n (1, '到家试'),\n (1, '到底'),\n (1, '到时候'),\n (1, '刷子'),\n (1, '刺痒'),\n (1, '剌'),\n (1, '前两天'),\n (1, '前卫'),\n (1, '前来'),\n (1, '前端'),\n (1, '剩'),\n (1, '剪线'),\n (1, '剪裁'),\n (1, '力到'),\n (1, '力给'),\n (1, '办公室'),\n (1, '办越'),\n (1, '功'),\n (1, '加个'),\n (1, '加件'),\n (1, '加呀'),\n (1, '加大'),\n (1, '加工厂'),\n (1, '加工资'),\n (1, '加有'),\n (1, '加棉'),\n (1, '加点'),\n (1, '加都'),\n (1, '动物'),\n (1, '助人为乐'),\n (1, '劲儿'),\n (1, '劳民伤财'),\n (1, '勉勉强强'),\n (1, '勒'),\n (1, '勒死'),\n (1, '匀称'),\n (1, '包包'),\n (1, '包括'),\n (1, '包身'),\n (1, '化学'),\n (1, '化学品'),\n (1, '化学纤维'),\n (1, '化工原料'),\n (1, '北'),\n (1, '北京'),\n (1, '北方'),\n (1, '区'),\n (1, '医药费'),\n (1, '十'),\n (1, '十一下'),\n (1, '十一分'),\n (1, '十七'),\n (1, '十八号'),\n (1, '十六号'),\n (1, '十几件'),\n (1, '十几公里'),\n (1, '十分钟'),\n (1, '十块钱'),\n (1, '十岁'),\n (1, '十部'),\n (1, '千万千万'),\n (1, '千千万万'),\n (1, '千里'),\n (1, '升'),\n (1, '升起'),\n (1, '半'),\n (1, '半夜三更'),\n (1, '半截'),\n (1, '半袖'),\n (1, '协议'),\n (1, '单一'),\n (1, '单上'),\n (1, '单为'),\n (1, '单价'),\n (1, '单党'),\n (1, '单品'),\n (1, '单坑'),\n (1, '单是'),\n (1, '单词'),\n (1, '单调'),\n (1, '单鞋'),\n (1, '卖出'),\n (1, '卖出去'),\n (1, '卖到'),\n (1, '卖无语'),\n (1, '卖货'),\n (1, '卖鞋'),\n (1, '南京'),\n (1, '南北'),\n (1, '南宁'),\n (1, '占便宜'),\n (1, '卡住'),\n (1, '卡帝'),\n (1, '卡拉'),\n (1, '卡片'),\n (1, '卫衣款'),\n (1, '印个'),\n (1, '印完'),\n (1, '印洗'),\n (1, '印渍'),\n (1, '印痕'),\n (1, '印纹'),\n (1, '印象'),\n (1, '即'),\n (1, '即使'),\n (1, '即刻'),\n (1, '厂商'),\n (1, '厂服'),\n (1, '历经'),\n (1, '压成'),\n (1, '压脚'),\n (1, '压迫感'),\n (1, '厕所'),\n (1, '厚厚的'),\n (1, '厚够'),\n (1, '原先'),\n (1, '原则'),\n (1, '原本'),\n (1, '厲害'),\n (1, '参加'),\n (1, '又糙'),\n (1, '叉口'),\n (1, '及其'),\n (1, '友友'),\n (1, '双卡'),\n (1, '双板'),\n (1, '双白鞋'),\n (1, '双肩'),\n (1, '反博'),\n (1, '反映'),\n (1, '反馈'),\n (1, '发图片'),\n (1, '发挥'),\n (1, '发毛'),\n (1, '发汗'),\n (1, '发火'),\n (1, '发痒'),\n (1, '发硬'),\n (1, '发索'),\n (1, '发贷'),\n (1, '发顺丰'),\n (1, '取出'),\n (1, '取取'),\n (1, '取回来'),\n (1, '取笑'),\n (1, '受害者'),\n (1, '受得了'),\n (1, '受欢迎'),\n (1, '受骗'),\n (1, '变大'),\n (1, '变大码'),\n (1, '变红'),\n (1, '变通'),\n (1, '变长'),\n (1, '口'),\n (1, '口口'),\n (1, '口气'),\n (1, '口罩'),\n (1, '句句'),\n (1, '另一边'),\n (1, '只前'),\n (1, '只发'),\n (1, '只用'),\n (1, '只能靠'),\n (1, '只顾'),\n (1, '叫花子'),\n (1, '叮'),\n (1, '可不'),\n (1, '可不可以'),\n (1, '可可'),\n (1, '可帅'),\n (1, '可怜'),\n (1, '可气'),\n (1, '可算松'),\n (1, '可累'),\n (1, '可谓'),\n (1, '台布'),\n (1, '史无前例'),\n (1, '右肩'),\n (1, '叽'),\n (1, '吃不下'),\n (1, '各位朋友'),\n (1, '各大'),\n (1, '各庄'),\n (1, '各来'),\n (1, '合算'),\n (1, '吉利'),\n (1, '吉林省'),\n (1, '吊儿郎当'),\n (1, '吊及'),\n (1, '吊草'),\n (1, '同'),\n (1, '同前'),\n (1, '同码'),\n (1, '名字'),\n (1, '名牌'),\n (1, '名符其实'),\n (1, '后会'),\n (1, '后发'),\n (1, '后期'),\n (1, '后果'),\n (1, '后边'),\n (1, '后退'),\n (1, '后门'),\n (1, '吐'),\n (1, '吐血'),\n (1, '吓死'),\n (1, '吓死人'),\n (1, '否定词'),\n (1, '否认'),\n (1, '含'),\n (1, '含量'),\n (1, '听君'),\n (1, '听说'),\n (1, '吱声'),\n (1, '吵'),\n (1, '吵吵'),\n (1, '吸毛刚'),\n (1, '吸水'),\n (1, '吸灰'),\n (1, '吹牛'),\n (1, '告知'),\n (1, '员到'),\n (1, '员吵'),\n (1, '员多'),\n (1, '员太度'),\n ...]"
     },
     "execution_count": 7,
     "metadata": {},
     "output_type": "execute_result"
    }
   ],
   "source": [
    "pos_sentences, neg_sentences, diction = prepareData(goodFile, badFile, True)\n",
    "st = sorted([(v[1], w) for w, v in diction.items()])\n",
    "st"
   ],
   "metadata": {
    "collapsed": false,
    "ExecuteTime": {
     "start_time": "2024-02-27T11:44:25.490870Z",
     "end_time": "2024-02-27T11:44:26.540331Z"
    }
   }
  },
  {
   "cell_type": "code",
   "execution_count": 8,
   "outputs": [],
   "source": [
    "def sentence2vec(sentence, diction):\n",
    "    vector = np.zeros(len(diction))\n",
    "    for l in sentence:\n",
    "        vector[l] += 1\n",
    "    return (1.0 * vector / len(sentence))"
   ],
   "metadata": {
    "collapsed": false,
    "ExecuteTime": {
     "start_time": "2024-02-27T11:46:57.019538Z",
     "end_time": "2024-02-27T11:46:57.036748Z"
    }
   }
  },
  {
   "cell_type": "code",
   "execution_count": 9,
   "outputs": [],
   "source": [
    "dataset = list()\n",
    "labels = list()\n",
    "sentences = list()\n",
    "for sentence in pos_sentences:\n",
    "    new_sentence = list()\n",
    "    for pos_word in sentence:\n",
    "        if pos_word in diction:\n",
    "            new_sentence.append(word2index(pos_word, diction))\n",
    "    dataset.append(sentence2vec(new_sentence, diction))\n",
    "    labels.append(0)\n",
    "    sentences.append(sentence)\n",
    "for sentence in neg_sentences:\n",
    "    new_sentence = list()\n",
    "    for neg_word in sentence:\n",
    "        if neg_word in diction:\n",
    "            new_sentence.append(word2index(neg_word, diction))\n",
    "    dataset.append(sentence2vec(new_sentence, diction))\n",
    "    labels.append(1)\n",
    "    sentences.append(sentence)"
   ],
   "metadata": {
    "collapsed": false,
    "ExecuteTime": {
     "start_time": "2024-02-27T11:50:56.631609Z",
     "end_time": "2024-02-27T11:50:56.957415Z"
    }
   }
  },
  {
   "cell_type": "code",
   "execution_count": 10,
   "outputs": [],
   "source": [
    "# 数据集划分\n",
    "X_train, X_test, y_train, y_test = train_test_split(dataset, labels, test_size=0.1, random_state=56)"
   ],
   "metadata": {
    "collapsed": false,
    "ExecuteTime": {
     "start_time": "2024-02-27T11:51:37.200334Z",
     "end_time": "2024-02-27T11:51:37.206794Z"
    }
   }
  },
  {
   "cell_type": "code",
   "execution_count": 12,
   "outputs": [
    {
     "name": "stderr",
     "output_type": "stream",
     "text": [
      "C:\\Users\\刘玉昆\\AppData\\Local\\Temp\\ipykernel_18100\\4121539453.py:2: UserWarning: Creating a tensor from a list of numpy.ndarrays is extremely slow. Please consider converting the list to a single numpy.ndarray with numpy.array() before converting to a tensor. (Triggered internally at C:\\actions-runner\\_work\\pytorch\\pytorch\\builder\\windows\\pytorch\\torch\\csrc\\utils\\tensor_new.cpp:264.)\n",
      "  train_xt = torch.Tensor(X_train).to(dtype=torch.float32)\n"
     ]
    }
   ],
   "source": [
    "# 转换为张量\n",
    "train_xt = torch.Tensor(X_train).to(dtype=torch.float32)\n",
    "train_yt = torch.Tensor(y_train).to(dtype=torch.long)\n",
    "test_xt = torch.Tensor(X_test).to(dtype=torch.float32)\n",
    "test_yt = torch.Tensor(y_test).to(dtype=torch.long)"
   ],
   "metadata": {
    "collapsed": false,
    "ExecuteTime": {
     "start_time": "2024-02-27T11:53:26.605892Z",
     "end_time": "2024-02-27T11:53:27.134366Z"
    }
   }
  },
  {
   "cell_type": "code",
   "execution_count": 15,
   "outputs": [],
   "source": [
    "# 数据集加载器\n",
    "train_data = Data.TensorDataset(train_xt, train_yt)"
   ],
   "metadata": {
    "collapsed": false,
    "ExecuteTime": {
     "start_time": "2024-02-27T11:54:07.206716Z",
     "end_time": "2024-02-27T11:54:07.222482Z"
    }
   }
  },
  {
   "cell_type": "code",
   "execution_count": 16,
   "outputs": [],
   "source": [
    "train_loader = Data.DataLoader(dataset=train_data,\n",
    "                               batch_size=32,\n",
    "                               shuffle=True,\n",
    "                               drop_last=True)"
   ],
   "metadata": {
    "collapsed": false,
    "ExecuteTime": {
     "start_time": "2024-02-27T11:54:19.238411Z",
     "end_time": "2024-02-27T11:54:19.270416Z"
    }
   }
  },
  {
   "cell_type": "markdown",
   "source": [
    "# 2. 搭建网络模型"
   ],
   "metadata": {
    "collapsed": false
   }
  },
  {
   "cell_type": "code",
   "execution_count": 17,
   "outputs": [],
   "source": [
    "class Model(nn.Module):\n",
    "    def __init__(self):\n",
    "        super().__init__()\n",
    "        self.fc = nn.Sequential(\n",
    "            nn.Linear(len(diction), 16),\n",
    "            nn.ReLU(),\n",
    "            nn.Linear(16, 32),\n",
    "            nn.ReLU(),\n",
    "            nn.Linear(32, 2),\n",
    "            nn.Softmax(dim=1)\n",
    "        )\n",
    "    def forward(self, x):\n",
    "        return self.fc(x)"
   ],
   "metadata": {
    "collapsed": false,
    "ExecuteTime": {
     "start_time": "2024-02-27T11:56:56.487323Z",
     "end_time": "2024-02-27T11:56:56.496759Z"
    }
   }
  },
  {
   "cell_type": "code",
   "execution_count": 18,
   "outputs": [],
   "source": [
    "model = Model().to(device)"
   ],
   "metadata": {
    "collapsed": false,
    "ExecuteTime": {
     "start_time": "2024-02-27T11:57:07.800054Z",
     "end_time": "2024-02-27T11:57:07.866396Z"
    }
   }
  },
  {
   "cell_type": "code",
   "execution_count": 19,
   "outputs": [
    {
     "data": {
      "text/plain": "Model(\n  (fc): Sequential(\n    (0): Linear(in_features=7135, out_features=16, bias=True)\n    (1): ReLU()\n    (2): Linear(in_features=16, out_features=32, bias=True)\n    (3): ReLU()\n    (4): Linear(in_features=32, out_features=2, bias=True)\n    (5): Softmax(dim=1)\n  )\n)"
     },
     "execution_count": 19,
     "metadata": {},
     "output_type": "execute_result"
    }
   ],
   "source": [
    "model"
   ],
   "metadata": {
    "collapsed": false,
    "ExecuteTime": {
     "start_time": "2024-02-27T11:57:10.014444Z",
     "end_time": "2024-02-27T11:57:10.031826Z"
    }
   }
  },
  {
   "cell_type": "markdown",
   "source": [
    "# 3. 训练"
   ],
   "metadata": {
    "collapsed": false
   }
  },
  {
   "cell_type": "code",
   "execution_count": 20,
   "outputs": [],
   "source": [
    "def train():\n",
    "    optimizer = torch.optim.Adam(model.parameters(), lr=1e-4)\n",
    "    loss_fun = nn.CrossEntropyLoss()\n",
    "    model.train()\n",
    "    for epoch in range(10):\n",
    "        for step, (x, y) in enumerate(train_data):\n",
    "            out = model(torch.unsqueeze(x,dim=0).to(device))\n",
    "            loss = loss_fun(torch.squeeze(out.to(\"cpu\")), y)\n",
    "            loss.backward()\n",
    "            optimizer.step()\n",
    "            optimizer.zero_grad()\n",
    "        if epoch % 1 == 0:\n",
    "            print(f\"epoch:{epoch}, 损失：{loss.item()}\")\n",
    "    torch.save(model, \"./7.中文情绪分类.model\")"
   ],
   "metadata": {
    "collapsed": false,
    "ExecuteTime": {
     "start_time": "2024-02-27T11:59:26.840073Z",
     "end_time": "2024-02-27T11:59:26.869358Z"
    }
   }
  },
  {
   "cell_type": "code",
   "execution_count": 21,
   "outputs": [
    {
     "name": "stdout",
     "output_type": "stream",
     "text": [
      "epoch:0, 损失：0.34375816583633423\n",
      "epoch:1, 损失：0.314322829246521\n",
      "epoch:2, 损失：0.31333956122398376\n",
      "epoch:3, 损失：0.3132733404636383\n",
      "epoch:4, 损失：0.31326383352279663\n",
      "epoch:5, 损失：0.3132621645927429\n",
      "epoch:6, 损失：0.31326183676719666\n",
      "epoch:7, 损失：0.3132617473602295\n",
      "epoch:8, 损失：0.31326165795326233\n",
      "epoch:9, 损失：0.31326165795326233\n"
     ]
    }
   ],
   "source": [
    "train()"
   ],
   "metadata": {
    "collapsed": false,
    "ExecuteTime": {
     "start_time": "2024-02-27T11:59:38.743384Z",
     "end_time": "2024-02-27T12:01:36.635346Z"
    }
   }
  },
  {
   "cell_type": "code",
   "execution_count": 22,
   "outputs": [],
   "source": [
    "@torch.no_grad()\n",
    "def test(test_xt):\n",
    "    model = torch.load(\"./7.中文情绪分类.model\").to(\"cpu\")\n",
    "    model.eval()\n",
    "    out = model(test_xt)\n",
    "    return out"
   ],
   "metadata": {
    "collapsed": false,
    "ExecuteTime": {
     "start_time": "2024-02-27T12:01:49.980434Z",
     "end_time": "2024-02-27T12:01:49.995552Z"
    }
   }
  },
  {
   "cell_type": "code",
   "execution_count": 23,
   "outputs": [],
   "source": [
    "predit = test(test_xt)"
   ],
   "metadata": {
    "collapsed": false,
    "ExecuteTime": {
     "start_time": "2024-02-27T12:01:50.712034Z",
     "end_time": "2024-02-27T12:01:50.732432Z"
    }
   }
  },
  {
   "cell_type": "code",
   "execution_count": 24,
   "outputs": [
    {
     "name": "stdout",
     "output_type": "stream",
     "text": [
      "准确率：0.9118098159509203\n"
     ]
    }
   ],
   "source": [
    "countTrue = 0\n",
    "for i in range(len(test_yt)):\n",
    "    if torch.argmax(predit[i]) == test_yt[i]:\n",
    "        countTrue += 1\n",
    "print(\"准确率：\" + str(countTrue / len(test_yt)))"
   ],
   "metadata": {
    "collapsed": false,
    "ExecuteTime": {
     "start_time": "2024-02-27T12:03:19.693321Z",
     "end_time": "2024-02-27T12:03:19.712728Z"
    }
   }
  },
  {
   "cell_type": "code",
   "execution_count": null,
   "outputs": [],
   "source": [],
   "metadata": {
    "collapsed": false
   }
  }
 ],
 "metadata": {
  "kernelspec": {
   "name": "pytorchpy39",
   "language": "python",
   "display_name": "pytorchpy39"
  },
  "language_info": {
   "codemirror_mode": {
    "name": "ipython",
    "version": 2
   },
   "file_extension": ".py",
   "mimetype": "text/x-python",
   "name": "python",
   "nbconvert_exporter": "python",
   "pygments_lexer": "ipython2",
   "version": "2.7.6"
  }
 },
 "nbformat": 4,
 "nbformat_minor": 0
}
