{
 "cells": [
  {
   "cell_type": "markdown",
   "source": [
    "# B站：神奇的布欧\n",
    "# 微信：l1243278923"
   ],
   "metadata": {
    "collapsed": false
   }
  },
  {
   "cell_type": "code",
   "execution_count": 1,
   "metadata": {
    "collapsed": true,
    "ExecuteTime": {
     "start_time": "2024-02-26T13:02:34.999319Z",
     "end_time": "2024-02-26T13:02:37.631636Z"
    }
   },
   "outputs": [],
   "source": [
    "import torch"
   ]
  },
  {
   "cell_type": "markdown",
   "source": [
    "# 判断GPU是否可用"
   ],
   "metadata": {
    "collapsed": false
   }
  },
  {
   "cell_type": "code",
   "execution_count": 2,
   "outputs": [
    {
     "data": {
      "text/plain": "True"
     },
     "execution_count": 2,
     "metadata": {},
     "output_type": "execute_result"
    }
   ],
   "source": [
    "torch.cuda.is_available()"
   ],
   "metadata": {
    "collapsed": false,
    "ExecuteTime": {
     "start_time": "2024-02-26T13:02:37.631636Z",
     "end_time": "2024-02-26T13:02:37.710201Z"
    }
   }
  },
  {
   "cell_type": "markdown",
   "source": [
    "# 张量"
   ],
   "metadata": {
    "collapsed": false
   }
  },
  {
   "cell_type": "markdown",
   "source": [
    "# 默认类型float32"
   ],
   "metadata": {
    "collapsed": false
   }
  },
  {
   "cell_type": "code",
   "execution_count": 3,
   "outputs": [
    {
     "name": "stdout",
     "output_type": "stream",
     "text": [
      "torch.float32\n"
     ]
    }
   ],
   "source": [
    "tensor1 = torch.Tensor(5)\n",
    "print(tensor1.dtype)"
   ],
   "metadata": {
    "collapsed": false,
    "ExecuteTime": {
     "start_time": "2024-02-26T13:02:37.710201Z",
     "end_time": "2024-02-26T13:02:37.725837Z"
    }
   }
  },
  {
   "cell_type": "markdown",
   "source": [
    "# 更改张量默认类型"
   ],
   "metadata": {
    "collapsed": false
   }
  },
  {
   "cell_type": "code",
   "execution_count": 4,
   "outputs": [
    {
     "name": "stderr",
     "output_type": "stream",
     "text": [
      "D:\\software_code\\Anaconda\\envs\\pytorchpy39\\lib\\site-packages\\torch\\__init__.py:614: UserWarning: torch.set_default_tensor_type() is deprecated as of PyTorch 2.1, please use torch.set_default_dtype() and torch.set_default_device() as alternatives. (Triggered internally at C:\\actions-runner\\_work\\pytorch\\pytorch\\builder\\windows\\pytorch\\torch\\csrc\\tensor\\python_tensor.cpp:453.)\n",
      "  _C._set_default_tensor_type(t)\n"
     ]
    }
   ],
   "source": [
    "torch.set_default_tensor_type(torch.FloatTensor)"
   ],
   "metadata": {
    "collapsed": false,
    "ExecuteTime": {
     "start_time": "2024-02-26T13:02:37.725837Z",
     "end_time": "2024-02-26T13:02:37.803889Z"
    }
   }
  },
  {
   "cell_type": "markdown",
   "source": [
    "# 获取默认数据类型"
   ],
   "metadata": {
    "collapsed": false
   }
  },
  {
   "cell_type": "code",
   "execution_count": 5,
   "outputs": [
    {
     "data": {
      "text/plain": "torch.float32"
     },
     "execution_count": 5,
     "metadata": {},
     "output_type": "execute_result"
    }
   ],
   "source": [
    "torch.get_default_dtype()"
   ],
   "metadata": {
    "collapsed": false,
    "ExecuteTime": {
     "start_time": "2024-02-26T13:02:37.741509Z",
     "end_time": "2024-02-26T13:02:37.819587Z"
    }
   }
  },
  {
   "cell_type": "markdown",
   "source": [
    "# 初始化张量"
   ],
   "metadata": {
    "collapsed": false
   }
  },
  {
   "cell_type": "code",
   "execution_count": 6,
   "outputs": [
    {
     "name": "stdout",
     "output_type": "stream",
     "text": [
      "tensor([[1., 2.],\n",
      "        [3., 4.]])\n"
     ]
    }
   ],
   "source": [
    "tensor2 = torch.Tensor([[1, 2], [3, 4]])\n",
    "print(tensor2)"
   ],
   "metadata": {
    "collapsed": false,
    "ExecuteTime": {
     "start_time": "2024-02-26T13:02:37.757083Z",
     "end_time": "2024-02-26T13:02:37.819587Z"
    }
   }
  },
  {
   "cell_type": "markdown",
   "source": [
    "# 通个传入数组初始化张量"
   ],
   "metadata": {
    "collapsed": false
   }
  },
  {
   "cell_type": "code",
   "execution_count": 7,
   "outputs": [],
   "source": [
    "import numpy as np"
   ],
   "metadata": {
    "collapsed": false,
    "ExecuteTime": {
     "start_time": "2024-02-26T13:02:37.803889Z",
     "end_time": "2024-02-26T13:02:37.823017Z"
    }
   }
  },
  {
   "cell_type": "code",
   "execution_count": 8,
   "outputs": [],
   "source": [
    "array = np.array([[5, 6], [7, 8]])"
   ],
   "metadata": {
    "collapsed": false,
    "ExecuteTime": {
     "start_time": "2024-02-26T13:02:37.823017Z",
     "end_time": "2024-02-26T13:02:37.885583Z"
    }
   }
  },
  {
   "cell_type": "code",
   "execution_count": 9,
   "outputs": [],
   "source": [
    "tensor3 = torch.Tensor(array)"
   ],
   "metadata": {
    "collapsed": false,
    "ExecuteTime": {
     "start_time": "2024-02-26T13:02:37.838652Z",
     "end_time": "2024-02-26T13:02:37.932903Z"
    }
   }
  },
  {
   "cell_type": "code",
   "execution_count": 10,
   "outputs": [
    {
     "name": "stdout",
     "output_type": "stream",
     "text": [
      "tensor([[5., 6.],\n",
      "        [7., 8.]])\n"
     ]
    }
   ],
   "source": [
    "print(tensor3)"
   ],
   "metadata": {
    "collapsed": false,
    "ExecuteTime": {
     "start_time": "2024-02-26T13:02:37.854275Z",
     "end_time": "2024-02-26T13:02:37.932903Z"
    }
   }
  },
  {
   "cell_type": "markdown",
   "source": [
    "# 按类型初始化"
   ],
   "metadata": {
    "collapsed": false
   }
  },
  {
   "cell_type": "code",
   "execution_count": 11,
   "outputs": [],
   "source": [
    "tensor1 = torch.DoubleTensor([2])\n",
    "tensor2 = torch.IntTensor([4])"
   ],
   "metadata": {
    "collapsed": false,
    "ExecuteTime": {
     "start_time": "2024-02-26T13:02:37.869899Z",
     "end_time": "2024-02-26T13:02:37.932903Z"
    }
   }
  },
  {
   "cell_type": "code",
   "execution_count": 12,
   "outputs": [
    {
     "name": "stdout",
     "output_type": "stream",
     "text": [
      "tensor([2.], dtype=torch.float64)\n"
     ]
    }
   ],
   "source": [
    "print(tensor1)"
   ],
   "metadata": {
    "collapsed": false,
    "ExecuteTime": {
     "start_time": "2024-02-26T13:02:37.885583Z",
     "end_time": "2024-02-26T13:02:37.949790Z"
    }
   }
  },
  {
   "cell_type": "code",
   "execution_count": 13,
   "outputs": [
    {
     "name": "stdout",
     "output_type": "stream",
     "text": [
      "tensor([4], dtype=torch.int32)\n"
     ]
    }
   ],
   "source": [
    "print(tensor2)"
   ],
   "metadata": {
    "collapsed": false,
    "ExecuteTime": {
     "start_time": "2024-02-26T13:02:37.904152Z",
     "end_time": "2024-02-26T13:02:37.995620Z"
    }
   }
  },
  {
   "cell_type": "markdown",
   "source": [
    "# 构造全0全1张量"
   ],
   "metadata": {
    "collapsed": false
   }
  },
  {
   "cell_type": "code",
   "execution_count": 14,
   "outputs": [],
   "source": [
    "zeroTensor = torch.zeros([3, 6], dtype=torch.float32)"
   ],
   "metadata": {
    "collapsed": false,
    "ExecuteTime": {
     "start_time": "2024-02-26T13:02:37.917215Z",
     "end_time": "2024-02-26T13:02:38.004134Z"
    }
   }
  },
  {
   "cell_type": "code",
   "execution_count": 15,
   "outputs": [
    {
     "name": "stdout",
     "output_type": "stream",
     "text": [
      "tensor([[0., 0., 0., 0., 0., 0.],\n",
      "        [0., 0., 0., 0., 0., 0.],\n",
      "        [0., 0., 0., 0., 0., 0.]])\n"
     ]
    }
   ],
   "source": [
    "print(zeroTensor)"
   ],
   "metadata": {
    "collapsed": false,
    "ExecuteTime": {
     "start_time": "2024-02-26T13:02:37.932903Z",
     "end_time": "2024-02-26T13:02:38.011707Z"
    }
   }
  },
  {
   "cell_type": "code",
   "execution_count": 16,
   "outputs": [
    {
     "data": {
      "text/plain": "tensor([[0., 0., 0., 0., 0., 0.],\n        [0., 0., 0., 0., 0., 0.],\n        [0., 0., 0., 0., 0., 0.]])"
     },
     "execution_count": 16,
     "metadata": {},
     "output_type": "execute_result"
    }
   ],
   "source": [
    "zeroTensor"
   ],
   "metadata": {
    "collapsed": false,
    "ExecuteTime": {
     "start_time": "2024-02-26T13:02:37.949790Z",
     "end_time": "2024-02-26T13:02:38.011707Z"
    }
   }
  },
  {
   "cell_type": "code",
   "execution_count": 17,
   "outputs": [
    {
     "name": "stdout",
     "output_type": "stream",
     "text": [
      "<class 'torch.Tensor'>\n"
     ]
    }
   ],
   "source": [
    "print(type(zeroTensor[0]))"
   ],
   "metadata": {
    "collapsed": false,
    "ExecuteTime": {
     "start_time": "2024-02-26T13:02:37.964302Z",
     "end_time": "2024-02-26T13:02:38.011707Z"
    }
   }
  },
  {
   "cell_type": "code",
   "execution_count": 18,
   "outputs": [],
   "source": [
    "oneTensor = torch.ones([3, 6], dtype=torch.int32)"
   ],
   "metadata": {
    "collapsed": false,
    "ExecuteTime": {
     "start_time": "2024-02-26T13:02:37.979938Z",
     "end_time": "2024-02-26T13:02:38.011707Z"
    }
   }
  },
  {
   "cell_type": "code",
   "execution_count": 19,
   "outputs": [
    {
     "data": {
      "text/plain": "tensor([[1, 1, 1, 1, 1, 1],\n        [1, 1, 1, 1, 1, 1],\n        [1, 1, 1, 1, 1, 1]], dtype=torch.int32)"
     },
     "execution_count": 19,
     "metadata": {},
     "output_type": "execute_result"
    }
   ],
   "source": [
    "oneTensor"
   ],
   "metadata": {
    "collapsed": false,
    "ExecuteTime": {
     "start_time": "2024-02-26T13:02:37.995620Z",
     "end_time": "2024-02-26T13:02:38.011707Z"
    }
   }
  },
  {
   "cell_type": "markdown",
   "source": [
    "# 创建相同大小的全0张量"
   ],
   "metadata": {
    "collapsed": false
   }
  },
  {
   "cell_type": "code",
   "execution_count": 20,
   "outputs": [
    {
     "name": "stdout",
     "output_type": "stream",
     "text": [
      "tensor([[1., 2., 3.],\n",
      "        [4., 5., 6.]])\n"
     ]
    }
   ],
   "source": [
    "tensor1 = torch.Tensor([[1, 2, 3], [4, 5, 6]])\n",
    "linkzero = torch.zeros_like(tensor1)\n",
    "print(tensor1)"
   ],
   "metadata": {
    "collapsed": false,
    "ExecuteTime": {
     "start_time": "2024-02-26T13:02:38.180575Z",
     "end_time": "2024-02-26T13:02:38.204700Z"
    }
   }
  },
  {
   "cell_type": "code",
   "execution_count": 21,
   "outputs": [
    {
     "name": "stdout",
     "output_type": "stream",
     "text": [
      "tensor([[0., 0., 0.],\n",
      "        [0., 0., 0.]])\n"
     ]
    }
   ],
   "source": [
    "print(linkzero)"
   ],
   "metadata": {
    "collapsed": false,
    "ExecuteTime": {
     "start_time": "2024-02-26T13:02:38.481228Z",
     "end_time": "2024-02-26T13:02:38.512976Z"
    }
   }
  },
  {
   "cell_type": "markdown",
   "source": [
    "# 生成同纬度随机张量"
   ],
   "metadata": {
    "collapsed": false
   }
  },
  {
   "cell_type": "code",
   "execution_count": 22,
   "outputs": [],
   "source": [
    "tensor1 = torch.Tensor([[1, 2, 3], [4, 5, 6]])\n",
    "randtensor = torch.rand_like(tensor1)"
   ],
   "metadata": {
    "collapsed": false,
    "ExecuteTime": {
     "start_time": "2024-02-26T13:02:38.850090Z",
     "end_time": "2024-02-26T13:02:38.865657Z"
    }
   }
  },
  {
   "cell_type": "code",
   "execution_count": 23,
   "outputs": [
    {
     "name": "stdout",
     "output_type": "stream",
     "text": [
      "tensor([[0.8637, 0.9292, 0.0826],\n",
      "        [0.9570, 0.1293, 0.6126]])\n"
     ]
    }
   ],
   "source": [
    "print(randtensor)"
   ],
   "metadata": {
    "collapsed": false,
    "ExecuteTime": {
     "start_time": "2024-02-26T13:02:39.215333Z",
     "end_time": "2024-02-26T13:02:39.246637Z"
    }
   }
  },
  {
   "cell_type": "markdown",
   "source": [
    "# 自定义值填充"
   ],
   "metadata": {
    "collapsed": false
   }
  },
  {
   "cell_type": "code",
   "execution_count": 24,
   "outputs": [
    {
     "name": "stdout",
     "output_type": "stream",
     "text": [
      "tensor([[8., 8., 8.],\n",
      "        [8., 8., 8.],\n",
      "        [8., 8., 8.]])\n"
     ]
    }
   ],
   "source": [
    "newfull = tensor1.new_full((3, 3), fill_value=8)\n",
    "print(newfull)"
   ],
   "metadata": {
    "collapsed": false,
    "ExecuteTime": {
     "start_time": "2024-02-26T13:02:39.709794Z",
     "end_time": "2024-02-26T13:02:39.709969Z"
    }
   }
  },
  {
   "cell_type": "code",
   "execution_count": 25,
   "outputs": [
    {
     "name": "stdout",
     "output_type": "stream",
     "text": [
      "tensor([[0., 0., 0.],\n",
      "        [0., 0., 0.],\n",
      "        [0., 0., 0.]])\n"
     ]
    }
   ],
   "source": [
    "newzero = tensor1.new_zeros((3, 3))\n",
    "print(newzero)"
   ],
   "metadata": {
    "collapsed": false,
    "ExecuteTime": {
     "start_time": "2024-02-26T13:02:39.851259Z",
     "end_time": "2024-02-26T13:02:39.866875Z"
    }
   }
  },
  {
   "cell_type": "markdown",
   "source": [
    "# 张量的类型转换"
   ],
   "metadata": {
    "collapsed": false
   }
  },
  {
   "cell_type": "code",
   "execution_count": 26,
   "outputs": [
    {
     "name": "stdout",
     "output_type": "stream",
     "text": [
      "torch.float32\n"
     ]
    }
   ],
   "source": [
    "tensor1 = torch.Tensor([1, 2, 3])\n",
    "print(tensor1.dtype)"
   ],
   "metadata": {
    "collapsed": false,
    "ExecuteTime": {
     "start_time": "2024-02-26T13:02:40.441863Z",
     "end_time": "2024-02-26T13:02:40.457539Z"
    }
   }
  },
  {
   "cell_type": "code",
   "execution_count": 27,
   "outputs": [
    {
     "name": "stdout",
     "output_type": "stream",
     "text": [
      "torch.int32\n"
     ]
    }
   ],
   "source": [
    "print(tensor1.int().dtype)"
   ],
   "metadata": {
    "collapsed": false,
    "ExecuteTime": {
     "start_time": "2024-02-26T13:02:40.568114Z",
     "end_time": "2024-02-26T13:02:40.583804Z"
    }
   }
  },
  {
   "cell_type": "code",
   "execution_count": 28,
   "outputs": [
    {
     "name": "stdout",
     "output_type": "stream",
     "text": [
      "torch.int32\n"
     ]
    }
   ],
   "source": [
    "print(tensor1.to(dtype=torch.int32).dtype)"
   ],
   "metadata": {
    "collapsed": false,
    "ExecuteTime": {
     "start_time": "2024-02-26T13:02:40.692033Z",
     "end_time": "2024-02-26T13:02:40.708006Z"
    }
   }
  },
  {
   "cell_type": "markdown",
   "source": [
    "# 获取张量的值"
   ],
   "metadata": {
    "collapsed": false
   }
  },
  {
   "cell_type": "code",
   "execution_count": 29,
   "outputs": [
    {
     "data": {
      "text/plain": "1.0"
     },
     "execution_count": 29,
     "metadata": {},
     "output_type": "execute_result"
    }
   ],
   "source": [
    "tensor1[0].item()"
   ],
   "metadata": {
    "collapsed": false,
    "ExecuteTime": {
     "start_time": "2024-02-26T13:02:41.151242Z",
     "end_time": "2024-02-26T13:02:41.199299Z"
    }
   }
  },
  {
   "cell_type": "markdown",
   "source": [
    "# 张量转换到数组"
   ],
   "metadata": {
    "collapsed": false
   }
  },
  {
   "cell_type": "code",
   "execution_count": 30,
   "outputs": [],
   "source": [
    "array = tensor1.numpy()"
   ],
   "metadata": {
    "collapsed": false,
    "ExecuteTime": {
     "start_time": "2024-02-26T13:02:41.593055Z",
     "end_time": "2024-02-26T13:02:41.609185Z"
    }
   }
  },
  {
   "cell_type": "code",
   "execution_count": 31,
   "outputs": [
    {
     "data": {
      "text/plain": "array([1., 2., 3.], dtype=float32)"
     },
     "execution_count": 31,
     "metadata": {},
     "output_type": "execute_result"
    }
   ],
   "source": [
    "array"
   ],
   "metadata": {
    "collapsed": false,
    "ExecuteTime": {
     "start_time": "2024-02-26T13:02:41.684374Z",
     "end_time": "2024-02-26T13:02:41.716139Z"
    }
   }
  },
  {
   "cell_type": "markdown",
   "source": [
    "# 数组转换为张量"
   ],
   "metadata": {
    "collapsed": false
   }
  },
  {
   "cell_type": "code",
   "execution_count": 32,
   "outputs": [],
   "source": [
    "array = np.ones((3, 3))"
   ],
   "metadata": {
    "collapsed": false,
    "ExecuteTime": {
     "start_time": "2024-02-26T13:02:42.287157Z",
     "end_time": "2024-02-26T13:02:42.430516Z"
    }
   }
  },
  {
   "cell_type": "code",
   "execution_count": 33,
   "outputs": [],
   "source": [
    "tensor1 = torch.as_tensor(array)"
   ],
   "metadata": {
    "collapsed": false,
    "ExecuteTime": {
     "start_time": "2024-02-26T13:02:42.430516Z",
     "end_time": "2024-02-26T13:02:42.652221Z"
    }
   }
  },
  {
   "cell_type": "code",
   "execution_count": 34,
   "outputs": [
    {
     "data": {
      "text/plain": "tensor([[1., 1., 1.],\n        [1., 1., 1.],\n        [1., 1., 1.]], dtype=torch.float64)"
     },
     "execution_count": 34,
     "metadata": {},
     "output_type": "execute_result"
    }
   ],
   "source": [
    "tensor1"
   ],
   "metadata": {
    "collapsed": false,
    "ExecuteTime": {
     "start_time": "2024-02-26T13:02:42.609816Z",
     "end_time": "2024-02-26T13:02:42.683887Z"
    }
   }
  },
  {
   "cell_type": "code",
   "execution_count": 35,
   "outputs": [],
   "source": [
    "tensor2 = torch.from_numpy(array)"
   ],
   "metadata": {
    "collapsed": false,
    "ExecuteTime": {
     "start_time": "2024-02-26T13:02:43.023677Z",
     "end_time": "2024-02-26T13:02:43.055300Z"
    }
   }
  },
  {
   "cell_type": "code",
   "execution_count": 36,
   "outputs": [
    {
     "data": {
      "text/plain": "tensor([[1., 1., 1.],\n        [1., 1., 1.],\n        [1., 1., 1.]], dtype=torch.float64)"
     },
     "execution_count": 36,
     "metadata": {},
     "output_type": "execute_result"
    }
   ],
   "source": [
    "tensor2"
   ],
   "metadata": {
    "collapsed": false,
    "ExecuteTime": {
     "start_time": "2024-02-26T13:02:43.233371Z",
     "end_time": "2024-02-26T13:02:43.265321Z"
    }
   }
  },
  {
   "cell_type": "markdown",
   "source": [
    "# 通过指定的均值和标准差生成随机数"
   ],
   "metadata": {
    "collapsed": false
   }
  },
  {
   "cell_type": "code",
   "execution_count": 37,
   "outputs": [
    {
     "name": "stdout",
     "output_type": "stream",
     "text": [
      "tensor(-2.4306)\n"
     ]
    }
   ],
   "source": [
    "torch.manual_seed(456)\n",
    "a = torch.normal(mean=0, std=torch.tensor(1.0))\n",
    "print(a)"
   ],
   "metadata": {
    "collapsed": false,
    "ExecuteTime": {
     "start_time": "2024-02-26T13:02:43.691293Z",
     "end_time": "2024-02-26T13:02:43.754232Z"
    }
   }
  },
  {
   "cell_type": "markdown",
   "source": [
    "# 生成0-50随机排列的张量"
   ],
   "metadata": {
    "collapsed": false
   }
  },
  {
   "cell_type": "code",
   "execution_count": 38,
   "outputs": [],
   "source": [
    "tensor1 = torch.randperm(50)"
   ],
   "metadata": {
    "collapsed": false,
    "ExecuteTime": {
     "start_time": "2024-02-26T13:02:44.375821Z",
     "end_time": "2024-02-26T13:02:44.391446Z"
    }
   }
  },
  {
   "cell_type": "code",
   "execution_count": 39,
   "outputs": [
    {
     "name": "stdout",
     "output_type": "stream",
     "text": [
      "tensor([ 4, 32, 30, 12, 37, 13, 38, 41,  1, 49, 47, 15, 29, 20, 21, 48, 17, 11,\n",
      "        23, 45, 24, 27,  8,  5,  9, 34,  2,  3, 10, 43, 22, 18, 14, 40, 42, 26,\n",
      "        44, 19, 16, 46, 36, 31, 28, 33,  0,  7, 25,  6, 39, 35])\n"
     ]
    }
   ],
   "source": [
    "print(tensor1)"
   ],
   "metadata": {
    "collapsed": false,
    "ExecuteTime": {
     "start_time": "2024-02-26T13:02:44.773490Z",
     "end_time": "2024-02-26T13:02:44.813277Z"
    }
   }
  },
  {
   "cell_type": "markdown",
   "source": [
    "# 生成指定范围指定步长的张量"
   ],
   "metadata": {
    "collapsed": false
   }
  },
  {
   "cell_type": "code",
   "execution_count": 40,
   "outputs": [
    {
     "name": "stdout",
     "output_type": "stream",
     "text": [
      "tensor([ 0,  5, 10, 15, 20, 25, 30, 35, 40, 45, 50, 55, 60, 65, 70, 75, 80, 85,\n",
      "        90, 95])\n"
     ]
    }
   ],
   "source": [
    "tensor1 = torch.arange(start=0, end=100, step=5)\n",
    "print(tensor1)"
   ],
   "metadata": {
    "collapsed": false,
    "ExecuteTime": {
     "start_time": "2024-02-26T13:02:45.449889Z",
     "end_time": "2024-02-26T13:02:45.465838Z"
    }
   }
  },
  {
   "cell_type": "markdown",
   "source": [
    "# 使用linspace生成固定数量等间隔的张量"
   ],
   "metadata": {
    "collapsed": false
   }
  },
  {
   "cell_type": "code",
   "execution_count": 41,
   "outputs": [],
   "source": [
    "tensor1 = torch.linspace(start=0, end=100, steps=10)"
   ],
   "metadata": {
    "collapsed": false,
    "ExecuteTime": {
     "start_time": "2024-02-26T13:02:46.018990Z",
     "end_time": "2024-02-26T13:02:46.034617Z"
    }
   }
  },
  {
   "cell_type": "code",
   "execution_count": 42,
   "outputs": [
    {
     "data": {
      "text/plain": "tensor([  0.0000,  11.1111,  22.2222,  33.3333,  44.4444,  55.5556,  66.6667,\n         77.7778,  88.8889, 100.0000])"
     },
     "execution_count": 42,
     "metadata": {},
     "output_type": "execute_result"
    }
   ],
   "source": [
    "tensor1"
   ],
   "metadata": {
    "collapsed": false,
    "ExecuteTime": {
     "start_time": "2024-02-26T13:02:46.181538Z",
     "end_time": "2024-02-26T13:02:46.197162Z"
    }
   }
  },
  {
   "cell_type": "markdown",
   "source": [
    "# 获取张量维度"
   ],
   "metadata": {
    "collapsed": false
   }
  },
  {
   "cell_type": "code",
   "execution_count": 43,
   "outputs": [
    {
     "name": "stdout",
     "output_type": "stream",
     "text": [
      "torch.Size([10])\n"
     ]
    }
   ],
   "source": [
    "print(tensor1.shape)"
   ],
   "metadata": {
    "collapsed": false,
    "ExecuteTime": {
     "start_time": "2024-02-26T13:02:47.047052Z",
     "end_time": "2024-02-26T13:02:47.062947Z"
    }
   }
  },
  {
   "cell_type": "code",
   "execution_count": 44,
   "outputs": [
    {
     "name": "stdout",
     "output_type": "stream",
     "text": [
      "torch.Size([10])\n"
     ]
    }
   ],
   "source": [
    "print(tensor1.size())"
   ],
   "metadata": {
    "collapsed": false,
    "ExecuteTime": {
     "start_time": "2024-02-26T13:02:47.517075Z",
     "end_time": "2024-02-26T13:02:47.538221Z"
    }
   }
  },
  {
   "cell_type": "markdown",
   "source": [
    "# 计算张量中元素个数"
   ],
   "metadata": {
    "collapsed": false
   }
  },
  {
   "cell_type": "code",
   "execution_count": 45,
   "outputs": [
    {
     "data": {
      "text/plain": "10"
     },
     "execution_count": 45,
     "metadata": {},
     "output_type": "execute_result"
    }
   ],
   "source": [
    "tensor1.numel()"
   ],
   "metadata": {
    "collapsed": false,
    "ExecuteTime": {
     "start_time": "2024-02-26T13:02:48.121063Z",
     "end_time": "2024-02-26T13:02:48.136954Z"
    }
   }
  },
  {
   "cell_type": "markdown",
   "source": [
    "# reshape改变张量的形状"
   ],
   "metadata": {
    "collapsed": false
   }
  },
  {
   "cell_type": "code",
   "execution_count": 46,
   "outputs": [
    {
     "name": "stdout",
     "output_type": "stream",
     "text": [
      "tensor([ 0,  1,  2,  3,  4,  5,  6,  7,  8,  9, 10, 11, 12, 13, 14])\n",
      "tensor([[ 0,  1,  2],\n",
      "        [ 3,  4,  5],\n",
      "        [ 6,  7,  8],\n",
      "        [ 9, 10, 11],\n",
      "        [12, 13, 14]])\n"
     ]
    }
   ],
   "source": [
    "tensor1 = torch.arange(15)\n",
    "tensor2 = tensor1.reshape(5, 3)\n",
    "print(tensor1)\n",
    "print(tensor2)"
   ],
   "metadata": {
    "collapsed": false,
    "ExecuteTime": {
     "start_time": "2024-02-26T13:02:48.753270Z",
     "end_time": "2024-02-26T13:02:48.768893Z"
    }
   }
  },
  {
   "cell_type": "markdown",
   "source": [
    "# resize"
   ],
   "metadata": {
    "collapsed": false
   }
  },
  {
   "cell_type": "code",
   "execution_count": 47,
   "outputs": [
    {
     "name": "stderr",
     "output_type": "stream",
     "text": [
      "D:\\software_code\\Anaconda\\envs\\pytorchpy39\\lib\\site-packages\\torch\\_tensor.py:836: UserWarning: non-inplace resize is deprecated\n",
      "  warnings.warn(\"non-inplace resize is deprecated\")\n"
     ]
    }
   ],
   "source": [
    "tensor2 = tensor1.resize(3, 5)"
   ],
   "metadata": {
    "collapsed": false,
    "ExecuteTime": {
     "start_time": "2024-02-26T13:02:49.319174Z",
     "end_time": "2024-02-26T13:02:49.349469Z"
    }
   }
  },
  {
   "cell_type": "code",
   "execution_count": 48,
   "outputs": [
    {
     "name": "stdout",
     "output_type": "stream",
     "text": [
      "tensor([[ 0,  1,  2,  3,  4],\n",
      "        [ 5,  6,  7,  8,  9],\n",
      "        [10, 11, 12, 13, 14]])\n"
     ]
    }
   ],
   "source": [
    "print(tensor2)"
   ],
   "metadata": {
    "collapsed": false,
    "ExecuteTime": {
     "start_time": "2024-02-26T13:02:49.568667Z",
     "end_time": "2024-02-26T13:02:49.584342Z"
    }
   }
  },
  {
   "cell_type": "markdown",
   "source": [
    "# 升维降维"
   ],
   "metadata": {
    "collapsed": false
   }
  },
  {
   "cell_type": "code",
   "execution_count": 49,
   "outputs": [
    {
     "name": "stdout",
     "output_type": "stream",
     "text": [
      "torch.Size([15])\n"
     ]
    }
   ],
   "source": [
    "print(tensor1.shape)"
   ],
   "metadata": {
    "collapsed": false,
    "ExecuteTime": {
     "start_time": "2024-02-26T13:02:50.190980Z",
     "end_time": "2024-02-26T13:02:50.206608Z"
    }
   }
  },
  {
   "cell_type": "code",
   "execution_count": 50,
   "outputs": [
    {
     "name": "stdout",
     "output_type": "stream",
     "text": [
      "tensor([[ 0,  1,  2,  3,  4,  5,  6,  7,  8,  9, 10, 11, 12, 13, 14]])\n"
     ]
    }
   ],
   "source": [
    "tensor1 = torch.unsqueeze(tensor1, dim=0)\n",
    "print(tensor1)"
   ],
   "metadata": {
    "collapsed": false,
    "ExecuteTime": {
     "start_time": "2024-02-26T13:02:50.439624Z",
     "end_time": "2024-02-26T13:02:50.456336Z"
    }
   }
  },
  {
   "cell_type": "code",
   "execution_count": 51,
   "outputs": [
    {
     "name": "stdout",
     "output_type": "stream",
     "text": [
      "torch.Size([1, 15])\n"
     ]
    }
   ],
   "source": [
    "print(tensor1.shape)"
   ],
   "metadata": {
    "collapsed": false,
    "ExecuteTime": {
     "start_time": "2024-02-26T13:02:50.612909Z",
     "end_time": "2024-02-26T13:02:50.629032Z"
    }
   }
  },
  {
   "cell_type": "code",
   "execution_count": 52,
   "outputs": [],
   "source": [
    "tensor1 = torch.squeeze(tensor1, dim=0)"
   ],
   "metadata": {
    "collapsed": false,
    "ExecuteTime": {
     "start_time": "2024-02-26T13:02:50.826791Z",
     "end_time": "2024-02-26T13:02:50.842419Z"
    }
   }
  },
  {
   "cell_type": "code",
   "execution_count": 53,
   "outputs": [
    {
     "name": "stdout",
     "output_type": "stream",
     "text": [
      "torch.Size([15])\n"
     ]
    }
   ],
   "source": [
    "print(tensor1.shape)"
   ],
   "metadata": {
    "collapsed": false,
    "ExecuteTime": {
     "start_time": "2024-02-26T13:02:51.125494Z",
     "end_time": "2024-02-26T13:02:51.141181Z"
    }
   }
  },
  {
   "cell_type": "code",
   "execution_count": 54,
   "outputs": [
    {
     "name": "stdout",
     "output_type": "stream",
     "text": [
      "tensor([ 0,  1,  2,  3,  4,  5,  6,  7,  8,  9, 10, 11, 12, 13, 14])\n"
     ]
    }
   ],
   "source": [
    "print(tensor1)"
   ],
   "metadata": {
    "collapsed": false,
    "ExecuteTime": {
     "start_time": "2024-02-26T13:02:51.387002Z",
     "end_time": "2024-02-26T13:02:51.402692Z"
    }
   }
  },
  {
   "cell_type": "markdown",
   "source": [
    "# 张量的筛选操作"
   ],
   "metadata": {
    "collapsed": false
   }
  },
  {
   "cell_type": "code",
   "execution_count": 55,
   "outputs": [
    {
     "name": "stdout",
     "output_type": "stream",
     "text": [
      "tensor([[ 1,  9,  5,  2],\n",
      "        [ 3,  8, 10,  7],\n",
      "        [ 0,  6,  4, 11]])\n",
      "tensor([[ -1,  -9,  -5,  -2],\n",
      "        [ -3,  -8, -10,  -7],\n",
      "        [  0,  -6,  -4, -11]])\n"
     ]
    }
   ],
   "source": [
    "tensor1 = torch.randperm(12).reshape(3, 4)\n",
    "tensor2 = -tensor1\n",
    "print(tensor1)\n",
    "print(tensor2)"
   ],
   "metadata": {
    "collapsed": false,
    "ExecuteTime": {
     "start_time": "2024-02-26T13:02:51.924907Z",
     "end_time": "2024-02-26T13:02:51.940536Z"
    }
   }
  },
  {
   "cell_type": "code",
   "execution_count": 56,
   "outputs": [],
   "source": [
    "tensor3 = torch.where(tensor1 > 6, tensor1, tensor2)"
   ],
   "metadata": {
    "collapsed": false,
    "ExecuteTime": {
     "start_time": "2024-02-26T13:02:52.255161Z",
     "end_time": "2024-02-26T13:02:52.270890Z"
    }
   }
  },
  {
   "cell_type": "code",
   "execution_count": 57,
   "outputs": [
    {
     "name": "stdout",
     "output_type": "stream",
     "text": [
      "tensor([[-1,  9, -5, -2],\n",
      "        [-3,  8, 10,  7],\n",
      "        [ 0, -6, -4, 11]])\n"
     ]
    }
   ],
   "source": [
    "print(tensor3)"
   ],
   "metadata": {
    "collapsed": false,
    "ExecuteTime": {
     "start_time": "2024-02-26T13:02:52.525549Z",
     "end_time": "2024-02-26T13:02:52.541204Z"
    }
   }
  },
  {
   "cell_type": "markdown",
   "source": [
    "# 张量的拼接和拆分"
   ],
   "metadata": {
    "collapsed": false
   }
  },
  {
   "cell_type": "code",
   "execution_count": 58,
   "outputs": [],
   "source": [
    "tensor1 = torch.randperm(12).reshape(3, 4)\n",
    "tensor2 = torch.linspace(0, 50, 12).reshape(3, 4)\n",
    "tensor3 = torch.cat((tensor1, tensor2), dim=0)"
   ],
   "metadata": {
    "collapsed": false,
    "ExecuteTime": {
     "start_time": "2024-02-26T13:02:53.335654Z",
     "end_time": "2024-02-26T13:02:53.351499Z"
    }
   }
  },
  {
   "cell_type": "code",
   "execution_count": 59,
   "outputs": [
    {
     "name": "stdout",
     "output_type": "stream",
     "text": [
      "tensor([[ 8,  3,  9,  1],\n",
      "        [ 7,  2, 11,  6],\n",
      "        [10,  0,  4,  5]])\n",
      "tensor([[ 0.0000,  4.5455,  9.0909, 13.6364],\n",
      "        [18.1818, 22.7273, 27.2727, 31.8182],\n",
      "        [36.3636, 40.9091, 45.4545, 50.0000]])\n",
      "tensor([[ 8.0000,  3.0000,  9.0000,  1.0000],\n",
      "        [ 7.0000,  2.0000, 11.0000,  6.0000],\n",
      "        [10.0000,  0.0000,  4.0000,  5.0000],\n",
      "        [ 0.0000,  4.5455,  9.0909, 13.6364],\n",
      "        [18.1818, 22.7273, 27.2727, 31.8182],\n",
      "        [36.3636, 40.9091, 45.4545, 50.0000]])\n"
     ]
    }
   ],
   "source": [
    "print(tensor1)\n",
    "print(tensor2)\n",
    "print(tensor3)"
   ],
   "metadata": {
    "collapsed": false,
    "ExecuteTime": {
     "start_time": "2024-02-26T13:02:53.671917Z",
     "end_time": "2024-02-26T13:02:53.687549Z"
    }
   }
  },
  {
   "cell_type": "code",
   "execution_count": 60,
   "outputs": [],
   "source": [
    "tensor4 = torch.cat((tensor1, tensor2), dim=1)"
   ],
   "metadata": {
    "collapsed": false,
    "ExecuteTime": {
     "start_time": "2024-02-26T13:02:54.162460Z",
     "end_time": "2024-02-26T13:02:54.179305Z"
    }
   }
  },
  {
   "cell_type": "code",
   "execution_count": 61,
   "outputs": [
    {
     "name": "stdout",
     "output_type": "stream",
     "text": [
      "tensor([[ 8.0000,  3.0000,  9.0000,  1.0000,  0.0000,  4.5455,  9.0909, 13.6364],\n",
      "        [ 7.0000,  2.0000, 11.0000,  6.0000, 18.1818, 22.7273, 27.2727, 31.8182],\n",
      "        [10.0000,  0.0000,  4.0000,  5.0000, 36.3636, 40.9091, 45.4545, 50.0000]])\n"
     ]
    }
   ],
   "source": [
    "print(tensor4)"
   ],
   "metadata": {
    "collapsed": false,
    "ExecuteTime": {
     "start_time": "2024-02-26T13:02:56.203747Z",
     "end_time": "2024-02-26T13:02:56.219377Z"
    }
   }
  },
  {
   "cell_type": "markdown",
   "source": [
    "# 沿新维度拼接张量（stack）"
   ],
   "metadata": {
    "collapsed": false
   }
  },
  {
   "cell_type": "code",
   "execution_count": 62,
   "outputs": [],
   "source": [
    "tensor1 = torch.randperm(12).reshape(3, 4)\n",
    "tensor2 = torch.linspace(0, 50, 12).reshape(3, 4)\n",
    "tensor3 = torch.stack((tensor1, tensor2), dim=0)"
   ],
   "metadata": {
    "collapsed": false,
    "ExecuteTime": {
     "start_time": "2024-02-26T13:02:57.306725Z",
     "end_time": "2024-02-26T13:02:57.321802Z"
    }
   }
  },
  {
   "cell_type": "code",
   "execution_count": 63,
   "outputs": [
    {
     "name": "stdout",
     "output_type": "stream",
     "text": [
      "tensor([[[ 8.0000, 11.0000,  7.0000,  3.0000],\n",
      "         [ 9.0000,  4.0000,  5.0000, 10.0000],\n",
      "         [ 2.0000,  6.0000,  1.0000,  0.0000]],\n",
      "\n",
      "        [[ 0.0000,  4.5455,  9.0909, 13.6364],\n",
      "         [18.1818, 22.7273, 27.2727, 31.8182],\n",
      "         [36.3636, 40.9091, 45.4545, 50.0000]]])\n"
     ]
    }
   ],
   "source": [
    "print(tensor3)"
   ],
   "metadata": {
    "collapsed": false,
    "ExecuteTime": {
     "start_time": "2024-02-26T13:02:57.646732Z",
     "end_time": "2024-02-26T13:02:57.662462Z"
    }
   }
  },
  {
   "cell_type": "code",
   "execution_count": 64,
   "outputs": [
    {
     "name": "stdout",
     "output_type": "stream",
     "text": [
      "tensor([[[ 8.0000, 11.0000,  7.0000,  3.0000],\n",
      "         [ 0.0000,  4.5455,  9.0909, 13.6364]],\n",
      "\n",
      "        [[ 9.0000,  4.0000,  5.0000, 10.0000],\n",
      "         [18.1818, 22.7273, 27.2727, 31.8182]],\n",
      "\n",
      "        [[ 2.0000,  6.0000,  1.0000,  0.0000],\n",
      "         [36.3636, 40.9091, 45.4545, 50.0000]]])\n"
     ]
    }
   ],
   "source": [
    "tensor4 = torch.stack((tensor1, tensor2), dim=1)\n",
    "print(tensor4)"
   ],
   "metadata": {
    "collapsed": false,
    "ExecuteTime": {
     "start_time": "2024-02-26T13:02:57.835774Z",
     "end_time": "2024-02-26T13:02:57.851400Z"
    }
   }
  },
  {
   "cell_type": "markdown",
   "source": [
    "# CPU 、 GPU转换"
   ],
   "metadata": {
    "collapsed": false
   }
  },
  {
   "cell_type": "code",
   "execution_count": 65,
   "outputs": [],
   "source": [
    "tensor1 = torch.Tensor([3,5])"
   ],
   "metadata": {
    "collapsed": false,
    "ExecuteTime": {
     "start_time": "2024-02-26T13:02:58.660430Z",
     "end_time": "2024-02-26T13:02:58.676053Z"
    }
   }
  },
  {
   "cell_type": "code",
   "execution_count": 66,
   "outputs": [
    {
     "name": "stdout",
     "output_type": "stream",
     "text": [
      "tensor([3., 5.])\n"
     ]
    }
   ],
   "source": [
    "print(tensor1)"
   ],
   "metadata": {
    "collapsed": false,
    "ExecuteTime": {
     "start_time": "2024-02-26T13:02:59.150799Z",
     "end_time": "2024-02-26T13:02:59.166529Z"
    }
   }
  },
  {
   "cell_type": "code",
   "execution_count": 67,
   "outputs": [
    {
     "name": "stdout",
     "output_type": "stream",
     "text": [
      "False\n"
     ]
    }
   ],
   "source": [
    "print(tensor1.is_cuda)"
   ],
   "metadata": {
    "collapsed": false,
    "ExecuteTime": {
     "start_time": "2024-02-26T13:02:59.570214Z",
     "end_time": "2024-02-26T13:02:59.585843Z"
    }
   }
  },
  {
   "cell_type": "code",
   "execution_count": 68,
   "outputs": [
    {
     "name": "stdout",
     "output_type": "stream",
     "text": [
      "cpu\n"
     ]
    }
   ],
   "source": [
    "print(tensor1.device)"
   ],
   "metadata": {
    "collapsed": false,
    "ExecuteTime": {
     "start_time": "2024-02-26T13:02:59.806410Z",
     "end_time": "2024-02-26T13:02:59.822157Z"
    }
   }
  },
  {
   "cell_type": "code",
   "execution_count": 69,
   "outputs": [],
   "source": [
    "tensor1 = tensor1.to(\"cuda\")"
   ],
   "metadata": {
    "collapsed": false,
    "ExecuteTime": {
     "start_time": "2024-02-26T13:02:59.963694Z",
     "end_time": "2024-02-26T13:03:00.073515Z"
    }
   }
  },
  {
   "cell_type": "code",
   "execution_count": 70,
   "outputs": [
    {
     "name": "stdout",
     "output_type": "stream",
     "text": [
      "True\n"
     ]
    }
   ],
   "source": [
    "print(tensor1.is_cuda)"
   ],
   "metadata": {
    "collapsed": false,
    "ExecuteTime": {
     "start_time": "2024-02-26T13:03:00.387810Z",
     "end_time": "2024-02-26T13:03:00.403478Z"
    }
   }
  },
  {
   "cell_type": "code",
   "execution_count": 71,
   "outputs": [
    {
     "name": "stdout",
     "output_type": "stream",
     "text": [
      "cuda:0\n"
     ]
    }
   ],
   "source": [
    "print(tensor1.device)"
   ],
   "metadata": {
    "collapsed": false,
    "ExecuteTime": {
     "start_time": "2024-02-26T13:03:01.340819Z",
     "end_time": "2024-02-26T13:03:01.351124Z"
    }
   }
  },
  {
   "cell_type": "markdown",
   "source": [
    "# 逐元素比较是否相等"
   ],
   "metadata": {
    "collapsed": false
   }
  },
  {
   "cell_type": "code",
   "execution_count": 72,
   "outputs": [
    {
     "name": "stdout",
     "output_type": "stream",
     "text": [
      "tensor([0., 1., 2., 3., 4., 5., 6., 7., 8., 9.])\n",
      "tensor([0, 1, 2, 3, 4, 5, 6, 7, 8, 9])\n",
      "tensor([[0, 1, 2, 3, 4, 5, 6, 7, 8, 9]])\n",
      "tensor([True, True, True, True, True, True, True, True, True, True])\n",
      "tensor([[True, True, True, True, True, True, True, True, True, True]])\n"
     ]
    }
   ],
   "source": [
    "tensor1 = torch.Tensor([i for i in range(10)])\n",
    "tensor2 = torch.arange(0, 10)\n",
    "tensor3 = torch.unsqueeze(tensor2, dim=0)\n",
    "print(tensor1)\n",
    "print(tensor2)\n",
    "print(tensor3)\n",
    "print(torch.eq(tensor1, tensor2))\n",
    "print(torch.eq(tensor1, tensor3))"
   ],
   "metadata": {
    "collapsed": false,
    "ExecuteTime": {
     "start_time": "2024-02-26T13:08:04.917695Z",
     "end_time": "2024-02-26T13:08:04.938407Z"
    }
   }
  },
  {
   "cell_type": "markdown",
   "source": [
    "# 判断张量是否具有相同的形状"
   ],
   "metadata": {
    "collapsed": false
   }
  },
  {
   "cell_type": "code",
   "execution_count": 73,
   "outputs": [
    {
     "name": "stdout",
     "output_type": "stream",
     "text": [
      "tensor([0., 1., 2., 3., 4., 5., 6., 7., 8., 9.])\n",
      "tensor([0, 1, 2, 3, 4, 5, 6, 7, 8, 9])\n",
      "tensor([[0, 1, 2, 3, 4, 5, 6, 7, 8, 9]])\n",
      "True\n",
      "False\n"
     ]
    }
   ],
   "source": [
    "tensor1 = torch.Tensor([i for i in range(10)])\n",
    "tensor2 = torch.arange(0, 10)\n",
    "tensor3 = torch.unsqueeze(tensor2, dim=0)\n",
    "print(tensor1)\n",
    "print(tensor2)\n",
    "print(tensor3)\n",
    "print(torch.equal(tensor1, tensor2))\n",
    "print(torch.equal(tensor1, tensor3))"
   ],
   "metadata": {
    "collapsed": false,
    "ExecuteTime": {
     "start_time": "2024-02-26T13:09:11.917575Z",
     "end_time": "2024-02-26T13:09:11.938583Z"
    }
   }
  },
  {
   "cell_type": "markdown",
   "source": [
    "# 张量的幂"
   ],
   "metadata": {
    "collapsed": false
   }
  },
  {
   "cell_type": "code",
   "execution_count": 74,
   "outputs": [
    {
     "name": "stdout",
     "output_type": "stream",
     "text": [
      "tensor([  0.,   1.,   8.,  27.,  64., 125., 216., 343., 512., 729.])\n"
     ]
    }
   ],
   "source": [
    "tensor1 = torch.Tensor([i for i in range(10)])\n",
    "print(torch.pow(tensor1, 3))"
   ],
   "metadata": {
    "collapsed": false,
    "ExecuteTime": {
     "start_time": "2024-02-26T13:10:27.861763Z",
     "end_time": "2024-02-26T13:10:27.935737Z"
    }
   }
  },
  {
   "cell_type": "code",
   "execution_count": 75,
   "outputs": [
    {
     "name": "stdout",
     "output_type": "stream",
     "text": [
      "tensor([ 0.,  1.,  4.,  9., 16., 25., 36., 49., 64., 81.])\n"
     ]
    }
   ],
   "source": [
    "print(tensor1 ** 2)"
   ],
   "metadata": {
    "collapsed": false,
    "ExecuteTime": {
     "start_time": "2024-02-26T13:10:55.133173Z",
     "end_time": "2024-02-26T13:10:55.161173Z"
    }
   }
  },
  {
   "cell_type": "markdown",
   "source": [
    "# 指数、对数、平方根"
   ],
   "metadata": {
    "collapsed": false
   }
  },
  {
   "cell_type": "code",
   "execution_count": 76,
   "outputs": [
    {
     "name": "stdout",
     "output_type": "stream",
     "text": [
      "tensor([0., 1., 2., 3., 4., 5., 6., 7., 8., 9.])\n",
      "tensor([1.0000e+00, 2.7183e+00, 7.3891e+00, 2.0086e+01, 5.4598e+01, 1.4841e+02,\n",
      "        4.0343e+02, 1.0966e+03, 2.9810e+03, 8.1031e+03])\n",
      "tensor([  -inf, 0.0000, 0.6931, 1.0986, 1.3863, 1.6094, 1.7918, 1.9459, 2.0794,\n",
      "        2.1972])\n",
      "tensor([0.0000, 1.0000, 1.4142, 1.7321, 2.0000, 2.2361, 2.4495, 2.6458, 2.8284,\n",
      "        3.0000])\n"
     ]
    }
   ],
   "source": [
    "tensor1 = torch.Tensor([i for i in range(10)])\n",
    "print(tensor1)\n",
    "print(torch.exp(tensor1))\n",
    "print(torch.log(tensor1))\n",
    "print(torch.sqrt(tensor1))"
   ],
   "metadata": {
    "collapsed": false,
    "ExecuteTime": {
     "start_time": "2024-02-26T13:12:39.004062Z",
     "end_time": "2024-02-26T13:12:39.025067Z"
    }
   }
  },
  {
   "cell_type": "markdown",
   "source": [
    "# 张量的剪裁"
   ],
   "metadata": {
    "collapsed": false
   }
  },
  {
   "cell_type": "code",
   "execution_count": 77,
   "outputs": [
    {
     "name": "stdout",
     "output_type": "stream",
     "text": [
      "tensor([[0., 1., 2., 3., 4.],\n",
      "        [5., 6., 7., 8., 9.]])\n"
     ]
    }
   ],
   "source": [
    "tensor1 = torch.Tensor([i for i in range(10)]).reshape(2, 5)\n",
    "print(tensor1)"
   ],
   "metadata": {
    "collapsed": false,
    "ExecuteTime": {
     "start_time": "2024-02-26T13:13:17.617718Z",
     "end_time": "2024-02-26T13:13:17.648365Z"
    }
   }
  },
  {
   "cell_type": "code",
   "execution_count": 81,
   "outputs": [
    {
     "name": "stdout",
     "output_type": "stream",
     "text": [
      "tensor([[0., 1., 2., 3., 4.],\n",
      "        [5., 6., 6., 6., 6.]])\n",
      "tensor([[6., 6., 6., 6., 6.],\n",
      "        [6., 6., 7., 8., 9.]])\n",
      "tensor([[2., 2., 2., 3., 4.],\n",
      "        [5., 6., 7., 8., 8.]])\n"
     ]
    }
   ],
   "source": [
    "# 根据最大值剪裁\n",
    "print(torch.clamp_max(tensor1, 6))\n",
    "# 根据最小值剪裁\n",
    "print(torch.clamp_min(tensor1, 6))\n",
    "# 指定范围剪裁\n",
    "print(torch.clamp(tensor1, 2, 8))"
   ],
   "metadata": {
    "collapsed": false,
    "ExecuteTime": {
     "start_time": "2024-02-26T13:14:35.407016Z",
     "end_time": "2024-02-26T13:14:35.421796Z"
    }
   }
  },
  {
   "cell_type": "markdown",
   "source": [
    "# 矩阵操作"
   ],
   "metadata": {
    "collapsed": false
   }
  },
  {
   "cell_type": "code",
   "execution_count": 82,
   "outputs": [
    {
     "name": "stdout",
     "output_type": "stream",
     "text": [
      "tensor([[4.3375, 2.6885, 5.7688, 5.2385],\n",
      "        [1.3120, 1.8621, 9.1318, 9.3914],\n",
      "        [2.6798, 4.3571, 8.8020, 0.6380],\n",
      "        [6.6586, 4.8916, 7.9220, 9.1864]])\n",
      "tensor([[4., 3.],\n",
      "        [7., 6.],\n",
      "        [2., 1.],\n",
      "        [5., 0.]])\n"
     ]
    }
   ],
   "source": [
    "tensor1 = torch.rand(4, 4) * 10\n",
    "tensor2 = torch.randperm(8).reshape(4, 2).float()\n",
    "print(tensor1)\n",
    "print(tensor2)"
   ],
   "metadata": {
    "collapsed": false,
    "ExecuteTime": {
     "start_time": "2024-02-26T13:15:50.686064Z",
     "end_time": "2024-02-26T13:15:50.716062Z"
    }
   }
  },
  {
   "cell_type": "code",
   "execution_count": 84,
   "outputs": [
    {
     "name": "stdout",
     "output_type": "stream",
     "text": [
      "tensor([[4.3375, 1.3120, 2.6798, 6.6586],\n",
      "        [2.6885, 1.8621, 4.3571, 4.8916],\n",
      "        [5.7688, 9.1318, 8.8020, 7.9220],\n",
      "        [5.2385, 9.3914, 0.6380, 9.1864]])\n",
      "tensor([[ 0.7520, -0.1466, -0.0957, -0.2723],\n",
      "        [-1.1920, -0.0422,  0.1860,  0.7100],\n",
      "        [ 0.3783,  0.0599,  0.0563, -0.2809],\n",
      "        [-0.2365,  0.0771, -0.0783,  0.1704]])\n"
     ]
    }
   ],
   "source": [
    "# 转置\n",
    "print(torch.t(tensor1))\n",
    "# 矩阵的逆\n",
    "print(torch.inverse(tensor1))"
   ],
   "metadata": {
    "collapsed": false,
    "ExecuteTime": {
     "start_time": "2024-02-26T13:17:18.636287Z",
     "end_time": "2024-02-26T13:17:18.661914Z"
    }
   }
  },
  {
   "cell_type": "code",
   "execution_count": 85,
   "outputs": [
    {
     "name": "stdout",
     "output_type": "stream",
     "text": [
      "tensor([[ 73.8996,  34.9124],\n",
      "        [ 83.5039,  24.2408],\n",
      "        [ 62.0132,  42.9843],\n",
      "        [122.6517,  57.2475]])\n"
     ]
    }
   ],
   "source": [
    "# 矩阵乘法\n",
    "print(tensor1.matmul(tensor2))"
   ],
   "metadata": {
    "collapsed": false,
    "ExecuteTime": {
     "start_time": "2024-02-26T13:17:57.616338Z",
     "end_time": "2024-02-26T13:17:57.649176Z"
    }
   }
  },
  {
   "cell_type": "markdown",
   "source": [
    "# 统计计算"
   ],
   "metadata": {
    "collapsed": false
   }
  },
  {
   "cell_type": "code",
   "execution_count": 86,
   "outputs": [
    {
     "name": "stdout",
     "output_type": "stream",
     "text": [
      "tensor([6, 8, 1, 2, 4, 5, 9, 0, 7, 3])\n"
     ]
    }
   ],
   "source": [
    "tensor1 = torch.randperm(10)\n",
    "print(tensor1)"
   ],
   "metadata": {
    "collapsed": false,
    "ExecuteTime": {
     "start_time": "2024-02-26T13:18:46.459629Z",
     "end_time": "2024-02-26T13:18:46.490629Z"
    }
   }
  },
  {
   "cell_type": "code",
   "execution_count": 87,
   "outputs": [
    {
     "name": "stdout",
     "output_type": "stream",
     "text": [
      "tensor(9)\n"
     ]
    }
   ],
   "source": [
    "print(tensor1.max())"
   ],
   "metadata": {
    "collapsed": false,
    "ExecuteTime": {
     "start_time": "2024-02-26T13:18:55.495863Z",
     "end_time": "2024-02-26T13:18:55.528600Z"
    }
   }
  },
  {
   "cell_type": "code",
   "execution_count": 88,
   "outputs": [
    {
     "name": "stdout",
     "output_type": "stream",
     "text": [
      "tensor(0)\n"
     ]
    }
   ],
   "source": [
    "print(tensor1.min())"
   ],
   "metadata": {
    "collapsed": false,
    "ExecuteTime": {
     "start_time": "2024-02-26T13:19:02.800761Z",
     "end_time": "2024-02-26T13:19:02.833310Z"
    }
   }
  },
  {
   "cell_type": "code",
   "execution_count": 89,
   "outputs": [
    {
     "name": "stdout",
     "output_type": "stream",
     "text": [
      "tensor(6)\n"
     ]
    }
   ],
   "source": [
    "print(tensor1.argmax())"
   ],
   "metadata": {
    "collapsed": false,
    "ExecuteTime": {
     "start_time": "2024-02-26T13:19:37.074536Z",
     "end_time": "2024-02-26T13:19:37.106536Z"
    }
   }
  },
  {
   "cell_type": "code",
   "execution_count": 90,
   "outputs": [
    {
     "name": "stdout",
     "output_type": "stream",
     "text": [
      "tensor(7)\n"
     ]
    }
   ],
   "source": [
    "print(tensor1.argmin())"
   ],
   "metadata": {
    "collapsed": false,
    "ExecuteTime": {
     "start_time": "2024-02-26T13:19:53.849551Z",
     "end_time": "2024-02-26T13:19:53.881992Z"
    }
   }
  },
  {
   "cell_type": "markdown",
   "source": [
    "# 排序"
   ],
   "metadata": {
    "collapsed": false
   }
  },
  {
   "cell_type": "code",
   "execution_count": 91,
   "outputs": [
    {
     "name": "stdout",
     "output_type": "stream",
     "text": [
      "tensor([9, 0, 7, 1, 4, 5, 8, 2, 6, 3])\n"
     ]
    }
   ],
   "source": [
    "tensor1 = torch.randperm(10)\n",
    "print(tensor1)"
   ],
   "metadata": {
    "collapsed": false,
    "ExecuteTime": {
     "start_time": "2024-02-26T13:21:07.958487Z",
     "end_time": "2024-02-26T13:21:08.017869Z"
    }
   }
  },
  {
   "cell_type": "code",
   "execution_count": 92,
   "outputs": [
    {
     "name": "stdout",
     "output_type": "stream",
     "text": [
      "torch.return_types.sort(\n",
      "values=tensor([0, 1, 2, 3, 4, 5, 6, 7, 8, 9]),\n",
      "indices=tensor([1, 3, 7, 9, 4, 5, 8, 2, 6, 0]))\n"
     ]
    }
   ],
   "source": [
    "# 升序\n",
    "print(torch.sort(tensor1, descending=False))"
   ],
   "metadata": {
    "collapsed": false,
    "ExecuteTime": {
     "start_time": "2024-02-26T13:21:30.835015Z",
     "end_time": "2024-02-26T13:21:30.881031Z"
    }
   }
  },
  {
   "cell_type": "code",
   "execution_count": 93,
   "outputs": [
    {
     "name": "stdout",
     "output_type": "stream",
     "text": [
      "torch.return_types.sort(\n",
      "values=tensor([9, 8, 7, 6, 5, 4, 3, 2, 1, 0]),\n",
      "indices=tensor([0, 6, 2, 8, 5, 4, 9, 7, 3, 1]))\n"
     ]
    }
   ],
   "source": [
    "# 降序\n",
    "print(torch.sort(tensor1, descending=True))"
   ],
   "metadata": {
    "collapsed": false,
    "ExecuteTime": {
     "start_time": "2024-02-26T13:21:56.811204Z",
     "end_time": "2024-02-26T13:21:56.848268Z"
    }
   }
  },
  {
   "cell_type": "markdown",
   "source": [
    "# 二维张量排序"
   ],
   "metadata": {
    "collapsed": false
   }
  },
  {
   "cell_type": "code",
   "execution_count": 94,
   "outputs": [
    {
     "name": "stdout",
     "output_type": "stream",
     "text": [
      "tensor([[ 8,  4,  2,  3],\n",
      "        [ 7,  0, 12, 11],\n",
      "        [14, 15,  9,  6],\n",
      "        [ 1, 10,  5, 13]])\n",
      "torch.return_types.sort(\n",
      "values=tensor([[ 2,  3,  4,  8],\n",
      "        [ 0,  7, 11, 12],\n",
      "        [ 6,  9, 14, 15],\n",
      "        [ 1,  5, 10, 13]]),\n",
      "indices=tensor([[2, 3, 1, 0],\n",
      "        [1, 0, 3, 2],\n",
      "        [3, 2, 0, 1],\n",
      "        [0, 2, 1, 3]]))\n"
     ]
    }
   ],
   "source": [
    "tensor1 = torch.randperm(16).reshape(4, 4)\n",
    "print(tensor1)\n",
    "print(torch.sort(tensor1))"
   ],
   "metadata": {
    "collapsed": false,
    "ExecuteTime": {
     "start_time": "2024-02-26T13:23:08.798256Z",
     "end_time": "2024-02-26T13:23:08.842501Z"
    }
   }
  },
  {
   "cell_type": "markdown",
   "source": [
    "# 平均值"
   ],
   "metadata": {
    "collapsed": false
   }
  },
  {
   "cell_type": "code",
   "execution_count": 96,
   "outputs": [
    {
     "name": "stdout",
     "output_type": "stream",
     "text": [
      "tensor([[10.5000],\n",
      "        [ 5.5000],\n",
      "        [ 5.2500],\n",
      "        [ 8.7500]], dtype=torch.float64)\n"
     ]
    }
   ],
   "source": [
    "tensor1 = torch.randperm(16).reshape(4, 4).to(dtype=torch.float64)\n",
    "print(torch.mean(tensor1, dim=1, keepdim=True))"
   ],
   "metadata": {
    "collapsed": false,
    "ExecuteTime": {
     "start_time": "2024-02-26T13:24:46.905058Z",
     "end_time": "2024-02-26T13:24:46.918467Z"
    }
   }
  },
  {
   "cell_type": "code",
   "execution_count": 97,
   "outputs": [
    {
     "name": "stdout",
     "output_type": "stream",
     "text": [
      "tensor([[7.0000, 6.7500, 7.7500, 8.5000]], dtype=torch.float64)\n"
     ]
    }
   ],
   "source": [
    "print(torch.mean(tensor1, dim=0, keepdim=True))"
   ],
   "metadata": {
    "collapsed": false,
    "ExecuteTime": {
     "start_time": "2024-02-26T13:24:58.850136Z",
     "end_time": "2024-02-26T13:24:58.886144Z"
    }
   }
  },
  {
   "cell_type": "code",
   "execution_count": null,
   "outputs": [],
   "source": [],
   "metadata": {
    "collapsed": false
   }
  }
 ],
 "metadata": {
  "kernelspec": {
   "name": "pytorchpy39",
   "language": "python",
   "display_name": "pytorchpy39"
  },
  "language_info": {
   "codemirror_mode": {
    "name": "ipython",
    "version": 2
   },
   "file_extension": ".py",
   "mimetype": "text/x-python",
   "name": "python",
   "nbconvert_exporter": "python",
   "pygments_lexer": "ipython2",
   "version": "2.7.6"
  }
 },
 "nbformat": 4,
 "nbformat_minor": 0
}
