{
 "cells": [
  {
   "cell_type": "markdown",
   "source": [
    "# B站：神奇的布欧\n",
    "# 微信：l1243278923"
   ],
   "metadata": {
    "collapsed": false
   }
  },
  {
   "cell_type": "code",
   "execution_count": 1,
   "metadata": {
    "collapsed": true,
    "ExecuteTime": {
     "start_time": "2024-02-27T13:12:02.292775Z",
     "end_time": "2024-02-27T13:12:03.673454Z"
    }
   },
   "outputs": [],
   "source": [
    "import torch\n",
    "import torch.nn as nn\n",
    "import torch.utils.data as Data\n",
    "import matplotlib.pyplot as plt\n",
    "import numpy as np\n",
    "import PIL.Image\n",
    "import os"
   ]
  },
  {
   "cell_type": "markdown",
   "source": [
    "# 0. 判断GPU是否可用"
   ],
   "metadata": {
    "collapsed": false
   }
  },
  {
   "cell_type": "code",
   "execution_count": 2,
   "outputs": [],
   "source": [
    "device = torch.device(\"cuda:0\" if torch.cuda.is_available() else \"cpu\")"
   ],
   "metadata": {
    "collapsed": false,
    "ExecuteTime": {
     "start_time": "2024-02-27T13:12:24.057838Z",
     "end_time": "2024-02-27T13:12:24.093339Z"
    }
   }
  },
  {
   "cell_type": "markdown",
   "source": [
    "# 1. 数据预处理"
   ],
   "metadata": {
    "collapsed": false
   }
  },
  {
   "cell_type": "code",
   "execution_count": 6,
   "outputs": [],
   "source": [
    "def loadData():\n",
    "    xData = list()\n",
    "    yData = list()\n",
    "    labelNameDict = dict()\n",
    "    dataPath = \"./GarbageClassification/\"\n",
    "    listdir = os.listdir(dataPath)\n",
    "    for label, labelName in enumerate(listdir):\n",
    "        labelNameDict[label] = labelName\n",
    "        for filename in os.listdir(dataPath + labelName):\n",
    "            if not filename.endswith('.jpg'):\n",
    "                continue\n",
    "            imageSize = (32, 32)\n",
    "            x = PIL.Image.open(dataPath + labelName + '/' + filename).resize(imageSize)\n",
    "            x = torch.FloatTensor(np.array(x)) / 255\n",
    "            # [32, 32, 3] -> [3, 32, 32]\n",
    "            x = x.permute(2, 0, 1)\n",
    "            xData.append(x)\n",
    "            yData.append(label)\n",
    "    return xData, yData, labelNameDict"
   ],
   "metadata": {
    "collapsed": false,
    "ExecuteTime": {
     "start_time": "2024-02-27T13:21:56.122519Z",
     "end_time": "2024-02-27T13:21:56.138687Z"
    }
   }
  },
  {
   "cell_type": "code",
   "execution_count": 7,
   "outputs": [],
   "source": [
    "xData, yData, labelNameDict = loadData()"
   ],
   "metadata": {
    "collapsed": false,
    "ExecuteTime": {
     "start_time": "2024-02-27T13:22:10.885484Z",
     "end_time": "2024-02-27T13:22:25.565762Z"
    }
   }
  },
  {
   "cell_type": "code",
   "execution_count": 8,
   "outputs": [
    {
     "data": {
      "text/plain": "(15515, 15515, torch.Size([3, 32, 32]), 0)"
     },
     "execution_count": 8,
     "metadata": {},
     "output_type": "execute_result"
    }
   ],
   "source": [
    "len(xData), len(yData), xData[0].shape, yData[0]"
   ],
   "metadata": {
    "collapsed": false,
    "ExecuteTime": {
     "start_time": "2024-02-27T13:23:02.852532Z",
     "end_time": "2024-02-27T13:23:02.864404Z"
    }
   }
  },
  {
   "cell_type": "code",
   "execution_count": 9,
   "outputs": [],
   "source": [
    "class Dataset(Data.Dataset):\n",
    "    def __init__(self):\n",
    "        pass\n",
    "    def __len__(self):\n",
    "        return len(xData)\n",
    "    def __getitem__(self, i):\n",
    "        return xData[i], yData[i]"
   ],
   "metadata": {
    "collapsed": false,
    "ExecuteTime": {
     "start_time": "2024-02-27T13:24:56.353660Z",
     "end_time": "2024-02-27T13:24:56.366077Z"
    }
   }
  },
  {
   "cell_type": "code",
   "execution_count": 10,
   "outputs": [],
   "source": [
    "dataset = Dataset()"
   ],
   "metadata": {
    "collapsed": false,
    "ExecuteTime": {
     "start_time": "2024-02-27T13:25:04.929669Z",
     "end_time": "2024-02-27T13:25:04.956331Z"
    }
   }
  },
  {
   "cell_type": "code",
   "execution_count": 11,
   "outputs": [],
   "source": [
    "# 数据集加载器\n",
    "loader = Data.DataLoader(dataset=dataset,\n",
    "                         batch_size=8,\n",
    "                         shuffle=True,\n",
    "                         drop_last=True)"
   ],
   "metadata": {
    "collapsed": false,
    "ExecuteTime": {
     "start_time": "2024-02-27T13:26:01.610910Z",
     "end_time": "2024-02-27T13:26:01.622355Z"
    }
   }
  },
  {
   "cell_type": "code",
   "execution_count": 12,
   "outputs": [],
   "source": [
    "x, y = next(iter(loader))"
   ],
   "metadata": {
    "collapsed": false,
    "ExecuteTime": {
     "start_time": "2024-02-27T13:26:11.619877Z",
     "end_time": "2024-02-27T13:26:11.648081Z"
    }
   }
  },
  {
   "cell_type": "code",
   "execution_count": 13,
   "outputs": [
    {
     "data": {
      "text/plain": "(1939, torch.Size([8, 3, 32, 32]), tensor([7, 2, 7, 0, 6, 4, 4, 2]))"
     },
     "execution_count": 13,
     "metadata": {},
     "output_type": "execute_result"
    }
   ],
   "source": [
    "len(loader), x.shape, y"
   ],
   "metadata": {
    "collapsed": false,
    "ExecuteTime": {
     "start_time": "2024-02-27T13:26:33.222642Z",
     "end_time": "2024-02-27T13:26:33.245487Z"
    }
   }
  },
  {
   "cell_type": "markdown",
   "source": [
    "# 2. 模型构建"
   ],
   "metadata": {
    "collapsed": false
   }
  },
  {
   "cell_type": "code",
   "execution_count": 17,
   "outputs": [],
   "source": [
    "class Model(nn.Module):\n",
    "    def __init__(self):\n",
    "        super().__init__()\n",
    "        self.cnn1 = nn.Conv2d(in_channels=3,\n",
    "                              out_channels=16,\n",
    "                              kernel_size=5,\n",
    "                              stride=2,\n",
    "                              padding=0)\n",
    "        self.cnn2 = nn.Conv2d(in_channels=16,\n",
    "                              out_channels=32,\n",
    "                              kernel_size=3,\n",
    "                              stride=1,\n",
    "                              padding=1)\n",
    "        self.cnn3 = nn.Conv2d(in_channels=32,\n",
    "                              out_channels=128,\n",
    "                              kernel_size=7,\n",
    "                              stride=1,\n",
    "                              padding=0)\n",
    "        self.pool = nn.MaxPool2d(kernel_size=2, stride=2)\n",
    "        self.relu = nn.ReLU()\n",
    "        self.fc = nn.Linear(in_features=128, out_features=12)\n",
    "    def forward(self, x):\n",
    "        # [8 3 32 32] -> [8 16 14 14]\n",
    "        x = self.cnn1(x)\n",
    "        x = self.relu(x)\n",
    "        # [8 16 14 14] -> [8 32 14 14]\n",
    "        x = self.cnn2(x)\n",
    "        x = self.relu(x)\n",
    "        # [8 32 14 14] -> [8 32 7 7]\n",
    "        x = self.pool(x)\n",
    "        # [8 32 7 7] -> [8 128 1 1]\n",
    "        x = self.cnn3(x)\n",
    "        x = self.relu(x)\n",
    "        # [8 128 1 1] -> [8 128]\n",
    "        x = x.flatten(start_dim=1)\n",
    "        return self.fc(x)"
   ],
   "metadata": {
    "collapsed": false,
    "ExecuteTime": {
     "start_time": "2024-02-27T13:38:53.305685Z",
     "end_time": "2024-02-27T13:38:53.322079Z"
    }
   }
  },
  {
   "cell_type": "code",
   "execution_count": 18,
   "outputs": [],
   "source": [
    "model = Model().to(device)"
   ],
   "metadata": {
    "collapsed": false,
    "ExecuteTime": {
     "start_time": "2024-02-27T13:38:53.777031Z",
     "end_time": "2024-02-27T13:38:53.796011Z"
    }
   }
  },
  {
   "cell_type": "code",
   "execution_count": 19,
   "outputs": [
    {
     "data": {
      "text/plain": "Model(\n  (cnn1): Conv2d(3, 16, kernel_size=(5, 5), stride=(2, 2))\n  (cnn2): Conv2d(16, 32, kernel_size=(3, 3), stride=(1, 1), padding=(1, 1))\n  (cnn3): Conv2d(32, 128, kernel_size=(7, 7), stride=(1, 1))\n  (pool): MaxPool2d(kernel_size=2, stride=2, padding=0, dilation=1, ceil_mode=False)\n  (relu): ReLU()\n  (fc): Linear(in_features=128, out_features=12, bias=True)\n)"
     },
     "execution_count": 19,
     "metadata": {},
     "output_type": "execute_result"
    }
   ],
   "source": [
    "model"
   ],
   "metadata": {
    "collapsed": false,
    "ExecuteTime": {
     "start_time": "2024-02-27T13:38:54.175197Z",
     "end_time": "2024-02-27T13:38:54.200956Z"
    }
   }
  },
  {
   "cell_type": "markdown",
   "source": [
    "# 3. 训练"
   ],
   "metadata": {
    "collapsed": false
   }
  },
  {
   "cell_type": "code",
   "execution_count": 20,
   "outputs": [],
   "source": [
    "def train():\n",
    "    optimizer = torch.optim.Adam(model.parameters(), lr=1e-3)\n",
    "    loss_fun = nn.CrossEntropyLoss()\n",
    "    model.train()\n",
    "    for epoch in range(5):\n",
    "        for step, (x, y) in enumerate(loader):\n",
    "            out = model(x.to(device))\n",
    "            loss = loss_fun(out.to(\"cpu\"), y)\n",
    "            loss.backward()\n",
    "            optimizer.step()\n",
    "            optimizer.zero_grad()\n",
    "            if step % 200 == 0:\n",
    "                acc = (out.to(\"cpu\").argmax(dim=1) == y).sum().item() / len(y)\n",
    "                print(f\"epoch：{epoch}轮，序号：{step:<5}，损失：{loss.item():<20}，准确率：{acc}\")\n",
    "    torch.save(model, \"./8垃圾分类.model\")"
   ],
   "metadata": {
    "collapsed": false,
    "ExecuteTime": {
     "start_time": "2024-02-27T13:44:12.310349Z",
     "end_time": "2024-02-27T13:44:12.325253Z"
    }
   }
  },
  {
   "cell_type": "code",
   "execution_count": 21,
   "outputs": [
    {
     "name": "stdout",
     "output_type": "stream",
     "text": [
      "epoch：0轮，序号：0    ，损失：2.503471851348877   ，准确率：0.125\n",
      "epoch：0轮，序号：200  ，损失：1.2967288494110107  ，准确率：0.75\n",
      "epoch：0轮，序号：400  ，损失：1.1134116649627686  ，准确率：0.5\n",
      "epoch：0轮，序号：600  ，损失：1.2212257385253906  ，准确率：0.5\n",
      "epoch：0轮，序号：800  ，损失：1.2191386222839355  ，准确率：0.625\n",
      "epoch：0轮，序号：1000 ，损失：0.8548066020011902  ，准确率：0.75\n",
      "epoch：0轮，序号：1200 ，损失：1.682559847831726   ，准确率：0.5\n",
      "epoch：0轮，序号：1400 ，损失：0.9609918594360352  ，准确率：0.5\n",
      "epoch：0轮，序号：1600 ，损失：1.003648042678833   ，准确率：0.625\n",
      "epoch：0轮，序号：1800 ，损失：0.5490646958351135  ，准确率：0.875\n",
      "epoch：1轮，序号：0    ，损失：0.31221550703048706 ，准确率：1.0\n",
      "epoch：1轮，序号：200  ，损失：1.282550573348999   ，准确率：0.375\n",
      "epoch：1轮，序号：400  ，损失：0.8704104423522949  ，准确率：0.75\n",
      "epoch：1轮，序号：600  ，损失：0.9703871607780457  ，准确率：0.625\n",
      "epoch：1轮，序号：800  ，损失：1.2325772047042847  ，准确率：0.625\n",
      "epoch：1轮，序号：1000 ，损失：1.3303632736206055  ，准确率：0.75\n",
      "epoch：1轮，序号：1200 ，损失：0.9955060482025146  ，准确率：0.75\n",
      "epoch：1轮，序号：1400 ，损失：0.8197326064109802  ，准确率：0.75\n",
      "epoch：1轮，序号：1600 ，损失：0.5793080925941467  ，准确率：0.75\n",
      "epoch：1轮，序号：1800 ，损失：0.5606542229652405  ，准确率：0.75\n",
      "epoch：2轮，序号：0    ，损失：1.0909918546676636  ，准确率：0.625\n",
      "epoch：2轮，序号：200  ，损失：1.0041959285736084  ，准确率：0.625\n",
      "epoch：2轮，序号：400  ，损失：1.0792851448059082  ，准确率：0.625\n",
      "epoch：2轮，序号：600  ，损失：1.0185948610305786  ，准确率：0.625\n",
      "epoch：2轮，序号：800  ，损失：0.8709367513656616  ，准确率：0.625\n",
      "epoch：2轮，序号：1000 ，损失：1.6275626420974731  ，准确率：0.5\n",
      "epoch：2轮，序号：1200 ，损失：0.5833678841590881  ，准确率：0.75\n",
      "epoch：2轮，序号：1400 ，损失：0.4884558916091919  ，准确率：0.875\n",
      "epoch：2轮，序号：1600 ，损失：0.5943536758422852  ，准确率：0.875\n",
      "epoch：2轮，序号：1800 ，损失：1.2542316913604736  ，准确率：0.5\n",
      "epoch：3轮，序号：0    ，损失：0.9458054900169373  ，准确率：0.75\n",
      "epoch：3轮，序号：200  ，损失：0.5438292026519775  ，准确率：0.875\n",
      "epoch：3轮，序号：400  ，损失：0.09051486104726791 ，准确率：1.0\n",
      "epoch：3轮，序号：600  ，损失：1.6955482959747314  ，准确率：0.75\n",
      "epoch：3轮，序号：800  ，损失：1.4091261625289917  ，准确率：0.375\n",
      "epoch：3轮，序号：1000 ，损失：1.2554012537002563  ，准确率：0.625\n",
      "epoch：3轮，序号：1200 ，损失：1.7403936386108398  ，准确率：0.375\n",
      "epoch：3轮，序号：1400 ，损失：0.9356940388679504  ，准确率：0.625\n",
      "epoch：3轮，序号：1600 ，损失：1.0203810930252075  ，准确率：0.5\n",
      "epoch：3轮，序号：1800 ，损失：0.21846193075180054 ，准确率：1.0\n",
      "epoch：4轮，序号：0    ，损失：0.8299210071563721  ，准确率：0.75\n",
      "epoch：4轮，序号：200  ，损失：0.9905428886413574  ，准确率：0.75\n",
      "epoch：4轮，序号：400  ，损失：0.4634370505809784  ，准确率：0.75\n",
      "epoch：4轮，序号：600  ，损失：0.5384348630905151  ，准确率：0.875\n",
      "epoch：4轮，序号：800  ，损失：0.3205028176307678  ，准确率：0.875\n",
      "epoch：4轮，序号：1000 ，损失：0.439424991607666   ，准确率：0.875\n",
      "epoch：4轮，序号：1200 ，损失：1.579519510269165   ，准确率：0.375\n",
      "epoch：4轮，序号：1400 ，损失：0.6077135801315308  ，准确率：0.875\n",
      "epoch：4轮，序号：1600 ，损失：1.0746151208877563  ，准确率：0.625\n",
      "epoch：4轮，序号：1800 ，损失：1.0767202377319336  ，准确率：0.5\n"
     ]
    }
   ],
   "source": [
    "train()"
   ],
   "metadata": {
    "collapsed": false,
    "ExecuteTime": {
     "start_time": "2024-02-27T13:44:16.307574Z",
     "end_time": "2024-02-27T13:44:31.624629Z"
    }
   }
  },
  {
   "cell_type": "markdown",
   "source": [
    "# 4. 测试"
   ],
   "metadata": {
    "collapsed": false
   }
  },
  {
   "cell_type": "code",
   "execution_count": 22,
   "outputs": [],
   "source": [
    "@torch.no_grad()\n",
    "def test():\n",
    "    model = torch.load(\"./8垃圾分类.model\").to(\"cpu\")\n",
    "    model.eval()\n",
    "    correct = 0\n",
    "    total = 0\n",
    "    for i in range(100):\n",
    "        x, y = next(iter(loader))\n",
    "        out = model(x).argmax(dim=1)\n",
    "        correct += (out == y).sum().item()\n",
    "        total += len(y)\n",
    "    print(\"准确率：\" + str(correct / total))"
   ],
   "metadata": {
    "collapsed": false,
    "ExecuteTime": {
     "start_time": "2024-02-27T13:47:34.827027Z",
     "end_time": "2024-02-27T13:47:34.842424Z"
    }
   }
  },
  {
   "cell_type": "code",
   "execution_count": 23,
   "outputs": [
    {
     "name": "stdout",
     "output_type": "stream",
     "text": [
      "准确率：0.8175\n"
     ]
    }
   ],
   "source": [
    "test()"
   ],
   "metadata": {
    "collapsed": false,
    "ExecuteTime": {
     "start_time": "2024-02-27T13:47:37.497223Z",
     "end_time": "2024-02-27T13:47:37.636002Z"
    }
   }
  },
  {
   "cell_type": "markdown",
   "source": [
    "# 5. 可视化"
   ],
   "metadata": {
    "collapsed": false
   }
  },
  {
   "cell_type": "code",
   "execution_count": 25,
   "outputs": [
    {
     "data": {
      "text/plain": "torch.Size([8, 3, 32, 32])"
     },
     "execution_count": 25,
     "metadata": {},
     "output_type": "execute_result"
    }
   ],
   "source": [
    "x, y = next(iter(loader))\n",
    "model = torch.load(\"./8垃圾分类.model\").to(\"cpu\")\n",
    "out = model(x).argmax(dim=1)\n",
    "x.shape"
   ],
   "metadata": {
    "collapsed": false,
    "ExecuteTime": {
     "start_time": "2024-02-27T13:51:21.602401Z",
     "end_time": "2024-02-27T13:51:21.626356Z"
    }
   }
  },
  {
   "cell_type": "code",
   "execution_count": 26,
   "outputs": [
    {
     "data": {
      "text/plain": "<function matplotlib.pyplot.show(close=None, block=None)>"
     },
     "execution_count": 26,
     "metadata": {},
     "output_type": "execute_result"
    },
    {
     "data": {
      "text/plain": "<Figure size 1500x500 with 8 Axes>",
      "image/png": "[encoded data removed]"
     },
     "metadata": {},
     "output_type": "display_data"
    }
   ],
   "source": [
    "plt.rcParams['font.sans-serif'] = ['SimHei']\n",
    "titles = [f\"预测{labelNameDict[pre]}，真实：{labelNameDict[label]}\" for pre, label in zip(out.tolist(), y.tolist())]\n",
    "image = [img for img in x.permute(0, 2, 3, 1).numpy()]\n",
    "plt.figure(figsize=(15, 5))\n",
    "for i in range(8):\n",
    "    plt.subplot(2, 4, i + 1)\n",
    "    plt.imshow(image[i])\n",
    "    plt.title(titles[i])\n",
    "    plt.xticks([]),plt.yticks([])\n",
    "plt.show"
   ],
   "metadata": {
    "collapsed": false,
    "ExecuteTime": {
     "start_time": "2024-02-27T13:53:59.959007Z",
     "end_time": "2024-02-27T13:54:00.143260Z"
    }
   }
  },
  {
   "cell_type": "code",
   "execution_count": null,
   "outputs": [],
   "source": [],
   "metadata": {
    "collapsed": false
   }
  }
 ],
 "metadata": {
  "kernelspec": {
   "name": "pytorchpy39",
   "language": "python",
   "display_name": "pytorchpy39"
  },
  "language_info": {
   "codemirror_mode": {
    "name": "ipython",
    "version": 2
   },
   "file_extension": ".py",
   "mimetype": "text/x-python",
   "name": "python",
   "nbconvert_exporter": "python",
   "pygments_lexer": "ipython2",
   "version": "2.7.6"
  }
 },
 "nbformat": 4,
 "nbformat_minor": 0
}
